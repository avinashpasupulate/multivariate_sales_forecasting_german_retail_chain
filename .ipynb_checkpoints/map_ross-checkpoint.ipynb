{
 "cells": [
  {
   "cell_type": "code",
   "execution_count": 1,
   "metadata": {
    "collapsed": true
   },
   "outputs": [],
   "source": [
    "%matplotlib inline\n",
    "from matplotlib import pyplot as plt\n",
    "import pandas as pd\n",
    "import numpy as np\n",
    "import os"
   ]
  },
  {
   "cell_type": "markdown",
   "metadata": {},
   "source": [
    "# Putting stores on a map\n",
    "\n",
    "Kaggle competition [Rossmann Store Sales](https://www.kaggle.com/c/rossmann-store-sales) contains sales data for 1115 Rossmann stores across Germany. The data includes information on school and state holidays. In this notebook I use holidays data to determine which state of Germany each store is located in.\n",
    "\n",
    "External sources used:\n",
    "\n",
    "* Public holidays data from http://www.timeanddate.com/holidays/germany/2013\n",
    "* School holidays data from http://www.holidays-info.com/School-Holidays-Germany/2015/school-holidays_2015.html"
   ]
  },
  {
   "cell_type": "code",
   "execution_count": 2,
   "metadata": {},
   "outputs": [],
   "source": [
    "train = pd.read_csv(os.path.join('..','Data','train.csv'),parse_dates=['Date'],dtype = {'StateHoliday':object})\n",
    "test = pd.read_csv(os.path.join('..','Data','test.csv'),parse_dates=['Date'])\n",
    "# Fix StateHoliday column\n",
    "train.loc[train.StateHoliday == 0,'StateHoliday'] = '0'"
   ]
  },
  {
   "cell_type": "markdown",
   "metadata": {},
   "source": [
    "## Public holidays dates\n",
    "\n",
    "Let's look at public holiday dates and numbers of stores celebrating them."
   ]
  },
  {
   "cell_type": "code",
   "execution_count": 3,
   "metadata": {},
   "outputs": [
    {
     "data": {
      "text/plain": [
       "Date\n",
       "2013-01-01    1114\n",
       "2013-01-06     309\n",
       "2013-05-01    1115\n",
       "2013-05-09    1115\n",
       "2013-05-20    1115\n",
       "2013-05-30     766\n",
       "2013-08-15     180\n",
       "2013-10-03    1115\n",
       "2013-10-31     167\n",
       "2013-11-01     579\n",
       "2013-11-20      75\n",
       "2014-01-01    1115\n",
       "2014-01-06     309\n",
       "2014-05-01    1115\n",
       "2014-05-29    1115\n",
       "2014-06-09    1115\n",
       "2014-06-19     766\n",
       "2014-10-03     935\n",
       "2014-10-31     167\n",
       "2014-11-01     399\n",
       "2014-11-19      75\n",
       "2015-01-01    1079\n",
       "2015-01-06     309\n",
       "2015-05-01    1115\n",
       "2015-05-14    1115\n",
       "2015-05-25    1115\n",
       "2015-06-04     766\n",
       "Name: Store, dtype: int64"
      ]
     },
     "execution_count": 3,
     "metadata": {},
     "output_type": "execute_result"
    }
   ],
   "source": [
    "holid = train.loc[train.StateHoliday=='a']\n",
    "bydate = holid.groupby('Date')['Store'].count()\n",
    "bydate"
   ]
  },
  {
   "cell_type": "code",
   "execution_count": 4,
   "metadata": {},
   "outputs": [
    {
     "data": {
      "text/plain": [
       "2013    Axes(0.125,0.2;0.775x0.7)\n",
       "2014    Axes(0.125,0.2;0.775x0.7)\n",
       "2015    Axes(0.125,0.2;0.775x0.7)\n",
       "dtype: object"
      ]
     },
     "execution_count": 4,
     "metadata": {},
     "output_type": "execute_result"
    },
    {
     "data": {
      "image/png": "[encoded data removed]",
      "text/plain": [
       "<matplotlib.figure.Figure at 0x51f6990>"
      ]
     },
     "metadata": {},
     "output_type": "display_data"
    }
   ],
   "source": [
    "bydate.groupby(bydate.index.year).plot(style='-o')"
   ]
  },
  {
   "cell_type": "markdown",
   "metadata": {},
   "source": [
    "We see that different dates refer to public holidays in some stores but not in the others. German public holidays differ state by state. So we can use holidays data to figure out what state a store is located in. "
   ]
  },
  {
   "cell_type": "markdown",
   "metadata": {},
   "source": [
    "## Figuring out the states from holiday dates\n",
    "\n",
    "I'm using public holidays data from http://www.timeanddate.com/holidays/germany/2013.\n",
    "\n",
    "2013-11-20 is Repentance Day in Saxony (SN). "
   ]
  },
  {
   "cell_type": "code",
   "execution_count": 5,
   "metadata": {},
   "outputs": [
    {
     "name": "stdout",
     "output_type": "stream",
     "text": [
      "75 stores located in Saxony.\n"
     ]
    }
   ],
   "source": [
    "SN = holid.loc[holid.Date == '2013-11-20','Store'].values\n",
    "print('{} stores located in Saxony.'.format(SN.shape[0]))"
   ]
  },
  {
   "cell_type": "markdown",
   "metadata": {},
   "source": [
    "2013-01-06 is Epiphany in BW, BY, ST."
   ]
  },
  {
   "cell_type": "code",
   "execution_count": 6,
   "metadata": {},
   "outputs": [
    {
     "name": "stdout",
     "output_type": "stream",
     "text": [
      "309 stores located in BW, BY, ST.\n"
     ]
    }
   ],
   "source": [
    "BW_BY_ST = holid.loc[holid.Date == '2013-01-06','Store'].values\n",
    "print('{} stores located in BW, BY, ST.'.format(BW_BY_ST.shape[0]))"
   ]
  },
  {
   "cell_type": "markdown",
   "metadata": {},
   "source": [
    "2013-05-30 is Corpus Christi in BW, BY, HE, NW, RP, SL."
   ]
  },
  {
   "cell_type": "code",
   "execution_count": 7,
   "metadata": {},
   "outputs": [
    {
     "name": "stdout",
     "output_type": "stream",
     "text": [
      "766 stores located in BW, BY, HE, NW, RP, SL.\n"
     ]
    }
   ],
   "source": [
    "BW_BY_HE_NW_RP_SL = holid.loc[holid.Date == '2013-05-30','Store'].values\n",
    "print('{} stores located in BW, BY, HE, NW, RP, SL.'.format(BW_BY_HE_NW_RP_SL.shape[0]))"
   ]
  },
  {
   "cell_type": "markdown",
   "metadata": {},
   "source": [
    "For some reason this list also contains stores from Saxony (SN):"
   ]
  },
  {
   "cell_type": "code",
   "execution_count": 8,
   "metadata": {
    "scrolled": true
   },
   "outputs": [
    {
     "data": {
      "text/plain": [
       "True"
      ]
     },
     "execution_count": 8,
     "metadata": {},
     "output_type": "execute_result"
    }
   ],
   "source": [
    "np.array_equal(np.intersect1d(BW_BY_HE_NW_RP_SL,SN),SN)"
   ]
  },
  {
   "cell_type": "markdown",
   "metadata": {},
   "source": [
    "I'll delete Saxony stores from here:"
   ]
  },
  {
   "cell_type": "code",
   "execution_count": 9,
   "metadata": {},
   "outputs": [
    {
     "name": "stdout",
     "output_type": "stream",
     "text": [
      "691 stores located in BW, BY, HE, NW, RP, SL.\n"
     ]
    }
   ],
   "source": [
    "BW_BY_HE_NW_RP_SL = np.setxor1d(BW_BY_HE_NW_RP_SL, SN)\n",
    "print('{} stores located in BW, BY, HE, NW, RP, SL.'.format(BW_BY_HE_NW_RP_SL.shape[0]))"
   ]
  },
  {
   "cell_type": "markdown",
   "metadata": {},
   "source": [
    "2013-08-15 is the Assumption of Mary in BY, SL"
   ]
  },
  {
   "cell_type": "code",
   "execution_count": 10,
   "metadata": {},
   "outputs": [
    {
     "name": "stdout",
     "output_type": "stream",
     "text": [
      "180 stores located in BY,SL.\n"
     ]
    }
   ],
   "source": [
    "BY_SL = holid.loc[holid.Date =='2013-08-15','Store'].values\n",
    "print('{} stores located in BY,SL.'.format(BY_SL.shape[0]))"
   ]
  },
  {
   "cell_type": "markdown",
   "metadata": {},
   "source": [
    "2013-10-31 is Reformation Day in BB, MV, SN, ST, TH"
   ]
  },
  {
   "cell_type": "code",
   "execution_count": 11,
   "metadata": {},
   "outputs": [
    {
     "name": "stdout",
     "output_type": "stream",
     "text": [
      "167 stores located in BB, MV, SN, ST, TH.\n"
     ]
    }
   ],
   "source": [
    "BB_MV_SN_ST_TH = holid.loc[holid.Date =='2013-10-31','Store'].values\n",
    "print('{} stores located in BB, MV, SN, ST, TH.'.format(BB_MV_SN_ST_TH.shape[0]))"
   ]
  },
  {
   "cell_type": "markdown",
   "metadata": {},
   "source": [
    "2013-11-01 is All Saints' Day in BW, BY, NW, RP, SL"
   ]
  },
  {
   "cell_type": "code",
   "execution_count": 12,
   "metadata": {},
   "outputs": [
    {
     "name": "stdout",
     "output_type": "stream",
     "text": [
      "579 stores located in BW, BY, NW, RP, SL.\n"
     ]
    }
   ],
   "source": [
    "BW_BY_NW_RP_SL = holid.loc[holid.Date =='2013-11-01','Store'].values\n",
    "print('{} stores located in BW, BY, NW, RP, SL.'.format(BW_BY_NW_RP_SL.shape[0]))"
   ]
  },
  {
   "cell_type": "markdown",
   "metadata": {},
   "source": [
    "Now let's do some intersecting and setxoring =)."
   ]
  },
  {
   "cell_type": "code",
   "execution_count": 13,
   "metadata": {},
   "outputs": [
    {
     "name": "stdout",
     "output_type": "stream",
     "text": [
      "253 stores located in BW, BY.\n"
     ]
    }
   ],
   "source": [
    "BW_BY = np.intersect1d(BW_BY_ST, BW_BY_HE_NW_RP_SL)\n",
    "print('{} stores located in BW, BY.'.format(BW_BY.shape[0]))"
   ]
  },
  {
   "cell_type": "code",
   "execution_count": 14,
   "metadata": {},
   "outputs": [
    {
     "name": "stdout",
     "output_type": "stream",
     "text": [
      "56 stores located in ST.\n"
     ]
    }
   ],
   "source": [
    "ST = np.setxor1d(BW_BY_ST, BW_BY)\n",
    "print('{} stores located in ST.'.format(ST.shape[0]))"
   ]
  },
  {
   "cell_type": "code",
   "execution_count": 15,
   "metadata": {},
   "outputs": [
    {
     "name": "stdout",
     "output_type": "stream",
     "text": [
      "180 stores located in BY.\n"
     ]
    }
   ],
   "source": [
    "BY = np.intersect1d(BW_BY, BY_SL)\n",
    "print('{} stores located in BY.'.format(BY.shape[0]))"
   ]
  },
  {
   "cell_type": "code",
   "execution_count": 16,
   "metadata": {},
   "outputs": [
    {
     "name": "stdout",
     "output_type": "stream",
     "text": [
      "0 stores located in SL.\n"
     ]
    }
   ],
   "source": [
    "SL = np.setxor1d(BY, BY_SL)\n",
    "print('{} stores located in SL.'.format(SL.shape[0]))"
   ]
  },
  {
   "cell_type": "code",
   "execution_count": 17,
   "metadata": {},
   "outputs": [
    {
     "name": "stdout",
     "output_type": "stream",
     "text": [
      "73 stores located in BW.\n"
     ]
    }
   ],
   "source": [
    "BW = np.setxor1d(BW_BY, BY)\n",
    "print('{} stores located in BW.'.format(BW.shape[0]))"
   ]
  },
  {
   "cell_type": "code",
   "execution_count": 18,
   "metadata": {},
   "outputs": [
    {
     "name": "stdout",
     "output_type": "stream",
     "text": [
      "112 stores located in HE.\n"
     ]
    }
   ],
   "source": [
    "HE = np.setxor1d(BW_BY_HE_NW_RP_SL,BW_BY_NW_RP_SL)\n",
    "print('{} stores located in HE.'.format(HE.shape[0]))"
   ]
  },
  {
   "cell_type": "code",
   "execution_count": 19,
   "metadata": {},
   "outputs": [
    {
     "name": "stdout",
     "output_type": "stream",
     "text": [
      "36 stores located in BB, MV, TH.\n"
     ]
    }
   ],
   "source": [
    "BB_MV_TH = np.setxor1d(np.setxor1d(BB_MV_SN_ST_TH,SN),ST)\n",
    "print('{} stores located in BB, MV, TH.'.format(BB_MV_TH.shape[0]))"
   ]
  },
  {
   "cell_type": "code",
   "execution_count": 20,
   "metadata": {},
   "outputs": [
    {
     "name": "stdout",
     "output_type": "stream",
     "text": [
      "326 stores located in NW, RP.\n"
     ]
    }
   ],
   "source": [
    "NW_RP = np.setxor1d(BW_BY_NW_RP_SL,BW_BY) # SL has 0 stores\n",
    "print('{} stores located in NW, RP.'.format(NW_RP.shape[0]))"
   ]
  },
  {
   "cell_type": "code",
   "execution_count": 21,
   "metadata": {},
   "outputs": [],
   "source": [
    "allstores = np.unique(train.Store.values)"
   ]
  },
  {
   "cell_type": "code",
   "execution_count": 22,
   "metadata": {},
   "outputs": [
    {
     "name": "stdout",
     "output_type": "stream",
     "text": [
      "257 stores located in BE, HB, HH, NI, SH.\n"
     ]
    }
   ],
   "source": [
    "BE_HB_HH_NI_SH = np.setxor1d(np.setxor1d(allstores,BW_BY_HE_NW_RP_SL),BB_MV_SN_ST_TH)\n",
    "print('{} stores located in BE, HB, HH, NI, SH.'.format(BE_HB_HH_NI_SH.shape[0]))"
   ]
  },
  {
   "cell_type": "markdown",
   "metadata": {},
   "source": [
    "### Checking results\n",
    "\n",
    "We should now have 1115 stores in 16 states."
   ]
  },
  {
   "cell_type": "code",
   "execution_count": 23,
   "metadata": {},
   "outputs": [
    {
     "name": "stdout",
     "output_type": "stream",
     "text": [
      "257 stores located in BE, HB, HH, NI, SH.\n",
      "326 stores located in NW, RP.\n",
      "36 stores located in BB, MV, TH.\n",
      "112 stores located in HE.\n",
      "180 stores located in BY.\n",
      "56 stores located in ST.\n",
      "0 stores located in SL.\n",
      "73 stores located in BW.\n",
      "75 stores located in SN.\n"
     ]
    }
   ],
   "source": [
    "print('{} stores located in BE, HB, HH, NI, SH.'.format(BE_HB_HH_NI_SH.shape[0]))\n",
    "print('{} stores located in NW, RP.'.format(NW_RP.shape[0]))\n",
    "print('{} stores located in BB, MV, TH.'.format(BB_MV_TH.shape[0]))\n",
    "print('{} stores located in HE.'.format(HE.shape[0]))\n",
    "print('{} stores located in BY.'.format(BY.shape[0]))\n",
    "print('{} stores located in ST.'.format(ST.shape[0]))\n",
    "print('{} stores located in SL.'.format(SL.shape[0]))\n",
    "print('{} stores located in BW.'.format(BW.shape[0]))\n",
    "print('{} stores located in SN.'.format(SN.shape[0]))"
   ]
  },
  {
   "cell_type": "code",
   "execution_count": 24,
   "metadata": {},
   "outputs": [
    {
     "data": {
      "text/plain": [
       "1115"
      ]
     },
     "execution_count": 24,
     "metadata": {},
     "output_type": "execute_result"
    }
   ],
   "source": [
    "257+326+36+112+180+56+73+75"
   ]
  },
  {
   "cell_type": "markdown",
   "metadata": {},
   "source": [
    "We managed to distinguish 6 distinct states and also three groups of 2, 3 and 5 states. Next I'll use public school holidays data to further divide stores.\n",
    "\n",
    "## Further division based on public schools holidays\n",
    "\n",
    "Let's now look at school holidays. I'm using holiday dates from here: http://www.holidays-info.com/School-Holidays-Germany/2015/school-holidays_2015.html.\n",
    "\n",
    "Public school holidays vary state by state. We can use this fact to check that our single-state groups do in fact contain stores with same school holiday dates and maybe to further divide groups that still contain several states."
   ]
  },
  {
   "cell_type": "code",
   "execution_count": 25,
   "metadata": {},
   "outputs": [
    {
     "data": {
      "text/plain": [
       "<matplotlib.axes._subplots.AxesSubplot at 0x5d4a150>"
      ]
     },
     "execution_count": 25,
     "metadata": {},
     "output_type": "execute_result"
    },
    {
     "data": {
      "image/png": "[encoded data removed]",
      "text/plain": [
       "<matplotlib.figure.Figure at 0x5b18b50>"
      ]
     },
     "metadata": {},
     "output_type": "display_data"
    }
   ],
   "source": [
    "train.loc[train.Store.isin(SN)].groupby('Date')['SchoolHoliday'].sum().plot()"
   ]
  },
  {
   "cell_type": "markdown",
   "metadata": {},
   "source": [
    "If we sum SchoolHoliday grouping by date for every state we should get two possible values - either no stores have school holidays or all of them do."
   ]
  },
  {
   "cell_type": "code",
   "execution_count": 26,
   "metadata": {},
   "outputs": [
    {
     "data": {
      "text/plain": [
       "0     770\n",
       "75    172\n",
       "dtype: int64"
      ]
     },
     "execution_count": 26,
     "metadata": {},
     "output_type": "execute_result"
    }
   ],
   "source": [
    "train.loc[train.Store.isin(SN)].groupby('Date')['SchoolHoliday'].sum().value_counts()"
   ]
  },
  {
   "cell_type": "code",
   "execution_count": 27,
   "metadata": {},
   "outputs": [
    {
     "data": {
      "text/plain": [
       "0      634\n",
       "180    124\n",
       "dtype: int64"
      ]
     },
     "execution_count": 27,
     "metadata": {},
     "output_type": "execute_result"
    }
   ],
   "source": [
    "train.loc[train.Store.isin(BY)].groupby('Date')['SchoolHoliday'].sum().value_counts()"
   ]
  },
  {
   "cell_type": "code",
   "execution_count": 28,
   "metadata": {},
   "outputs": [
    {
     "data": {
      "text/plain": [
       "0      749\n",
       "112    193\n",
       "dtype: int64"
      ]
     },
     "execution_count": 28,
     "metadata": {},
     "output_type": "execute_result"
    }
   ],
   "source": [
    "train.loc[train.Store.isin(HE)].groupby('Date')['SchoolHoliday'].sum().value_counts()"
   ]
  },
  {
   "cell_type": "code",
   "execution_count": 29,
   "metadata": {},
   "outputs": [
    {
     "data": {
      "text/plain": [
       "0     774\n",
       "56    168\n",
       "dtype: int64"
      ]
     },
     "execution_count": 29,
     "metadata": {},
     "output_type": "execute_result"
    }
   ],
   "source": [
    "train.loc[train.Store.isin(ST)].groupby('Date')['SchoolHoliday'].sum().value_counts()"
   ]
  },
  {
   "cell_type": "code",
   "execution_count": 30,
   "metadata": {},
   "outputs": [
    {
     "data": {
      "text/plain": [
       "0     787\n",
       "73    155\n",
       "dtype: int64"
      ]
     },
     "execution_count": 30,
     "metadata": {},
     "output_type": "execute_result"
    }
   ],
   "source": [
    "train.loc[train.Store.isin(BW)].groupby('Date')['SchoolHoliday'].sum().value_counts()"
   ]
  },
  {
   "cell_type": "markdown",
   "metadata": {},
   "source": [
    "So far so good.\n",
    "\n",
    "Now let's look at a group with two states."
   ]
  },
  {
   "cell_type": "code",
   "execution_count": 31,
   "metadata": {},
   "outputs": [
    {
     "data": {
      "text/plain": [
       "0      722\n",
       "326    100\n",
       "286     70\n",
       "40      50\n",
       "dtype: int64"
      ]
     },
     "execution_count": 31,
     "metadata": {},
     "output_type": "execute_result"
    }
   ],
   "source": [
    "train.loc[train.Store.isin(NW_RP)].groupby('Date')['SchoolHoliday'].sum().value_counts()"
   ]
  },
  {
   "cell_type": "markdown",
   "metadata": {},
   "source": [
    "Looks like we have 40 stores in one state and 286 in the other. 2015-03-26 should be a school holiday in RP but not in NW."
   ]
  },
  {
   "cell_type": "code",
   "execution_count": 32,
   "metadata": {},
   "outputs": [
    {
     "name": "stdout",
     "output_type": "stream",
     "text": [
      "40 stores located in RP.\n",
      "286 stores located in NW.\n"
     ]
    }
   ],
   "source": [
    "RP = train.loc[train.Date=='2015-03-26'].loc[train.Store.isin(NW_RP)].loc[train.SchoolHoliday==1,'Store'].values\n",
    "NW = np.setxor1d(NW_RP,RP)\n",
    "print('{} stores located in RP.'.format(RP.shape[0]))\n",
    "print('{} stores located in NW.'.format(NW.shape[0]))"
   ]
  },
  {
   "cell_type": "markdown",
   "metadata": {},
   "source": [
    "Let's look at a group of three states:"
   ]
  },
  {
   "cell_type": "code",
   "execution_count": 33,
   "metadata": {},
   "outputs": [
    {
     "data": {
      "text/plain": [
       "0     775\n",
       "36    167\n",
       "dtype: int64"
      ]
     },
     "execution_count": 33,
     "metadata": {},
     "output_type": "execute_result"
    }
   ],
   "source": [
    "train.loc[train.Store.isin(BB_MV_TH)].groupby('Date')['SchoolHoliday'].sum().value_counts()"
   ]
  },
  {
   "cell_type": "markdown",
   "metadata": {},
   "source": [
    "Ok, it looks like it is in fact one state... Or 2 or 3 with exact same holidays. Let's see the holiday schedule."
   ]
  },
  {
   "cell_type": "code",
   "execution_count": 34,
   "metadata": {},
   "outputs": [
    {
     "data": {
      "text/plain": [
       "1        2015-07-31\n",
       "1116     2015-07-30\n",
       "2231     2015-07-29\n",
       "3346     2015-07-28\n",
       "4461     2015-07-27\n",
       "7806     2015-07-24\n",
       "8921     2015-07-23\n",
       "10036    2015-07-22\n",
       "11151    2015-07-21\n",
       "12266    2015-07-20\n",
       "15611    2015-07-17\n",
       "16726    2015-07-16\n",
       "17841    2015-07-15\n",
       "18956    2015-07-14\n",
       "20071    2015-07-13\n",
       "85856    2015-05-15\n",
       "124881   2015-04-10\n",
       "125996   2015-04-09\n",
       "127111   2015-04-08\n",
       "128226   2015-04-07\n",
       "129341   2015-04-06\n",
       "132686   2015-04-03\n",
       "133801   2015-04-02\n",
       "134916   2015-04-01\n",
       "136031   2015-03-31\n",
       "137146   2015-03-30\n",
       "195126   2015-02-06\n",
       "196241   2015-02-05\n",
       "197356   2015-02-04\n",
       "198471   2015-02-03\n",
       "199586   2015-02-02\n",
       "Name: Date, dtype: datetime64[ns]"
      ]
     },
     "execution_count": 34,
     "metadata": {},
     "output_type": "execute_result"
    }
   ],
   "source": [
    "train.loc[train.Store==(BB_MV_TH[0])].loc[train.Date >= '2015-01-31'].loc[train.SchoolHoliday==1,'Date']"
   ]
  },
  {
   "cell_type": "markdown",
   "metadata": {},
   "source": [
    "Winter holidays not lasting till Feb 14th rule out MV. Easter holidays starting on Mar 30th suggest TH. Confirmed by summer holidays starting on Jul 13th."
   ]
  },
  {
   "cell_type": "code",
   "execution_count": 35,
   "metadata": {},
   "outputs": [
    {
     "name": "stdout",
     "output_type": "stream",
     "text": [
      "36 stores located in TH.\n"
     ]
    }
   ],
   "source": [
    "TH = BB_MV_TH\n",
    "print('{} stores located in TH.'.format(TH.shape[0]))"
   ]
  },
  {
   "cell_type": "markdown",
   "metadata": {},
   "source": [
    "Now the final 5-state group."
   ]
  },
  {
   "cell_type": "code",
   "execution_count": 36,
   "metadata": {},
   "outputs": [
    {
     "data": {
      "text/plain": [
       "0      618\n",
       "22      84\n",
       "257     80\n",
       "28      42\n",
       "235     24\n",
       "229     24\n",
       "92      15\n",
       "114     13\n",
       "143     10\n",
       "120     10\n",
       "115      8\n",
       "207      6\n",
       "137      5\n",
       "256      1\n",
       "165      1\n",
       "50       1\n",
       "dtype: int64"
      ]
     },
     "execution_count": 36,
     "metadata": {},
     "output_type": "execute_result"
    }
   ],
   "source": [
    "train.loc[train.Store.isin(BE_HB_HH_NI_SH)].groupby('Date')['SchoolHoliday'].sum().value_counts()"
   ]
  },
  {
   "cell_type": "markdown",
   "metadata": {},
   "source": [
    "What a mess. There is a lot of states here.\n",
    "\n",
    "Only HH has easter holidays on Mar 2nd. And on May 5th."
   ]
  },
  {
   "cell_type": "code",
   "execution_count": 37,
   "metadata": {},
   "outputs": [
    {
     "name": "stdout",
     "output_type": "stream",
     "text": [
      "28 stores located in HH.\n"
     ]
    }
   ],
   "source": [
    "HH = train.loc[train.Date=='2015-03-02'].loc[train.Store.isin(BE_HB_HH_NI_SH)].loc[train.SchoolHoliday==1,'Store'].values\n",
    "print('{} stores located in HH.'.format(HH.shape[0]))"
   ]
  },
  {
   "cell_type": "code",
   "execution_count": 38,
   "metadata": {},
   "outputs": [
    {
     "data": {
      "text/plain": [
       "True"
      ]
     },
     "execution_count": 38,
     "metadata": {},
     "output_type": "execute_result"
    }
   ],
   "source": [
    "# Just to check\n",
    "HH1 = train.loc[train.Date=='2015-05-11'].loc[train.Store.isin(BE_HB_HH_NI_SH)].loc[train.SchoolHoliday==1,'Store'].values\n",
    "np.array_equal(HH,HH1)"
   ]
  },
  {
   "cell_type": "code",
   "execution_count": 39,
   "metadata": {
    "collapsed": true
   },
   "outputs": [],
   "source": [
    "BE_HB_NI_SH = np.setxor1d(BE_HB_HH_NI_SH,HH)"
   ]
  },
  {
   "cell_type": "markdown",
   "metadata": {},
   "source": [
    "Only SH has holidays on Apr 17th. And on Feb 2nd."
   ]
  },
  {
   "cell_type": "code",
   "execution_count": 40,
   "metadata": {},
   "outputs": [
    {
     "name": "stdout",
     "output_type": "stream",
     "text": [
      "115 stores located in SH.\n"
     ]
    }
   ],
   "source": [
    "SH = train.loc[train.Date=='2015-04-17'].loc[train.Store.isin(BE_HB_NI_SH)].loc[train.SchoolHoliday==1,'Store'].values\n",
    "print('{} stores located in SH.'.format(SH.shape[0]))"
   ]
  },
  {
   "cell_type": "code",
   "execution_count": 41,
   "metadata": {},
   "outputs": [
    {
     "data": {
      "text/plain": [
       "True"
      ]
     },
     "execution_count": 41,
     "metadata": {},
     "output_type": "execute_result"
    }
   ],
   "source": [
    "SH1 = train.loc[train.Date=='2015-02-02'].loc[train.Store.isin(BE_HB_NI_SH)].loc[train.SchoolHoliday==0,'Store'].values\n",
    "np.array_equal(SH,SH1)"
   ]
  },
  {
   "cell_type": "code",
   "execution_count": 42,
   "metadata": {},
   "outputs": [],
   "source": [
    "BE_HB_NI = np.setxor1d(BE_HB_NI_SH,SH)"
   ]
  },
  {
   "cell_type": "markdown",
   "metadata": {},
   "source": [
    "Mar 25th is not a holiday in BE."
   ]
  },
  {
   "cell_type": "code",
   "execution_count": 43,
   "metadata": {},
   "outputs": [
    {
     "name": "stdout",
     "output_type": "stream",
     "text": [
      "92 stores located in BE.\n"
     ]
    }
   ],
   "source": [
    "BE = train.loc[train.Date=='2015-03-25'].loc[train.Store.isin(BE_HB_NI)].loc[train.SchoolHoliday==0,'Store'].values\n",
    "print('{} stores located in BE.'.format(BE.shape[0]))"
   ]
  },
  {
   "cell_type": "code",
   "execution_count": 44,
   "metadata": {
    "collapsed": true
   },
   "outputs": [],
   "source": [
    "HB_NI = np.setxor1d(BE_HB_NI,BE)"
   ]
  },
  {
   "cell_type": "code",
   "execution_count": 45,
   "metadata": {},
   "outputs": [
    {
     "data": {
      "text/plain": [
       "(22,)"
      ]
     },
     "execution_count": 45,
     "metadata": {},
     "output_type": "execute_result"
    }
   ],
   "source": [
    "HB_NI.shape"
   ]
  },
  {
   "cell_type": "markdown",
   "metadata": {},
   "source": [
    "School holidays in these two states are the same..."
   ]
  },
  {
   "cell_type": "code",
   "execution_count": 46,
   "metadata": {},
   "outputs": [
    {
     "data": {
      "text/plain": [
       "0     733\n",
       "22    209\n",
       "dtype: int64"
      ]
     },
     "execution_count": 46,
     "metadata": {},
     "output_type": "execute_result"
    }
   ],
   "source": [
    "train.loc[train.Store.isin(HB_NI)].groupby('Date')['SchoolHoliday'].sum().value_counts()"
   ]
  },
  {
   "cell_type": "markdown",
   "metadata": {},
   "source": [
    "I give up. These two I cannot distinguish.\n",
    "\n",
    "## Saving results"
   ]
  },
  {
   "cell_type": "code",
   "execution_count": 47,
   "metadata": {},
   "outputs": [
    {
     "data": {
      "text/plain": [
       "1115"
      ]
     },
     "execution_count": 47,
     "metadata": {},
     "output_type": "execute_result"
    }
   ],
   "source": [
    "states = pd.Series('',index = allstores,name='State')\n",
    "states.loc[BW] = 'BW'\n",
    "states.loc[BY] = 'BY'\n",
    "states.loc[BE] = 'BE'\n",
    "states.loc[HB_NI] = 'HB,NI'\n",
    "states.loc[HH] = 'HH'\n",
    "states.loc[HE] = 'HE'\n",
    "states.loc[NW] = 'NW'\n",
    "states.loc[RP] = 'RP'\n",
    "states.loc[SN] = 'SN'\n",
    "states.loc[ST] = 'ST'\n",
    "states.loc[SH] = 'SH'\n",
    "states.loc[TH] = 'TH'\n",
    "states[states!=''].value_counts().sum()"
   ]
  },
  {
   "cell_type": "code",
   "execution_count": 48,
   "metadata": {
    "collapsed": true
   },
   "outputs": [],
   "source": [
    "states.to_csv('store_states.csv', header=True, index_label='Store')"
   ]
  },
  {
   "cell_type": "markdown",
   "metadata": {},
   "source": [
    "## Some further analysis\n",
    "\n",
    "Train set contains 1115 stores, but test set contains only 865 stores. Let's see the distributions of stores by state in train and test sets."
   ]
  },
  {
   "cell_type": "code",
   "execution_count": 49,
   "metadata": {},
   "outputs": [
    {
     "data": {
      "text/plain": [
       "<matplotlib.text.Text at 0x5df7d30>"
      ]
     },
     "execution_count": 49,
     "metadata": {},
     "output_type": "execute_result"
    },
    {
     "data": {
      "image/png": "[encoded data removed]",
      "text/plain": [
       "<matplotlib.figure.Figure at 0x5dd5a50>"
      ]
     },
     "metadata": {},
     "output_type": "display_data"
    }
   ],
   "source": [
    "df = pd.DataFrame(states)\n",
    "trainstates = df['State'].value_counts()\n",
    "teststores = np.unique(test.Store)\n",
    "teststates = df.loc[df.index.isin(teststores),'State'].value_counts()\n",
    "statesdf = pd.DataFrame(index=trainstates.index)\n",
    "statesdf['train'] = trainstates\n",
    "statesdf['test'] = teststates\n",
    "ax = statesdf[['train','test']].plot(kind='barh')\n",
    "ax.set_title('Number of stores per state')"
   ]
  },
  {
   "cell_type": "markdown",
   "metadata": {},
   "source": [
    "Looks like test set excludes TH, SN, ST and BE."
   ]
  },
  {
   "cell_type": "markdown",
   "metadata": {},
   "source": [
    "Some stores have a gap in data in the second half of 2014. Let's see whether they come from a single state or different states."
   ]
  },
  {
   "cell_type": "code",
   "execution_count": 50,
   "metadata": {},
   "outputs": [
    {
     "data": {
      "text/plain": [
       "<matplotlib.axes._subplots.AxesSubplot at 0x5e19a70>"
      ]
     },
     "execution_count": 50,
     "metadata": {},
     "output_type": "execute_result"
    },
    {
     "data": {
      "image/png": "[encoded data removed]",
      "text/plain": [
       "<matplotlib.figure.Figure at 0x5e4a210>"
      ]
     },
     "metadata": {},
     "output_type": "display_data"
    }
   ],
   "source": [
    "train.groupby('Date')['Store'].count().plot()"
   ]
  },
  {
   "cell_type": "code",
   "execution_count": 51,
   "metadata": {},
   "outputs": [],
   "source": [
    "nogap = train.loc[train.Date == '2014-09-01','Store'].values\n",
    "gap = np.setxor1d(allstores, nogap)"
   ]
  },
  {
   "cell_type": "code",
   "execution_count": 52,
   "metadata": {},
   "outputs": [
    {
     "data": {
      "text/plain": [
       "<matplotlib.text.Text at 0x5edb290>"
      ]
     },
     "execution_count": 52,
     "metadata": {},
     "output_type": "execute_result"
    },
    {
     "data": {
      "image/png": "[encoded data removed]",
      "text/plain": [
       "<matplotlib.figure.Figure at 0x5b212b0>"
      ]
     },
     "metadata": {},
     "output_type": "display_data"
    }
   ],
   "source": [
    "statesdf['no gap'] = df.loc[df.index.isin(nogap),'State'].value_counts()\n",
    "statesdf['gap'] = df.loc[df.index.isin(gap),'State'].value_counts()\n",
    "ax = statesdf[['no gap','gap']].plot(kind='barh')\n",
    "ax.set_title('Number of stores per state')"
   ]
  },
  {
   "cell_type": "markdown",
   "metadata": {},
   "source": [
    "The gap is there only for stores in Bavaria (BY)."
   ]
  },
  {
   "cell_type": "code",
   "execution_count": null,
   "metadata": {
    "collapsed": true
   },
   "outputs": [],
   "source": []
  }
 ],
 "metadata": {
  "kernelspec": {
   "display_name": "Python 3",
   "language": "python",
   "name": "python3"
  },
  "language_info": {
   "codemirror_mode": {
    "name": "ipython",
    "version": 3
   },
   "file_extension": ".py",
   "mimetype": "text/x-python",
   "name": "python",
   "nbconvert_exporter": "python",
   "pygments_lexer": "ipython3",
   "version": "3.5.6"
  }
 },
 "nbformat": 4,
 "nbformat_minor": 1
}
