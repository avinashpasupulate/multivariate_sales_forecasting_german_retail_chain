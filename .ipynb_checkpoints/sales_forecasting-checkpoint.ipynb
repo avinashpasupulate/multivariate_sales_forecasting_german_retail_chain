{
 "cells": [
  {
   "cell_type": "markdown",
   "metadata": {},
   "source": [
    "<div style=\"background-color:#7a1400;height:60px;padding-top:7px;\">\n",
    "<h3 align=center style=\"color:white\">\n",
    "Multivariate Sales Forecasting - German Retail Chain - Multivariate Forecasting\n",
    "</h3> \n",
    "</div>"
   ]
  },
  {
   "cell_type": "markdown",
   "metadata": {},
   "source": [
    "<h4>Avinash Pasupulate</h4><br>\n",
    "avinash.pasupulate@gmail.com<br>\n",
    "<a href=\"www.avinash.pasupulate.com\">www.avinash.pasupulate.com</a>\n",
    "<br><br>\n",
    "<i>7th January 2019</i>"
   ]
  },
  {
   "cell_type": "markdown",
   "metadata": {},
   "source": [
    "<br>\n",
    "<hr>\n",
    "<b>Open the html file in the repository or click \n",
    "<a href=\"http://nbviewer.jupyter.org/github/avinashpasupulate/multivariate_sales_forecasting_german_retail_chain/blob/master/sales_forecasting.ipynb\">Nbconvert Notebook</a> to view plots that are properly rendered.\n",
    "<br><br>\n",
    "Please wait for the html page to load completely.</b>\n",
    "<br>\n",
    "<hr>"
   ]
  },
  {
   "cell_type": "markdown",
   "metadata": {},
   "source": [
    "<h3>Methods for Multivariate Forecasting: </h3>\n",
    "<hr>\n",
    "<ul>\n",
    "    <li> Linear Regression\n",
    "    <li> ARIMAX - Auto-Regressive Integrated Moving Average with Exogenous variables\n",
    "    <li> SARIMAX - Seasonal Auto-Regressive Integrated Moving Average with Exogenous variables\n",
    "    <li> VAR - Vector AutoRegression\n",
    "    <li> Prophet by Facebook\n",
    "     </ul>\n",
    "<br><br>       \n",
    " \n",
    " \n",
    "<h3>Steps to Complete: </h3>\n",
    "<hr>\n",
    "<ul>\n",
    "    <li> Clean-up & remove/replace null values"
   ]
  },
  {
   "cell_type": "code",
   "execution_count": 448,
   "metadata": {},
   "outputs": [],
   "source": [
    "import os\n",
    "import copy\n",
    "import warnings\n",
    "import random #setting seed\n",
    "\n",
    "#data \n",
    "import datetime as dt\n",
    "import pandas as pd\n",
    "import numpy as np\n",
    "\n",
    "\n",
    "#visualization\n",
    "import seaborn as sns\n",
    "import matplotlib.pyplot as plt\n",
    "from tqdm._tqdm_notebook import tqdm_notebook\n",
    "\n",
    "#data pre-processing\n",
    "from sklearn.preprocessing import OneHotEncoder\n",
    "from sklearn.model_selection import train_test_split\n",
    "\n",
    "#forecasting\n",
    "from fbprophet import Prophet\n",
    "\n",
    "\n",
    "% matplotlib inline\n",
    "tqdm_notebook.pandas()\n",
    "warnings.filterwarnings('ignore')\n",
    "pd.set_option('float_format','{:f}'.format)"
   ]
  },
  {
   "cell_type": "code",
   "execution_count": 449,
   "metadata": {},
   "outputs": [],
   "source": [
    "cwd = os.getcwd()\n",
    "random.seed(9891482)"
   ]
  },
  {
   "cell_type": "code",
   "execution_count": 450,
   "metadata": {},
   "outputs": [],
   "source": [
    "forecast_ads = pd.read_csv(cwd+r'/data/processed_data/sales_ads.csv')"
   ]
  },
  {
   "cell_type": "markdown",
   "metadata": {},
   "source": [
    "<h3>Data Cleanup</h3>\n",
    "<hr>\n",
    "<ul>\n",
    "    <li> Check for missing and partial values\n",
    "    <li> Replace / correct missing or partial values\n",
    "    <li> Remove rows containing NA values\n",
    "    <li> Final Checks\n",
    "</ul>"
   ]
  },
  {
   "cell_type": "code",
   "execution_count": 451,
   "metadata": {},
   "outputs": [],
   "source": [
    "#making copy of the imported data\n",
    "forecast_clean = copy.deepcopy(forecast_ads)"
   ]
  },
  {
   "cell_type": "code",
   "execution_count": 452,
   "metadata": {
    "scrolled": true
   },
   "outputs": [
    {
     "data": {
      "text/html": [
       "<div>\n",
       "<style scoped>\n",
       "    .dataframe tbody tr th:only-of-type {\n",
       "        vertical-align: middle;\n",
       "    }\n",
       "\n",
       "    .dataframe tbody tr th {\n",
       "        vertical-align: top;\n",
       "    }\n",
       "\n",
       "    .dataframe thead th {\n",
       "        text-align: right;\n",
       "    }\n",
       "</style>\n",
       "<table border=\"1\" class=\"dataframe\">\n",
       "  <thead>\n",
       "    <tr style=\"text-align: right;\">\n",
       "      <th></th>\n",
       "      <th>count</th>\n",
       "      <th>unique</th>\n",
       "    </tr>\n",
       "  </thead>\n",
       "  <tbody>\n",
       "    <tr>\n",
       "      <th>CompetitionDistance</th>\n",
       "      <td>2611969</td>\n",
       "      <td>NaN</td>\n",
       "    </tr>\n",
       "    <tr>\n",
       "      <th>Unnamed: 0</th>\n",
       "      <td>2617643</td>\n",
       "      <td>NaN</td>\n",
       "    </tr>\n",
       "    <tr>\n",
       "      <th>days_since_competition</th>\n",
       "      <td>2617643</td>\n",
       "      <td>9461</td>\n",
       "    </tr>\n",
       "    <tr>\n",
       "      <th>Assortment</th>\n",
       "      <td>2617643</td>\n",
       "      <td>3</td>\n",
       "    </tr>\n",
       "    <tr>\n",
       "      <th>StoreType</th>\n",
       "      <td>2617643</td>\n",
       "      <td>4</td>\n",
       "    </tr>\n",
       "    <tr>\n",
       "      <th>relh</th>\n",
       "      <td>2617643</td>\n",
       "      <td>NaN</td>\n",
       "    </tr>\n",
       "    <tr>\n",
       "      <th>tmpc</th>\n",
       "      <td>2617643</td>\n",
       "      <td>NaN</td>\n",
       "    </tr>\n",
       "    <tr>\n",
       "      <th>cpi</th>\n",
       "      <td>2617643</td>\n",
       "      <td>NaN</td>\n",
       "    </tr>\n",
       "    <tr>\n",
       "      <th>num_asy_app</th>\n",
       "      <td>2617643</td>\n",
       "      <td>31</td>\n",
       "    </tr>\n",
       "    <tr>\n",
       "      <th>wc_days</th>\n",
       "      <td>2617643</td>\n",
       "      <td>NaN</td>\n",
       "    </tr>\n",
       "    <tr>\n",
       "      <th>google_svi</th>\n",
       "      <td>2617643</td>\n",
       "      <td>NaN</td>\n",
       "    </tr>\n",
       "    <tr>\n",
       "      <th>mapped_region</th>\n",
       "      <td>2617643</td>\n",
       "      <td>12</td>\n",
       "    </tr>\n",
       "    <tr>\n",
       "      <th>quarter</th>\n",
       "      <td>2617643</td>\n",
       "      <td>NaN</td>\n",
       "    </tr>\n",
       "    <tr>\n",
       "      <th>days_since_promo2</th>\n",
       "      <td>2617643</td>\n",
       "      <td>2183</td>\n",
       "    </tr>\n",
       "    <tr>\n",
       "      <th>seasons</th>\n",
       "      <td>2617643</td>\n",
       "      <td>4</td>\n",
       "    </tr>\n",
       "    <tr>\n",
       "      <th>weekday</th>\n",
       "      <td>2617643</td>\n",
       "      <td>7</td>\n",
       "    </tr>\n",
       "    <tr>\n",
       "      <th>iso_weeknum</th>\n",
       "      <td>2617643</td>\n",
       "      <td>NaN</td>\n",
       "    </tr>\n",
       "    <tr>\n",
       "      <th>day</th>\n",
       "      <td>2617643</td>\n",
       "      <td>NaN</td>\n",
       "    </tr>\n",
       "    <tr>\n",
       "      <th>year</th>\n",
       "      <td>2617643</td>\n",
       "      <td>NaN</td>\n",
       "    </tr>\n",
       "    <tr>\n",
       "      <th>SchoolHoliday</th>\n",
       "      <td>2617643</td>\n",
       "      <td>NaN</td>\n",
       "    </tr>\n",
       "    <tr>\n",
       "      <th>StateHoliday</th>\n",
       "      <td>2617643</td>\n",
       "      <td>4</td>\n",
       "    </tr>\n",
       "    <tr>\n",
       "      <th>Promo</th>\n",
       "      <td>2617643</td>\n",
       "      <td>NaN</td>\n",
       "    </tr>\n",
       "    <tr>\n",
       "      <th>Open</th>\n",
       "      <td>2617643</td>\n",
       "      <td>NaN</td>\n",
       "    </tr>\n",
       "    <tr>\n",
       "      <th>Customers</th>\n",
       "      <td>2617643</td>\n",
       "      <td>NaN</td>\n",
       "    </tr>\n",
       "    <tr>\n",
       "      <th>Sales</th>\n",
       "      <td>2617643</td>\n",
       "      <td>NaN</td>\n",
       "    </tr>\n",
       "    <tr>\n",
       "      <th>date_s</th>\n",
       "      <td>2617643</td>\n",
       "      <td>942</td>\n",
       "    </tr>\n",
       "    <tr>\n",
       "      <th>Store</th>\n",
       "      <td>2617643</td>\n",
       "      <td>NaN</td>\n",
       "    </tr>\n",
       "    <tr>\n",
       "      <th>month</th>\n",
       "      <td>2617643</td>\n",
       "      <td>12</td>\n",
       "    </tr>\n",
       "    <tr>\n",
       "      <th>promo2_int_mod</th>\n",
       "      <td>2617643</td>\n",
       "      <td>NaN</td>\n",
       "    </tr>\n",
       "  </tbody>\n",
       "</table>\n",
       "</div>"
      ],
      "text/plain": [
       "                          count unique\n",
       "CompetitionDistance     2611969    NaN\n",
       "Unnamed: 0              2617643    NaN\n",
       "days_since_competition  2617643   9461\n",
       "Assortment              2617643      3\n",
       "StoreType               2617643      4\n",
       "relh                    2617643    NaN\n",
       "tmpc                    2617643    NaN\n",
       "cpi                     2617643    NaN\n",
       "num_asy_app             2617643     31\n",
       "wc_days                 2617643    NaN\n",
       "google_svi              2617643    NaN\n",
       "mapped_region           2617643     12\n",
       "quarter                 2617643    NaN\n",
       "days_since_promo2       2617643   2183\n",
       "seasons                 2617643      4\n",
       "weekday                 2617643      7\n",
       "iso_weeknum             2617643    NaN\n",
       "day                     2617643    NaN\n",
       "year                    2617643    NaN\n",
       "SchoolHoliday           2617643    NaN\n",
       "StateHoliday            2617643      4\n",
       "Promo                   2617643    NaN\n",
       "Open                    2617643    NaN\n",
       "Customers               2617643    NaN\n",
       "Sales                   2617643    NaN\n",
       "date_s                  2617643    942\n",
       "Store                   2617643    NaN\n",
       "month                   2617643     12\n",
       "promo2_int_mod          2617643    NaN"
      ]
     },
     "execution_count": 452,
     "metadata": {},
     "output_type": "execute_result"
    }
   ],
   "source": [
    "#checking for missing and partial information\n",
    "num = forecast_clean.describe(include='all').T\n",
    "num['count']=num['count'].astype('int64')\n",
    "num[['count', 'unique']].sort_values('count', ascending=True)"
   ]
  },
  {
   "cell_type": "code",
   "execution_count": 453,
   "metadata": {},
   "outputs": [
    {
     "data": {
      "text/html": [
       "<div>\n",
       "<style scoped>\n",
       "    .dataframe tbody tr th:only-of-type {\n",
       "        vertical-align: middle;\n",
       "    }\n",
       "\n",
       "    .dataframe tbody tr th {\n",
       "        vertical-align: top;\n",
       "    }\n",
       "\n",
       "    .dataframe thead th {\n",
       "        text-align: right;\n",
       "    }\n",
       "</style>\n",
       "<table border=\"1\" class=\"dataframe\">\n",
       "  <thead>\n",
       "    <tr style=\"text-align: right;\">\n",
       "      <th></th>\n",
       "      <th>count</th>\n",
       "      <th>unique</th>\n",
       "    </tr>\n",
       "  </thead>\n",
       "  <tbody>\n",
       "    <tr>\n",
       "      <th>StateHoliday</th>\n",
       "      <td>2617643</td>\n",
       "      <td>4</td>\n",
       "    </tr>\n",
       "    <tr>\n",
       "      <th>weekday</th>\n",
       "      <td>2617643</td>\n",
       "      <td>7</td>\n",
       "    </tr>\n",
       "    <tr>\n",
       "      <th>seasons</th>\n",
       "      <td>2617643</td>\n",
       "      <td>4</td>\n",
       "    </tr>\n",
       "    <tr>\n",
       "      <th>StoreType</th>\n",
       "      <td>2617643</td>\n",
       "      <td>4</td>\n",
       "    </tr>\n",
       "    <tr>\n",
       "      <th>Assortment</th>\n",
       "      <td>2617643</td>\n",
       "      <td>3</td>\n",
       "    </tr>\n",
       "  </tbody>\n",
       "</table>\n",
       "</div>"
      ],
      "text/plain": [
       "                count unique\n",
       "StateHoliday  2617643      4\n",
       "weekday       2617643      7\n",
       "seasons       2617643      4\n",
       "StoreType     2617643      4\n",
       "Assortment    2617643      3"
      ]
     },
     "execution_count": 453,
     "metadata": {},
     "output_type": "execute_result"
    }
   ],
   "source": [
    "num[['count', 'unique']][num['unique']<10]"
   ]
  },
  {
   "cell_type": "code",
   "execution_count": 454,
   "metadata": {},
   "outputs": [],
   "source": [
    "#replacing na values in the CompetitionDistance column with 0 \n",
    "forecast_clean.loc[forecast_clean['CompetitionDistance'].isna(),\n",
    "                   'CompetitionDistance']=0"
   ]
  },
  {
   "cell_type": "code",
   "execution_count": 455,
   "metadata": {},
   "outputs": [],
   "source": [
    "#replace timedelta values with numbers in days_since_competition and days_since_promo2 columns\n",
    "forecast_clean['days_since_competition'] = pd.to_timedelta(forecast_clean['days_since_competition']).dt.days\n",
    "forecast_clean['days_since_promo2'] = pd.to_timedelta(forecast_clean['days_since_promo2']).dt.days\n"
   ]
  },
  {
   "cell_type": "code",
   "execution_count": 456,
   "metadata": {
    "scrolled": true
   },
   "outputs": [
    {
     "name": "stdout",
     "output_type": "stream",
     "text": [
      "<class 'pandas.core.frame.DataFrame'>\n",
      "RangeIndex: 2617643 entries, 0 to 2617642\n",
      "Data columns (total 29 columns):\n",
      "Unnamed: 0                int64\n",
      "Store                     int64\n",
      "date_s                    object\n",
      "Sales                     int64\n",
      "Customers                 int64\n",
      "Open                      int64\n",
      "Promo                     int64\n",
      "StateHoliday              object\n",
      "SchoolHoliday             int64\n",
      "year                      int64\n",
      "day                       int64\n",
      "iso_weeknum               int64\n",
      "weekday                   object\n",
      "month                     object\n",
      "seasons                   object\n",
      "quarter                   int64\n",
      "mapped_region             object\n",
      "google_svi                int64\n",
      "wc_days                   int64\n",
      "num_asy_app               object\n",
      "cpi                       float64\n",
      "tmpc                      float64\n",
      "relh                      float64\n",
      "StoreType                 object\n",
      "Assortment                object\n",
      "CompetitionDistance       float64\n",
      "days_since_competition    int64\n",
      "days_since_promo2         int64\n",
      "promo2_int_mod            int64\n",
      "dtypes: float64(4), int64(16), object(9)\n",
      "memory usage: 1.8 GB\n"
     ]
    }
   ],
   "source": [
    "#list all datatypes in forecast_clean dataframe\n",
    "forecast_clean.info(memory_usage='deep')"
   ]
  },
  {
   "cell_type": "code",
   "execution_count": 457,
   "metadata": {},
   "outputs": [],
   "source": [
    "#convert datatypes\n",
    "forecast_clean['Store'] = forecast_clean['Store'].astype(str)\n",
    "forecast_clean.loc[forecast_clean['StateHoliday']!='0', 'StateHoliday'] = 1\n",
    "forecast_clean['SchoolHoliday'] = forecast_clean['SchoolHoliday'].astype(int)\n",
    "forecast_clean['StateHoliday'] = forecast_clean['StateHoliday'].astype(int)\n",
    "forecast_clean['num_asy_app'] = (forecast_clean['num_asy_app'].apply(lambda x: x.replace(',','').replace('.',''))).astype(float)\n",
    "#remove date columns since they are captured separately"
   ]
  },
  {
   "cell_type": "code",
   "execution_count": 458,
   "metadata": {},
   "outputs": [],
   "source": [
    "#datetime object can also be converted to ordinal values line \"701234\" using the below code\n",
    "#pd.to_datetime(forecast_ads['date_s']).map(dt.datetime.toordinal)"
   ]
  },
  {
   "cell_type": "code",
   "execution_count": 459,
   "metadata": {},
   "outputs": [],
   "source": [
    "#converting date to ordinal\n",
    "#removing store type and assortment since these variables are at the store level\n",
    "#also excluding season because temperature and humidity can be used to simulate the same\n",
    "weekdaymap = {'Friday':6, 'Thursday':5, 'Wednesday':4, 'Tuesday':3, 'Monday':2, 'Sunday':1,\n",
    "       'Saturday':7}\n",
    "forecast_clean['month'] = forecast_clean['month'].apply(lambda x: int(dt.datetime.strptime(x, '%B').month))\n",
    "forecast_clean['weekday'] = forecast_clean['weekday'].map(weekdaymap).astype(int)\n",
    "\n",
    "forecast_clean.drop(['StoreType', 'Assortment','seasons'], inplace=True, axis=1)\n"
   ]
  },
  {
   "cell_type": "code",
   "execution_count": 599,
   "metadata": {},
   "outputs": [],
   "source": [
    "def mean_absolute_percentage_error(act, predicted):\n",
    "    return np.mean(np.abs((act-predicted)/act))*100"
   ]
  },
  {
   "cell_type": "markdown",
   "metadata": {},
   "source": [
    "<h3>Linear Regression</h3>\n",
    "<hr>\n",
    "<ul>\n",
    "    <li> One Hot Encoding\n",
    "    <li> Train, Validation & Test Split\n",
    "    <li> Feature Selection & run model\n",
    "        <ul>\n",
    "            <li> Backward Feature Selection\n",
    "            <li> Forward Feature Selection\n",
    "            <li> Stepwise Feature Selection\n",
    "        </ul>\n",
    "    <li> Validate model using validation dataset\n",
    "    <li> Optimize Parameters to get an ideal fit for validation dataset\n",
    "    <li> Test with test dataset\n",
    "    <li> Intepret results\n",
    "</ul>\n",
    "<br>\n",
    "<h4>Notes:</h4>\n",
    "<ul>\n",
    "    <li> Maynot be an ideal method to forecast a timeseries\n",
    "    <li> Check from multi-collinearity\n",
    "    <li> Check for missing or incomplete data\n",
    "    <li> Check for outliers\n",
    "    <li> Ensure data splits are made in sequence since this for a time series\n",
    "</ul>\n",
    "<br>\n",
    "<h4>Reference:</h4> \n",
    "<ul>\n",
    "    <li><a href=\"https://www.theanalysisfactor.com/13-steps-regression-anova/\">13 Steps for Regression ANOVA</a>"
   ]
  },
  {
   "cell_type": "code",
   "execution_count": 460,
   "metadata": {},
   "outputs": [],
   "source": [
    "#creating copy for linear regression\n",
    "linear_ds = copy.deepcopy(forecast_clean)\n",
    "linear_ds.head()\n",
    "linear_ds.drop('date_s', inplace=True, axis = 1)"
   ]
  },
  {
   "cell_type": "code",
   "execution_count": 461,
   "metadata": {},
   "outputs": [],
   "source": [
    "#testing with one store\n",
    "def store_set(linear_ds, store):\n",
    "    #subsetting data by store\n",
    "    store1 = linear_ds.loc[linear_ds['Store']==store]\n",
    "    store1.drop(['Store','Unnamed: 0','mapped_region'], inplace=True, axis=1)\n",
    "    #One Hot Encoding\n",
    "    store1 = pd.get_dummies(store1)\n",
    "    return store1"
   ]
  },
  {
   "cell_type": "code",
   "execution_count": 462,
   "metadata": {},
   "outputs": [
    {
     "data": {
      "text/plain": [
       "1884"
      ]
     },
     "execution_count": 462,
     "metadata": {},
     "output_type": "execute_result"
    }
   ],
   "source": [
    "store='1'\n",
    "store1 = store_set(linear_ds, store)\n",
    "len(store1)"
   ]
  },
  {
   "cell_type": "code",
   "execution_count": 463,
   "metadata": {},
   "outputs": [
    {
     "data": {
      "text/plain": [
       "Index(['Sales', 'Customers', 'Open', 'Promo', 'StateHoliday', 'SchoolHoliday',\n",
       "       'year', 'day', 'iso_weeknum', 'weekday', 'month', 'quarter',\n",
       "       'google_svi', 'wc_days', 'num_asy_app', 'cpi', 'tmpc', 'relh',\n",
       "       'CompetitionDistance', 'days_since_competition', 'days_since_promo2',\n",
       "       'promo2_int_mod'],\n",
       "      dtype='object')"
      ]
     },
     "execution_count": 463,
     "metadata": {},
     "output_type": "execute_result"
    }
   ],
   "source": [
    "store1.columns"
   ]
  },
  {
   "cell_type": "code",
   "execution_count": 464,
   "metadata": {},
   "outputs": [
    {
     "data": {
      "text/plain": [
       "22"
      ]
     },
     "execution_count": 464,
     "metadata": {},
     "output_type": "execute_result"
    }
   ],
   "source": [
    "len(store1.columns)"
   ]
  },
  {
   "cell_type": "markdown",
   "metadata": {},
   "source": [
    "<h3>Train, Validation & Test Split</h3><hr>"
   ]
  },
  {
   "cell_type": "code",
   "execution_count": 465,
   "metadata": {},
   "outputs": [],
   "source": [
    "#splitting the data set into train and test dataset\n",
    "train, test = train_test_split(store1, test_size=0.2)\n",
    "train, valid = train_test_split(train, test_size=0.1)"
   ]
  },
  {
   "cell_type": "code",
   "execution_count": 466,
   "metadata": {},
   "outputs": [
    {
     "name": "stdout",
     "output_type": "stream",
     "text": [
      "Length of train set:\t 1356\n",
      "Length of validation set: 151\n",
      "Length of test set:\t 377\n"
     ]
    }
   ],
   "source": [
    "print(\"Length of train set:\\t {}\\nLength of validation set: {}\\nLength of test set:\\t {}\".format(len(train), len(valid), len(test)))"
   ]
  },
  {
   "cell_type": "code",
   "execution_count": 467,
   "metadata": {},
   "outputs": [],
   "source": [
    "x_train = train['Sales']\n",
    "y_train = train[['Customers', 'Open', 'Promo', 'StateHoliday', 'SchoolHoliday',\n",
    "       'year', 'day', 'iso_weeknum', 'weekday', 'month', 'quarter',\n",
    "       'google_svi', 'wc_days', 'num_asy_app', 'cpi', 'tmpc', 'relh',\n",
    "       'CompetitionDistance', 'days_since_competition', 'days_since_promo2',\n",
    "       'promo2_int_mod']]\n",
    "\n"
   ]
  },
  {
   "cell_type": "code",
   "execution_count": null,
   "metadata": {},
   "outputs": [],
   "source": []
  },
  {
   "cell_type": "markdown",
   "metadata": {},
   "source": [
    "There is not feature selection such as Forward, Backdard and stepwise, other options are to be explored"
   ]
  },
  {
   "cell_type": "markdown",
   "metadata": {},
   "source": [
    "<h3>Forcasting (Univariate) Overall Sales using Prophet </h3><hr>"
   ]
  },
  {
   "cell_type": "code",
   "execution_count": 687,
   "metadata": {},
   "outputs": [],
   "source": [
    "prop_data = copy.deepcopy(forecast_clean)\n",
    "cols=['Unnamed: 0', 'Store', 'Customers', 'Open', 'Promo',\n",
    "       'StateHoliday', 'SchoolHoliday', 'year', 'day', 'iso_weeknum',\n",
    "       'weekday', 'month', 'quarter', 'mapped_region', 'google_svi', 'wc_days',\n",
    "       'num_asy_app', 'cpi', 'tmpc', 'relh', 'CompetitionDistance',\n",
    "       'days_since_competition', 'days_since_promo2', 'promo2_int_mod']\n",
    "\n",
    "prop_data.drop(cols, axis=1, inplace=True)\n"
   ]
  },
  {
   "cell_type": "code",
   "execution_count": 688,
   "metadata": {},
   "outputs": [],
   "source": [
    "prop_data = prop_data.groupby(['date_s']).sum().reset_index()"
   ]
  },
  {
   "cell_type": "code",
   "execution_count": 689,
   "metadata": {},
   "outputs": [
    {
     "name": "stdout",
     "output_type": "stream",
     "text": [
      "<class 'pandas.core.frame.DataFrame'>\n",
      "RangeIndex: 942 entries, 0 to 941\n",
      "Data columns (total 2 columns):\n",
      "ds    942 non-null datetime64[ns]\n",
      "y     942 non-null int64\n",
      "dtypes: datetime64[ns](1), int64(1)\n",
      "memory usage: 14.8 KB\n"
     ]
    }
   ],
   "source": [
    "#input column names should be 'ds' and 'y'\n",
    "prop_data.columns = ['ds', 'y']\n",
    "prop_data['ds']= pd.to_datetime(prop_data['ds'])\n",
    "#prop_data.set_index('ds', inplace=True)\n",
    "prop_data.info()"
   ]
  },
  {
   "cell_type": "code",
   "execution_count": 690,
   "metadata": {},
   "outputs": [],
   "source": [
    "split = round(len(prop_data)*0.2)\n",
    "test = prop_data.iloc[:split,]\n",
    "train = prop_data.iloc[split+1:,]"
   ]
  },
  {
   "cell_type": "code",
   "execution_count": 691,
   "metadata": {},
   "outputs": [
    {
     "name": "stdout",
     "output_type": "stream",
     "text": [
      "Length of train: 753\n",
      "Length of test: 188\n"
     ]
    }
   ],
   "source": [
    "print('Length of train: {}\\nLength of test: {}'.format(len(train), len(test)))"
   ]
  },
  {
   "cell_type": "code",
   "execution_count": 692,
   "metadata": {},
   "outputs": [
    {
     "data": {
      "text/html": [
       "<div>\n",
       "<style scoped>\n",
       "    .dataframe tbody tr th:only-of-type {\n",
       "        vertical-align: middle;\n",
       "    }\n",
       "\n",
       "    .dataframe tbody tr th {\n",
       "        vertical-align: top;\n",
       "    }\n",
       "\n",
       "    .dataframe thead th {\n",
       "        text-align: right;\n",
       "    }\n",
       "</style>\n",
       "<table border=\"1\" class=\"dataframe\">\n",
       "  <thead>\n",
       "    <tr style=\"text-align: right;\">\n",
       "      <th></th>\n",
       "      <th>ds</th>\n",
       "      <th>y</th>\n",
       "    </tr>\n",
       "  </thead>\n",
       "  <tbody>\n",
       "    <tr>\n",
       "      <th>937</th>\n",
       "      <td>2015-07-27</td>\n",
       "      <td>27508029</td>\n",
       "    </tr>\n",
       "    <tr>\n",
       "      <th>938</th>\n",
       "      <td>2015-07-28</td>\n",
       "      <td>23528316</td>\n",
       "    </tr>\n",
       "    <tr>\n",
       "      <th>939</th>\n",
       "      <td>2015-07-29</td>\n",
       "      <td>21885355</td>\n",
       "    </tr>\n",
       "    <tr>\n",
       "      <th>940</th>\n",
       "      <td>2015-07-30</td>\n",
       "      <td>22755677</td>\n",
       "    </tr>\n",
       "    <tr>\n",
       "      <th>941</th>\n",
       "      <td>2015-07-31</td>\n",
       "      <td>25850461</td>\n",
       "    </tr>\n",
       "  </tbody>\n",
       "</table>\n",
       "</div>"
      ],
      "text/plain": [
       "            ds         y\n",
       "937 2015-07-27  27508029\n",
       "938 2015-07-28  23528316\n",
       "939 2015-07-29  21885355\n",
       "940 2015-07-30  22755677\n",
       "941 2015-07-31  25850461"
      ]
     },
     "execution_count": 692,
     "metadata": {},
     "output_type": "execute_result"
    }
   ],
   "source": [
    "#fitting data to prophet model\n",
    "m = Prophet(daily_seasonality=True)\n",
    "m.fit(train);\n",
    "train.tail()"
   ]
  },
  {
   "cell_type": "code",
   "execution_count": 693,
   "metadata": {},
   "outputs": [],
   "source": [
    "#making prediction to 15 days ahead\n",
    "future = m.make_future_dataframe(periods=188, freq='D')\n",
    "forecast = m.predict(future)"
   ]
  },
  {
   "cell_type": "code",
   "execution_count": 694,
   "metadata": {},
   "outputs": [
    {
     "data": {
      "text/plain": [
       "Index(['ds', 'trend', 'trend_lower', 'trend_upper', 'yhat_lower', 'yhat_upper',\n",
       "       'daily', 'daily_lower', 'daily_upper', 'seasonal', 'seasonal_lower',\n",
       "       'seasonal_upper', 'seasonalities', 'seasonalities_lower',\n",
       "       'seasonalities_upper', 'weekly', 'weekly_lower', 'weekly_upper',\n",
       "       'yearly', 'yearly_lower', 'yearly_upper', 'yhat'],\n",
       "      dtype='object')"
      ]
     },
     "execution_count": 694,
     "metadata": {},
     "output_type": "execute_result"
    }
   ],
   "source": [
    "forecast.columns"
   ]
  },
  {
   "cell_type": "code",
   "execution_count": 695,
   "metadata": {},
   "outputs": [],
   "source": [
    "fore = forecast[['ds', 'yhat', 'yhat_lower', 'yhat_upper']]"
   ]
  },
  {
   "cell_type": "code",
   "execution_count": 696,
   "metadata": {},
   "outputs": [
    {
     "data": {
      "image/png": "[encoded data removed]",
      "text/plain": [
       "<Figure size 720x432 with 1 Axes>"
      ]
     },
     "metadata": {},
     "output_type": "display_data"
    }
   ],
   "source": [
    "#get the data at a higher level to get a line plot\n",
    "m.plot(fore);"
   ]
  },
  {
   "cell_type": "code",
   "execution_count": 697,
   "metadata": {},
   "outputs": [],
   "source": [
    "act = test\n",
    "predicted = forecast"
   ]
  },
  {
   "cell_type": "code",
   "execution_count": 698,
   "metadata": {},
   "outputs": [
    {
     "data": {
      "text/html": [
       "<div>\n",
       "<style scoped>\n",
       "    .dataframe tbody tr th:only-of-type {\n",
       "        vertical-align: middle;\n",
       "    }\n",
       "\n",
       "    .dataframe tbody tr th {\n",
       "        vertical-align: top;\n",
       "    }\n",
       "\n",
       "    .dataframe thead th {\n",
       "        text-align: right;\n",
       "    }\n",
       "</style>\n",
       "<table border=\"1\" class=\"dataframe\">\n",
       "  <thead>\n",
       "    <tr style=\"text-align: right;\">\n",
       "      <th></th>\n",
       "      <th>ds</th>\n",
       "      <th>yhat</th>\n",
       "    </tr>\n",
       "  </thead>\n",
       "  <tbody>\n",
       "    <tr>\n",
       "      <th>0</th>\n",
       "      <td>2013-07-09</td>\n",
       "      <td>20451665.607711</td>\n",
       "    </tr>\n",
       "    <tr>\n",
       "      <th>1</th>\n",
       "      <td>2013-07-10</td>\n",
       "      <td>19299470.782670</td>\n",
       "    </tr>\n",
       "    <tr>\n",
       "      <th>2</th>\n",
       "      <td>2013-07-11</td>\n",
       "      <td>18053077.176910</td>\n",
       "    </tr>\n",
       "    <tr>\n",
       "      <th>3</th>\n",
       "      <td>2013-07-12</td>\n",
       "      <td>19569725.989823</td>\n",
       "    </tr>\n",
       "    <tr>\n",
       "      <th>4</th>\n",
       "      <td>2013-07-13</td>\n",
       "      <td>17579367.975964</td>\n",
       "    </tr>\n",
       "  </tbody>\n",
       "</table>\n",
       "</div>"
      ],
      "text/plain": [
       "          ds            yhat\n",
       "0 2013-07-09 20451665.607711\n",
       "1 2013-07-10 19299470.782670\n",
       "2 2013-07-11 18053077.176910\n",
       "3 2013-07-12 19569725.989823\n",
       "4 2013-07-13 17579367.975964"
      ]
     },
     "execution_count": 698,
     "metadata": {},
     "output_type": "execute_result"
    }
   ],
   "source": [
    "predicted[['ds', 'yhat']].head()"
   ]
  },
  {
   "cell_type": "code",
   "execution_count": 712,
   "metadata": {},
   "outputs": [],
   "source": [
    "prop_data['mthyr_i'] = prop_data['ds'].dt.strftime('%m-%Y')\n",
    "mthyr = prop_data[['mthyr_i', 'y']]\n",
    "mthyr = mthyr.groupby(['mthyr_i']).sum().reset_index()\n",
    "mthyr.columns = ['ds', 'y']\n",
    "\n",
    "#splitting by index to not reandomize since timeseries needs to be sequential\n",
    "split_m = round(len(mthyr)*0.2)\n",
    "test_m = mthyr.iloc[:split_m,]\n",
    "train_m = mthyr.iloc[split_m+1:,]"
   ]
  },
  {
   "cell_type": "code",
   "execution_count": 713,
   "metadata": {},
   "outputs": [
    {
     "name": "stdout",
     "output_type": "stream",
     "text": [
      "Length of train_m: 24\n",
      "Length of test_m: 6\n"
     ]
    }
   ],
   "source": [
    "print('Length of train_m: {}\\nLength of test_m: {}'.format(len(train_m), len(test_m)))"
   ]
  },
  {
   "cell_type": "code",
   "execution_count": 714,
   "metadata": {},
   "outputs": [
    {
     "name": "stderr",
     "output_type": "stream",
     "text": [
      "INFO:fbprophet.forecaster:Disabling daily seasonality. Run prophet with daily_seasonality=True to override this.\n",
      "INFO:fbprophet.forecaster:n_changepoints greater than number of observations.Using 18.0.\n"
     ]
    }
   ],
   "source": [
    "#forecasting to 7 months horizon\n",
    "model = Prophet()\n",
    "model.fit(train_m)\n",
    "future = model.make_future_dataframe(periods=6, freq='M')\n",
    "forecast_mth = model.predict(future)"
   ]
  },
  {
   "cell_type": "code",
   "execution_count": 715,
   "metadata": {},
   "outputs": [],
   "source": [
    "forecast_mth.head()\n",
    "fmth = forecast_mth[['ds', 'yhat_upper', 'yhat', 'yhat_lower']]"
   ]
  },
  {
   "cell_type": "code",
   "execution_count": 716,
   "metadata": {},
   "outputs": [
    {
     "data": {
      "image/png": "[encoded data removed]",
      "text/plain": [
       "<Figure size 720x432 with 1 Axes>"
      ]
     },
     "metadata": {},
     "output_type": "display_data"
    }
   ],
   "source": [
    "model.plot(fmth);"
   ]
  },
  {
   "cell_type": "code",
   "execution_count": 705,
   "metadata": {},
   "outputs": [
    {
     "data": {
      "text/plain": [
       "(24, 30)"
      ]
     },
     "execution_count": 705,
     "metadata": {},
     "output_type": "execute_result"
    }
   ],
   "source": [
    "len(train_m), len(forecast_mth['yhat'])"
   ]
  },
  {
   "cell_type": "code",
   "execution_count": 709,
   "metadata": {},
   "outputs": [
    {
     "data": {
      "text/html": [
       "<div>\n",
       "<style scoped>\n",
       "    .dataframe tbody tr th:only-of-type {\n",
       "        vertical-align: middle;\n",
       "    }\n",
       "\n",
       "    .dataframe tbody tr th {\n",
       "        vertical-align: top;\n",
       "    }\n",
       "\n",
       "    .dataframe thead th {\n",
       "        text-align: right;\n",
       "    }\n",
       "</style>\n",
       "<table border=\"1\" class=\"dataframe\">\n",
       "  <thead>\n",
       "    <tr style=\"text-align: right;\">\n",
       "      <th></th>\n",
       "      <th>ds</th>\n",
       "      <th>y</th>\n",
       "    </tr>\n",
       "  </thead>\n",
       "  <tbody>\n",
       "    <tr>\n",
       "      <th>7</th>\n",
       "      <td>03-2014</td>\n",
       "      <td>503949261</td>\n",
       "    </tr>\n",
       "    <tr>\n",
       "      <th>8</th>\n",
       "      <td>03-2015</td>\n",
       "      <td>533791040</td>\n",
       "    </tr>\n",
       "    <tr>\n",
       "      <th>9</th>\n",
       "      <td>04-2013</td>\n",
       "      <td>476034246</td>\n",
       "    </tr>\n",
       "    <tr>\n",
       "      <th>10</th>\n",
       "      <td>04-2014</td>\n",
       "      <td>505499198</td>\n",
       "    </tr>\n",
       "  </tbody>\n",
       "</table>\n",
       "</div>"
      ],
      "text/plain": [
       "         ds          y\n",
       "7   03-2014  503949261\n",
       "8   03-2015  533791040\n",
       "9   04-2013  476034246\n",
       "10  04-2014  505499198"
      ]
     },
     "execution_count": 709,
     "metadata": {},
     "output_type": "execute_result"
    }
   ],
   "source": [
    "train_m.head(4)"
   ]
  },
  {
   "cell_type": "code",
   "execution_count": 710,
   "metadata": {},
   "outputs": [
    {
     "data": {
      "text/html": [
       "<div>\n",
       "<style scoped>\n",
       "    .dataframe tbody tr th:only-of-type {\n",
       "        vertical-align: middle;\n",
       "    }\n",
       "\n",
       "    .dataframe tbody tr th {\n",
       "        vertical-align: top;\n",
       "    }\n",
       "\n",
       "    .dataframe thead th {\n",
       "        text-align: right;\n",
       "    }\n",
       "</style>\n",
       "<table border=\"1\" class=\"dataframe\">\n",
       "  <thead>\n",
       "    <tr style=\"text-align: right;\">\n",
       "      <th></th>\n",
       "      <th>ds</th>\n",
       "      <th>yhat</th>\n",
       "    </tr>\n",
       "  </thead>\n",
       "  <tbody>\n",
       "    <tr>\n",
       "      <th>0</th>\n",
       "      <td>2013-04-01</td>\n",
       "      <td>518112883.831775</td>\n",
       "    </tr>\n",
       "    <tr>\n",
       "      <th>1</th>\n",
       "      <td>2013-05-01</td>\n",
       "      <td>512174880.775612</td>\n",
       "    </tr>\n",
       "    <tr>\n",
       "      <th>2</th>\n",
       "      <td>2013-06-01</td>\n",
       "      <td>518162779.346537</td>\n",
       "    </tr>\n",
       "    <tr>\n",
       "      <th>3</th>\n",
       "      <td>2013-07-01</td>\n",
       "      <td>508934535.388638</td>\n",
       "    </tr>\n",
       "  </tbody>\n",
       "</table>\n",
       "</div>"
      ],
      "text/plain": [
       "          ds             yhat\n",
       "0 2013-04-01 518112883.831775\n",
       "1 2013-05-01 512174880.775612\n",
       "2 2013-06-01 518162779.346537\n",
       "3 2013-07-01 508934535.388638"
      ]
     },
     "execution_count": 710,
     "metadata": {},
     "output_type": "execute_result"
    }
   ],
   "source": [
    "forecast_mth[['ds', 'yhat']].head(4)"
   ]
  },
  {
   "cell_type": "raw",
   "metadata": {},
   "source": [
    "%who"
   ]
  },
  {
   "cell_type": "markdown",
   "metadata": {},
   "source": [
    "<div style=\"background-color:#7a1400;height:40px;padding-top:0.1px;\">\n",
    "<h6 align=center style=\"color:white\">\n",
    "<a href=\"https://www.linkedin.com/in/avinashpasupulate/\" style=\"color:white\">Avinash Pasupulate - Linkedin Profile</a>\n",
    "</h6> \n",
    "</div>"
   ]
  }
 ],
 "metadata": {
  "kernelspec": {
   "display_name": "Python 3",
   "language": "python",
   "name": "python3"
  },
  "language_info": {
   "codemirror_mode": {
    "name": "ipython",
    "version": 3
   },
   "file_extension": ".py",
   "mimetype": "text/x-python",
   "name": "python",
   "nbconvert_exporter": "python",
   "pygments_lexer": "ipython3",
   "version": "3.5.6"
  }
 },
 "nbformat": 4,
 "nbformat_minor": 2
}
