{
 "cells": [
  {
   "cell_type": "markdown",
   "metadata": {},
   "source": [
    "<div style=\"background-color:#7a1400;height:60px;padding-top:7px;\">\n",
    "<h3 align=center style=\"color:white\">\n",
    "Multivariate Sales Forecasting - German Retail Chain - Multivariate Forecasting\n",
    "</h3> \n",
    "</div>"
   ]
  },
  {
   "cell_type": "markdown",
   "metadata": {},
   "source": [
    "<h4>Avinash Pasupulate</h4><br>\n",
    "avinash.pasupulate@gmail.com<br>\n",
    "<a href=\"www.avinash.pasupulate.com\">www.avinash.pasupulate.com</a>\n",
    "<br><br>\n",
    "<i>7th January 2019</i>"
   ]
  },
  {
   "cell_type": "markdown",
   "metadata": {},
   "source": [
    "<br>\n",
    "<hr>\n",
    "<b>Open the html file in the repository or click \n",
    "<a href=\"http://nbviewer.jupyter.org/github/avinashpasupulate/multivariate_sales_forecasting_german_retail_chain/blob/master/sales_forecasting.ipynb\">Nbconvert Notebook</a> to view plots that are properly rendered.\n",
    "<br><br>\n",
    "Please wait for the html page to load completely.</b>\n",
    "<br>\n",
    "<hr>"
   ]
  },
  {
   "cell_type": "markdown",
   "metadata": {},
   "source": [
    "<h3>Methods for Multivariate Forecasting: </h3>\n",
    "<hr>\n",
    "<ul>\n",
    "    <li> Linear Regression\n",
    "    <li> ARIMAX - Auto-Regressive Integrated Moving Average with Exogenous variables\n",
    "    <li> SARIMAX - Seasonal Auto-Regressive Integrated Moving Average with Exogenous variables\n",
    "    <li> VAR - Vector AutoRegression\n",
    "    <li> Prophet by Facebook\n",
    "     </ul>\n",
    "<br><br>       \n",
    " \n",
    " \n",
    "<h3>Steps to Complete: </h3>\n",
    "<hr>\n",
    "<ul>\n",
    "    <li> Clean-up & remove/replace null values"
   ]
  },
  {
   "cell_type": "code",
   "execution_count": 391,
   "metadata": {},
   "outputs": [],
   "source": [
    "import os\n",
    "import copy\n",
    "import warnings\n",
    "import random #setting seed\n",
    "\n",
    "#data \n",
    "import datetime as dt\n",
    "import pandas as pd\n",
    "\n",
    "#visualization\n",
    "import seaborn as sns\n",
    "import matplotlib.pyplot as plt\n",
    "from tqdm._tqdm_notebook import tqdm_notebook\n",
    "\n",
    "#data pre-processing\n",
    "from sklearn.preprocessing import OneHotEncoder\n",
    "from sklearn.model_selection import train_test_split\n",
    "\n",
    "\n",
    "% matplotlib inline\n",
    "tqdm_notebook.pandas()\n",
    "warnings.filterwarnings('ignore')\n",
    "pd.set_option('float_format','{:f}'.format)"
   ]
  },
  {
   "cell_type": "code",
   "execution_count": 365,
   "metadata": {},
   "outputs": [],
   "source": [
    "cwd = os.getcwd()\n",
    "random.seed(9891482)"
   ]
  },
  {
   "cell_type": "code",
   "execution_count": 366,
   "metadata": {},
   "outputs": [],
   "source": [
    "forecast_ads = pd.read_csv(cwd+r'/data/processed_data/sales_ads.csv')"
   ]
  },
  {
   "cell_type": "markdown",
   "metadata": {},
   "source": [
    "<h3>Data Cleanup</h3>\n",
    "<hr>\n",
    "<ul>\n",
    "    <li> Check for missing and partial values\n",
    "    <li> Replace / correct missing or partial values\n",
    "    <li> Remove rows containing NA values\n",
    "    <li> Final Checks\n",
    "</ul>"
   ]
  },
  {
   "cell_type": "code",
   "execution_count": 367,
   "metadata": {},
   "outputs": [],
   "source": [
    "#making copy of the imported data\n",
    "forecast_clean = copy.deepcopy(forecast_ads)"
   ]
  },
  {
   "cell_type": "code",
   "execution_count": 368,
   "metadata": {
    "scrolled": true
   },
   "outputs": [
    {
     "data": {
      "text/html": [
       "<div>\n",
       "<style scoped>\n",
       "    .dataframe tbody tr th:only-of-type {\n",
       "        vertical-align: middle;\n",
       "    }\n",
       "\n",
       "    .dataframe tbody tr th {\n",
       "        vertical-align: top;\n",
       "    }\n",
       "\n",
       "    .dataframe thead th {\n",
       "        text-align: right;\n",
       "    }\n",
       "</style>\n",
       "<table border=\"1\" class=\"dataframe\">\n",
       "  <thead>\n",
       "    <tr style=\"text-align: right;\">\n",
       "      <th></th>\n",
       "      <th>count</th>\n",
       "      <th>unique</th>\n",
       "    </tr>\n",
       "  </thead>\n",
       "  <tbody>\n",
       "    <tr>\n",
       "      <th>CompetitionDistance</th>\n",
       "      <td>2611969</td>\n",
       "      <td>NaN</td>\n",
       "    </tr>\n",
       "    <tr>\n",
       "      <th>Unnamed: 0</th>\n",
       "      <td>2617643</td>\n",
       "      <td>NaN</td>\n",
       "    </tr>\n",
       "    <tr>\n",
       "      <th>days_since_competition</th>\n",
       "      <td>2617643</td>\n",
       "      <td>9461</td>\n",
       "    </tr>\n",
       "    <tr>\n",
       "      <th>Assortment</th>\n",
       "      <td>2617643</td>\n",
       "      <td>3</td>\n",
       "    </tr>\n",
       "    <tr>\n",
       "      <th>StoreType</th>\n",
       "      <td>2617643</td>\n",
       "      <td>4</td>\n",
       "    </tr>\n",
       "    <tr>\n",
       "      <th>relh</th>\n",
       "      <td>2617643</td>\n",
       "      <td>NaN</td>\n",
       "    </tr>\n",
       "    <tr>\n",
       "      <th>tmpc</th>\n",
       "      <td>2617643</td>\n",
       "      <td>NaN</td>\n",
       "    </tr>\n",
       "    <tr>\n",
       "      <th>cpi</th>\n",
       "      <td>2617643</td>\n",
       "      <td>NaN</td>\n",
       "    </tr>\n",
       "    <tr>\n",
       "      <th>num_asy_app</th>\n",
       "      <td>2617643</td>\n",
       "      <td>31</td>\n",
       "    </tr>\n",
       "    <tr>\n",
       "      <th>wc_days</th>\n",
       "      <td>2617643</td>\n",
       "      <td>NaN</td>\n",
       "    </tr>\n",
       "    <tr>\n",
       "      <th>google_svi</th>\n",
       "      <td>2617643</td>\n",
       "      <td>NaN</td>\n",
       "    </tr>\n",
       "    <tr>\n",
       "      <th>mapped_region</th>\n",
       "      <td>2617643</td>\n",
       "      <td>12</td>\n",
       "    </tr>\n",
       "    <tr>\n",
       "      <th>quarter</th>\n",
       "      <td>2617643</td>\n",
       "      <td>NaN</td>\n",
       "    </tr>\n",
       "    <tr>\n",
       "      <th>days_since_promo2</th>\n",
       "      <td>2617643</td>\n",
       "      <td>2183</td>\n",
       "    </tr>\n",
       "    <tr>\n",
       "      <th>seasons</th>\n",
       "      <td>2617643</td>\n",
       "      <td>4</td>\n",
       "    </tr>\n",
       "    <tr>\n",
       "      <th>weekday</th>\n",
       "      <td>2617643</td>\n",
       "      <td>7</td>\n",
       "    </tr>\n",
       "    <tr>\n",
       "      <th>iso_weeknum</th>\n",
       "      <td>2617643</td>\n",
       "      <td>NaN</td>\n",
       "    </tr>\n",
       "    <tr>\n",
       "      <th>day</th>\n",
       "      <td>2617643</td>\n",
       "      <td>NaN</td>\n",
       "    </tr>\n",
       "    <tr>\n",
       "      <th>year</th>\n",
       "      <td>2617643</td>\n",
       "      <td>NaN</td>\n",
       "    </tr>\n",
       "    <tr>\n",
       "      <th>SchoolHoliday</th>\n",
       "      <td>2617643</td>\n",
       "      <td>NaN</td>\n",
       "    </tr>\n",
       "    <tr>\n",
       "      <th>StateHoliday</th>\n",
       "      <td>2617643</td>\n",
       "      <td>4</td>\n",
       "    </tr>\n",
       "    <tr>\n",
       "      <th>Promo</th>\n",
       "      <td>2617643</td>\n",
       "      <td>NaN</td>\n",
       "    </tr>\n",
       "    <tr>\n",
       "      <th>Open</th>\n",
       "      <td>2617643</td>\n",
       "      <td>NaN</td>\n",
       "    </tr>\n",
       "    <tr>\n",
       "      <th>Customers</th>\n",
       "      <td>2617643</td>\n",
       "      <td>NaN</td>\n",
       "    </tr>\n",
       "    <tr>\n",
       "      <th>Sales</th>\n",
       "      <td>2617643</td>\n",
       "      <td>NaN</td>\n",
       "    </tr>\n",
       "    <tr>\n",
       "      <th>date_s</th>\n",
       "      <td>2617643</td>\n",
       "      <td>942</td>\n",
       "    </tr>\n",
       "    <tr>\n",
       "      <th>Store</th>\n",
       "      <td>2617643</td>\n",
       "      <td>NaN</td>\n",
       "    </tr>\n",
       "    <tr>\n",
       "      <th>month</th>\n",
       "      <td>2617643</td>\n",
       "      <td>12</td>\n",
       "    </tr>\n",
       "    <tr>\n",
       "      <th>promo2_int_mod</th>\n",
       "      <td>2617643</td>\n",
       "      <td>NaN</td>\n",
       "    </tr>\n",
       "  </tbody>\n",
       "</table>\n",
       "</div>"
      ],
      "text/plain": [
       "                          count unique\n",
       "CompetitionDistance     2611969    NaN\n",
       "Unnamed: 0              2617643    NaN\n",
       "days_since_competition  2617643   9461\n",
       "Assortment              2617643      3\n",
       "StoreType               2617643      4\n",
       "relh                    2617643    NaN\n",
       "tmpc                    2617643    NaN\n",
       "cpi                     2617643    NaN\n",
       "num_asy_app             2617643     31\n",
       "wc_days                 2617643    NaN\n",
       "google_svi              2617643    NaN\n",
       "mapped_region           2617643     12\n",
       "quarter                 2617643    NaN\n",
       "days_since_promo2       2617643   2183\n",
       "seasons                 2617643      4\n",
       "weekday                 2617643      7\n",
       "iso_weeknum             2617643    NaN\n",
       "day                     2617643    NaN\n",
       "year                    2617643    NaN\n",
       "SchoolHoliday           2617643    NaN\n",
       "StateHoliday            2617643      4\n",
       "Promo                   2617643    NaN\n",
       "Open                    2617643    NaN\n",
       "Customers               2617643    NaN\n",
       "Sales                   2617643    NaN\n",
       "date_s                  2617643    942\n",
       "Store                   2617643    NaN\n",
       "month                   2617643     12\n",
       "promo2_int_mod          2617643    NaN"
      ]
     },
     "execution_count": 368,
     "metadata": {},
     "output_type": "execute_result"
    }
   ],
   "source": [
    "#checking for missing and partial information\n",
    "num = forecast_clean.describe(include='all').T\n",
    "num['count']=num['count'].astype('int64')\n",
    "num[['count', 'unique']].sort_values('count', ascending=True)"
   ]
  },
  {
   "cell_type": "code",
   "execution_count": 369,
   "metadata": {},
   "outputs": [
    {
     "data": {
      "text/html": [
       "<div>\n",
       "<style scoped>\n",
       "    .dataframe tbody tr th:only-of-type {\n",
       "        vertical-align: middle;\n",
       "    }\n",
       "\n",
       "    .dataframe tbody tr th {\n",
       "        vertical-align: top;\n",
       "    }\n",
       "\n",
       "    .dataframe thead th {\n",
       "        text-align: right;\n",
       "    }\n",
       "</style>\n",
       "<table border=\"1\" class=\"dataframe\">\n",
       "  <thead>\n",
       "    <tr style=\"text-align: right;\">\n",
       "      <th></th>\n",
       "      <th>count</th>\n",
       "      <th>unique</th>\n",
       "    </tr>\n",
       "  </thead>\n",
       "  <tbody>\n",
       "    <tr>\n",
       "      <th>StateHoliday</th>\n",
       "      <td>2617643</td>\n",
       "      <td>4</td>\n",
       "    </tr>\n",
       "    <tr>\n",
       "      <th>weekday</th>\n",
       "      <td>2617643</td>\n",
       "      <td>7</td>\n",
       "    </tr>\n",
       "    <tr>\n",
       "      <th>seasons</th>\n",
       "      <td>2617643</td>\n",
       "      <td>4</td>\n",
       "    </tr>\n",
       "    <tr>\n",
       "      <th>StoreType</th>\n",
       "      <td>2617643</td>\n",
       "      <td>4</td>\n",
       "    </tr>\n",
       "    <tr>\n",
       "      <th>Assortment</th>\n",
       "      <td>2617643</td>\n",
       "      <td>3</td>\n",
       "    </tr>\n",
       "  </tbody>\n",
       "</table>\n",
       "</div>"
      ],
      "text/plain": [
       "                count unique\n",
       "StateHoliday  2617643      4\n",
       "weekday       2617643      7\n",
       "seasons       2617643      4\n",
       "StoreType     2617643      4\n",
       "Assortment    2617643      3"
      ]
     },
     "execution_count": 369,
     "metadata": {},
     "output_type": "execute_result"
    }
   ],
   "source": [
    "num[['count', 'unique']][num['unique']<10]"
   ]
  },
  {
   "cell_type": "code",
   "execution_count": 370,
   "metadata": {},
   "outputs": [],
   "source": [
    "#replacing na values in the CompetitionDistance column with 0 \n",
    "forecast_clean.loc[forecast_clean['CompetitionDistance'].isna(),\n",
    "                   'CompetitionDistance']=0"
   ]
  },
  {
   "cell_type": "code",
   "execution_count": 371,
   "metadata": {},
   "outputs": [],
   "source": [
    "#replace timedelta values with numbers in days_since_competition and days_since_promo2 columns\n",
    "forecast_clean['days_since_competition'] = pd.to_timedelta(forecast_clean['days_since_competition']).dt.days\n",
    "forecast_clean['days_since_promo2'] = pd.to_timedelta(forecast_clean['days_since_promo2']).dt.days\n"
   ]
  },
  {
   "cell_type": "code",
   "execution_count": 372,
   "metadata": {
    "scrolled": true
   },
   "outputs": [
    {
     "name": "stdout",
     "output_type": "stream",
     "text": [
      "<class 'pandas.core.frame.DataFrame'>\n",
      "RangeIndex: 2617643 entries, 0 to 2617642\n",
      "Data columns (total 29 columns):\n",
      "Unnamed: 0                int64\n",
      "Store                     int64\n",
      "date_s                    object\n",
      "Sales                     int64\n",
      "Customers                 int64\n",
      "Open                      int64\n",
      "Promo                     int64\n",
      "StateHoliday              object\n",
      "SchoolHoliday             int64\n",
      "year                      int64\n",
      "day                       int64\n",
      "iso_weeknum               int64\n",
      "weekday                   object\n",
      "month                     object\n",
      "seasons                   object\n",
      "quarter                   int64\n",
      "mapped_region             object\n",
      "google_svi                int64\n",
      "wc_days                   int64\n",
      "num_asy_app               object\n",
      "cpi                       float64\n",
      "tmpc                      float64\n",
      "relh                      float64\n",
      "StoreType                 object\n",
      "Assortment                object\n",
      "CompetitionDistance       float64\n",
      "days_since_competition    int64\n",
      "days_since_promo2         int64\n",
      "promo2_int_mod            int64\n",
      "dtypes: float64(4), int64(16), object(9)\n",
      "memory usage: 1.8 GB\n"
     ]
    }
   ],
   "source": [
    "#list all datatypes in forecast_clean dataframe\n",
    "forecast_clean.info(memory_usage='deep')"
   ]
  },
  {
   "cell_type": "code",
   "execution_count": 373,
   "metadata": {},
   "outputs": [],
   "source": [
    "#convert datatypes\n",
    "forecast_clean['Store'] = forecast_clean['Store'].astype(str)\n",
    "forecast_clean.loc[forecast_clean['StateHoliday']!='0', 'StateHoliday'] = 1\n",
    "forecast_clean['SchoolHoliday'] = forecast_clean['SchoolHoliday'].astype(int)\n",
    "forecast_clean['StateHoliday'] = forecast_clean['StateHoliday'].astype(int)\n",
    "forecast_clean['num_asy_app'] = (forecast_clean['num_asy_app'].apply(lambda x: x.replace(',','').replace('.',''))).astype(float)\n",
    "#remove date columns since they are captured separately\n",
    "forecast_clean.drop('date_s', inplace=True, axis = 1)"
   ]
  },
  {
   "cell_type": "code",
   "execution_count": 384,
   "metadata": {},
   "outputs": [],
   "source": [
    "#datetime object can also be converted to ordinal values line \"701234\" using the below code\n",
    "#pd.to_datetime(forecast_ads['date_s']).map(dt.datetime.toordinal)"
   ]
  },
  {
   "cell_type": "code",
   "execution_count": 374,
   "metadata": {},
   "outputs": [],
   "source": [
    "#converting date to ordinal\n",
    "#removing store type and assortment since these variables are at the store level\n",
    "#also excluding season because temperature and humidity can be used to simulate the same\n",
    "weekdaymap = {'Friday':6, 'Thursday':5, 'Wednesday':4, 'Tuesday':3, 'Monday':2, 'Sunday':1,\n",
    "       'Saturday':7}\n",
    "forecast_clean['month'] = forecast_clean['month'].apply(lambda x: int(dt.datetime.strptime(x, '%B').month))\n",
    "forecast_clean['weekday'] = forecast_clean['weekday'].map(weekdaymap).astype(int)\n",
    "\n",
    "forecast_clean.drop(['StoreType', 'Assortment','seasons'], inplace=True, axis=1)\n"
   ]
  },
  {
   "cell_type": "markdown",
   "metadata": {},
   "source": [
    "<h3>Linear Regression</h3>\n",
    "<hr>\n",
    "<ul>\n",
    "    <li> One Hot Encoding\n",
    "    <li> Train, Validation & Test Split\n",
    "    <li> Feature Selection & run model\n",
    "        <ul>\n",
    "            <li> Backward Feature Selection\n",
    "            <li> Forward Feature Selection\n",
    "            <li> Stepwise Feature Selection\n",
    "        </ul>\n",
    "    <li> Validate model using validation dataset\n",
    "    <li> Optimize Parameters to get an ideal fit for validation dataset\n",
    "    <li> Test with test dataset\n",
    "    <li> Intepret results\n",
    "</ul>\n",
    "<br>\n",
    "<h4>Notes:</h4>\n",
    "<ul>\n",
    "    <li> Maynot be an ideal method to forecast a timeseries\n",
    "    <li> Check from multi-collinearity\n",
    "    <li> Check for missing or incomplete data\n",
    "    <li> Check for outliers\n",
    "    <li> Ensure data splits are made in sequence since this for a time series\n",
    "</ul>\n",
    "<br>\n",
    "<h4>Reference:</h4> \n",
    "<ul>\n",
    "    <li><a href=\"https://www.theanalysisfactor.com/13-steps-regression-anova/\">13 Steps for Regression ANOVA</a>"
   ]
  },
  {
   "cell_type": "code",
   "execution_count": 375,
   "metadata": {},
   "outputs": [
    {
     "data": {
      "text/html": [
       "<div>\n",
       "<style scoped>\n",
       "    .dataframe tbody tr th:only-of-type {\n",
       "        vertical-align: middle;\n",
       "    }\n",
       "\n",
       "    .dataframe tbody tr th {\n",
       "        vertical-align: top;\n",
       "    }\n",
       "\n",
       "    .dataframe thead th {\n",
       "        text-align: right;\n",
       "    }\n",
       "</style>\n",
       "<table border=\"1\" class=\"dataframe\">\n",
       "  <thead>\n",
       "    <tr style=\"text-align: right;\">\n",
       "      <th></th>\n",
       "      <th>Unnamed: 0</th>\n",
       "      <th>Store</th>\n",
       "      <th>Sales</th>\n",
       "      <th>Customers</th>\n",
       "      <th>Open</th>\n",
       "      <th>Promo</th>\n",
       "      <th>StateHoliday</th>\n",
       "      <th>SchoolHoliday</th>\n",
       "      <th>year</th>\n",
       "      <th>day</th>\n",
       "      <th>...</th>\n",
       "      <th>google_svi</th>\n",
       "      <th>wc_days</th>\n",
       "      <th>num_asy_app</th>\n",
       "      <th>cpi</th>\n",
       "      <th>tmpc</th>\n",
       "      <th>relh</th>\n",
       "      <th>CompetitionDistance</th>\n",
       "      <th>days_since_competition</th>\n",
       "      <th>days_since_promo2</th>\n",
       "      <th>promo2_int_mod</th>\n",
       "    </tr>\n",
       "  </thead>\n",
       "  <tbody>\n",
       "    <tr>\n",
       "      <th>0</th>\n",
       "      <td>0</td>\n",
       "      <td>1</td>\n",
       "      <td>5263</td>\n",
       "      <td>555</td>\n",
       "      <td>1</td>\n",
       "      <td>1</td>\n",
       "      <td>0</td>\n",
       "      <td>1</td>\n",
       "      <td>2015</td>\n",
       "      <td>31</td>\n",
       "      <td>...</td>\n",
       "      <td>51</td>\n",
       "      <td>0</td>\n",
       "      <td>39825.000000</td>\n",
       "      <td>100.288454</td>\n",
       "      <td>16.296894</td>\n",
       "      <td>54.272174</td>\n",
       "      <td>1270.000000</td>\n",
       "      <td>2524</td>\n",
       "      <td>0</td>\n",
       "      <td>0</td>\n",
       "    </tr>\n",
       "    <tr>\n",
       "      <th>1</th>\n",
       "      <td>1</td>\n",
       "      <td>1</td>\n",
       "      <td>5263</td>\n",
       "      <td>555</td>\n",
       "      <td>1</td>\n",
       "      <td>1</td>\n",
       "      <td>0</td>\n",
       "      <td>1</td>\n",
       "      <td>2015</td>\n",
       "      <td>31</td>\n",
       "      <td>...</td>\n",
       "      <td>51</td>\n",
       "      <td>0</td>\n",
       "      <td>39825.000000</td>\n",
       "      <td>100.288454</td>\n",
       "      <td>16.296894</td>\n",
       "      <td>54.272174</td>\n",
       "      <td>1270.000000</td>\n",
       "      <td>2524</td>\n",
       "      <td>0</td>\n",
       "      <td>0</td>\n",
       "    </tr>\n",
       "    <tr>\n",
       "      <th>2</th>\n",
       "      <td>2</td>\n",
       "      <td>1</td>\n",
       "      <td>5020</td>\n",
       "      <td>546</td>\n",
       "      <td>1</td>\n",
       "      <td>1</td>\n",
       "      <td>0</td>\n",
       "      <td>1</td>\n",
       "      <td>2015</td>\n",
       "      <td>30</td>\n",
       "      <td>...</td>\n",
       "      <td>51</td>\n",
       "      <td>0</td>\n",
       "      <td>39825.000000</td>\n",
       "      <td>100.288454</td>\n",
       "      <td>15.944318</td>\n",
       "      <td>56.774830</td>\n",
       "      <td>1270.000000</td>\n",
       "      <td>2523</td>\n",
       "      <td>0</td>\n",
       "      <td>0</td>\n",
       "    </tr>\n",
       "    <tr>\n",
       "      <th>3</th>\n",
       "      <td>3</td>\n",
       "      <td>1</td>\n",
       "      <td>5020</td>\n",
       "      <td>546</td>\n",
       "      <td>1</td>\n",
       "      <td>1</td>\n",
       "      <td>0</td>\n",
       "      <td>1</td>\n",
       "      <td>2015</td>\n",
       "      <td>30</td>\n",
       "      <td>...</td>\n",
       "      <td>51</td>\n",
       "      <td>0</td>\n",
       "      <td>39825.000000</td>\n",
       "      <td>100.288454</td>\n",
       "      <td>15.944318</td>\n",
       "      <td>56.774830</td>\n",
       "      <td>1270.000000</td>\n",
       "      <td>2523</td>\n",
       "      <td>0</td>\n",
       "      <td>0</td>\n",
       "    </tr>\n",
       "    <tr>\n",
       "      <th>4</th>\n",
       "      <td>4</td>\n",
       "      <td>1</td>\n",
       "      <td>4782</td>\n",
       "      <td>523</td>\n",
       "      <td>1</td>\n",
       "      <td>1</td>\n",
       "      <td>0</td>\n",
       "      <td>1</td>\n",
       "      <td>2015</td>\n",
       "      <td>29</td>\n",
       "      <td>...</td>\n",
       "      <td>51</td>\n",
       "      <td>0</td>\n",
       "      <td>39825.000000</td>\n",
       "      <td>100.288454</td>\n",
       "      <td>16.233511</td>\n",
       "      <td>58.021436</td>\n",
       "      <td>1270.000000</td>\n",
       "      <td>2522</td>\n",
       "      <td>0</td>\n",
       "      <td>0</td>\n",
       "    </tr>\n",
       "  </tbody>\n",
       "</table>\n",
       "<p>5 rows × 25 columns</p>\n",
       "</div>"
      ],
      "text/plain": [
       "   Unnamed: 0 Store  Sales  Customers  Open  Promo  StateHoliday  \\\n",
       "0           0     1   5263        555     1      1             0   \n",
       "1           1     1   5263        555     1      1             0   \n",
       "2           2     1   5020        546     1      1             0   \n",
       "3           3     1   5020        546     1      1             0   \n",
       "4           4     1   4782        523     1      1             0   \n",
       "\n",
       "   SchoolHoliday  year  day       ...        google_svi  wc_days  num_asy_app  \\\n",
       "0              1  2015   31       ...                51        0 39825.000000   \n",
       "1              1  2015   31       ...                51        0 39825.000000   \n",
       "2              1  2015   30       ...                51        0 39825.000000   \n",
       "3              1  2015   30       ...                51        0 39825.000000   \n",
       "4              1  2015   29       ...                51        0 39825.000000   \n",
       "\n",
       "         cpi      tmpc      relh  CompetitionDistance  days_since_competition  \\\n",
       "0 100.288454 16.296894 54.272174          1270.000000                    2524   \n",
       "1 100.288454 16.296894 54.272174          1270.000000                    2524   \n",
       "2 100.288454 15.944318 56.774830          1270.000000                    2523   \n",
       "3 100.288454 15.944318 56.774830          1270.000000                    2523   \n",
       "4 100.288454 16.233511 58.021436          1270.000000                    2522   \n",
       "\n",
       "   days_since_promo2  promo2_int_mod  \n",
       "0                  0               0  \n",
       "1                  0               0  \n",
       "2                  0               0  \n",
       "3                  0               0  \n",
       "4                  0               0  \n",
       "\n",
       "[5 rows x 25 columns]"
      ]
     },
     "execution_count": 375,
     "metadata": {},
     "output_type": "execute_result"
    }
   ],
   "source": [
    "#creating copy for linear regression\n",
    "linear_ds = copy.deepcopy(forecast_clean)\n",
    "linear_ds.head()"
   ]
  },
  {
   "cell_type": "code",
   "execution_count": 390,
   "metadata": {},
   "outputs": [],
   "source": [
    "#testing with one store\n",
    "def store_set(linear_ds, store):\n",
    "    #subsetting data by store\n",
    "    store1 = linear_ds.loc[linear_ds['Store']==store]\n",
    "    store1.drop(['Store','Unnamed: 0','mapped_region'], inplace=True, axis=1)\n",
    "    #One Hot Encoding\n",
    "    store1 = pd.get_dummies(store1)\n",
    "    return store1"
   ]
  },
  {
   "cell_type": "code",
   "execution_count": 386,
   "metadata": {},
   "outputs": [
    {
     "data": {
      "text/plain": [
       "1884"
      ]
     },
     "execution_count": 386,
     "metadata": {},
     "output_type": "execute_result"
    }
   ],
   "source": [
    "store='1'\n",
    "store1 = store_set(linear_ds, store)\n",
    "len(store1)"
   ]
  },
  {
   "cell_type": "code",
   "execution_count": 387,
   "metadata": {},
   "outputs": [
    {
     "data": {
      "text/plain": [
       "Index(['Sales', 'Customers', 'Open', 'Promo', 'StateHoliday', 'SchoolHoliday',\n",
       "       'year', 'day', 'iso_weeknum', 'weekday', 'month', 'quarter',\n",
       "       'google_svi', 'wc_days', 'num_asy_app', 'cpi', 'tmpc', 'relh',\n",
       "       'CompetitionDistance', 'days_since_competition', 'days_since_promo2',\n",
       "       'promo2_int_mod'],\n",
       "      dtype='object')"
      ]
     },
     "execution_count": 387,
     "metadata": {},
     "output_type": "execute_result"
    }
   ],
   "source": [
    "store1.columns"
   ]
  },
  {
   "cell_type": "code",
   "execution_count": 388,
   "metadata": {},
   "outputs": [
    {
     "data": {
      "text/plain": [
       "22"
      ]
     },
     "execution_count": 388,
     "metadata": {},
     "output_type": "execute_result"
    }
   ],
   "source": [
    "len(store1.columns)"
   ]
  },
  {
   "cell_type": "markdown",
   "metadata": {},
   "source": [
    "<h3>Train, Validation & Test Split</h3><hr>"
   ]
  },
  {
   "cell_type": "code",
   "execution_count": 401,
   "metadata": {},
   "outputs": [],
   "source": [
    "#splitting the data set into train and test dataset\n",
    "train, test = train_test_split(store1, test_size=0.2)\n",
    "train, valid = train_test_split(train, test_size=0.1)"
   ]
  },
  {
   "cell_type": "code",
   "execution_count": 414,
   "metadata": {},
   "outputs": [
    {
     "name": "stdout",
     "output_type": "stream",
     "text": [
      "Length of train set:\t 1356\n",
      "Length of validation set: 151\n",
      "Length of test set:\t 377\n"
     ]
    }
   ],
   "source": [
    "print(\"Length of train set:\\t {}\\nLength of validation set: {}\\nLength of test set:\\t {}\".format(len(train), len(valid), len(test)))"
   ]
  },
  {
   "cell_type": "code",
   "execution_count": 442,
   "metadata": {},
   "outputs": [],
   "source": [
    "x_train = train['Sales']\n",
    "y_train = train[['Customers', 'Open', 'Promo', 'StateHoliday', 'SchoolHoliday',\n",
    "       'year', 'day', 'iso_weeknum', 'weekday', 'month', 'quarter',\n",
    "       'google_svi', 'wc_days', 'num_asy_app', 'cpi', 'tmpc', 'relh',\n",
    "       'CompetitionDistance', 'days_since_competition', 'days_since_promo2',\n",
    "       'promo2_int_mod']]\n",
    "\n"
   ]
  },
  {
   "cell_type": "markdown",
   "metadata": {},
   "source": [
    "There is not feature selection such as Forward, Backdard and stepwise, other options are to be explored"
   ]
  },
  {
   "cell_type": "code",
   "execution_count": null,
   "metadata": {},
   "outputs": [],
   "source": [
    "#linear regression\n"
   ]
  },
  {
   "cell_type": "raw",
   "metadata": {},
   "source": [
    "%who"
   ]
  },
  {
   "cell_type": "markdown",
   "metadata": {},
   "source": [
    "<div style=\"background-color:#7a1400;height:40px;padding-top:0.1px;\">\n",
    "<h6 align=center style=\"color:white\">\n",
    "<a href=\"https://www.linkedin.com/in/avinashpasupulate/\" style=\"color:white\">Avinash Pasupulate - Linkedin Profile</a>\n",
    "</h6> \n",
    "</div>"
   ]
  }
 ],
 "metadata": {
  "kernelspec": {
   "display_name": "Python 3",
   "language": "python",
   "name": "python3"
  },
  "language_info": {
   "codemirror_mode": {
    "name": "ipython",
    "version": 3
   },
   "file_extension": ".py",
   "mimetype": "text/x-python",
   "name": "python",
   "nbconvert_exporter": "python",
   "pygments_lexer": "ipython3",
   "version": "3.5.6"
  }
 },
 "nbformat": 4,
 "nbformat_minor": 2
}
