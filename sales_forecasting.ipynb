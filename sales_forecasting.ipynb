{
 "cells": [
  {
   "cell_type": "markdown",
   "metadata": {},
   "source": [
    "<div style=\"background-color:#7a1400;height:60px;padding-top:7px;\">\n",
    "<h3 align=center style=\"color:white\">\n",
    "Multivariate Sales Forecasting - German Retail Chain - Multivariate Forecasting\n",
    "</h3> \n",
    "</div>"
   ]
  },
  {
   "cell_type": "markdown",
   "metadata": {},
   "source": [
    "<h4>Avinash Pasupulate</h4><br>\n",
    "avinash.pasupulate@gmail.com<br>\n",
    "<a href=\"www.avinash.pasupulate.com\">www.avinash.pasupulate.com</a>\n",
    "<br><br>\n",
    "<i>7th January 2019</i>"
   ]
  },
  {
   "cell_type": "markdown",
   "metadata": {},
   "source": [
    "<br>\n",
    "<hr>\n",
    "<b>Open the html file in the repository or click \n",
    "<a href=\"http://nbviewer.jupyter.org/github/avinashpasupulate/multivariate_sales_forecasting_german_retail_chain/blob/master/sales_forecasting.ipynb\">Nbconvert Notebook</a> to view plots that are properly rendered.\n",
    "<br><br>\n",
    "Please wait for the html page to load completely.</b>\n",
    "<br>\n",
    "<hr>"
   ]
  },
  {
   "cell_type": "markdown",
   "metadata": {},
   "source": [
    "<h3>Methods for Multivariate Forecasting: </h3>\n",
    "<hr>\n",
    "<ul>\n",
    "    <li> Linear Regression\n",
    "    <li> ARIMAX - Auto-Regressive Integrated Moving Average with Exogenous variables\n",
    "    <li> SARIMAX - Seasonal Auto-Regressive Integrated Moving Average with Exogenous variables\n",
    "    <li> VAR - Vector AutoRegression\n",
    "    <li> Prophet by Facebook\n",
    "     </ul>\n",
    "<br><br>       \n",
    " \n",
    " \n",
    "<h3>Steps to Complete: </h3>\n",
    "<hr>\n",
    "<ul>\n",
    "    <li> Clean-up & remove/replace null values"
   ]
  },
  {
   "cell_type": "code",
   "execution_count": 829,
   "metadata": {},
   "outputs": [],
   "source": [
    "import os\n",
    "import copy\n",
    "import warnings\n",
    "import random #setting seed\n",
    "\n",
    "#data \n",
    "import datetime as dt\n",
    "import pandas as pd\n",
    "import numpy as np\n",
    "\n",
    "\n",
    "#visualization\n",
    "import seaborn as sns\n",
    "import matplotlib.pyplot as plt\n",
    "from tqdm._tqdm_notebook import tqdm_notebook\n",
    "\n",
    "#data pre-processing\n",
    "from sklearn.preprocessing import OneHotEncoder\n",
    "from sklearn.model_selection import train_test_split\n",
    "\n",
    "#forecasting\n",
    "from fbprophet import Prophet\n",
    "from sklearn.linear_model import LinearRegression\n",
    "\n",
    "\n",
    "% matplotlib inline\n",
    "tqdm_notebook.pandas()\n",
    "warnings.filterwarnings('ignore')\n",
    "pd.set_option('float_format','{:f}'.format)"
   ]
  },
  {
   "cell_type": "code",
   "execution_count": 449,
   "metadata": {},
   "outputs": [],
   "source": [
    "cwd = os.getcwd()\n",
    "random.seed(9891482)"
   ]
  },
  {
   "cell_type": "code",
   "execution_count": 450,
   "metadata": {},
   "outputs": [],
   "source": [
    "forecast_ads = pd.read_csv(cwd+r'/data/processed_data/sales_ads.csv')"
   ]
  },
  {
   "cell_type": "markdown",
   "metadata": {},
   "source": [
    "<h3>Data Cleanup</h3>\n",
    "<hr>\n",
    "<ul>\n",
    "    <li> Check for missing and partial values\n",
    "    <li> Replace / correct missing or partial values\n",
    "    <li> Remove rows containing NA values\n",
    "    <li> Final Checks\n",
    "</ul>"
   ]
  },
  {
   "cell_type": "code",
   "execution_count": 451,
   "metadata": {},
   "outputs": [],
   "source": [
    "#making copy of the imported data\n",
    "forecast_clean = copy.deepcopy(forecast_ads)"
   ]
  },
  {
   "cell_type": "code",
   "execution_count": 452,
   "metadata": {
    "scrolled": true
   },
   "outputs": [
    {
     "data": {
      "text/html": [
       "<div>\n",
       "<style scoped>\n",
       "    .dataframe tbody tr th:only-of-type {\n",
       "        vertical-align: middle;\n",
       "    }\n",
       "\n",
       "    .dataframe tbody tr th {\n",
       "        vertical-align: top;\n",
       "    }\n",
       "\n",
       "    .dataframe thead th {\n",
       "        text-align: right;\n",
       "    }\n",
       "</style>\n",
       "<table border=\"1\" class=\"dataframe\">\n",
       "  <thead>\n",
       "    <tr style=\"text-align: right;\">\n",
       "      <th></th>\n",
       "      <th>count</th>\n",
       "      <th>unique</th>\n",
       "    </tr>\n",
       "  </thead>\n",
       "  <tbody>\n",
       "    <tr>\n",
       "      <th>CompetitionDistance</th>\n",
       "      <td>2611969</td>\n",
       "      <td>NaN</td>\n",
       "    </tr>\n",
       "    <tr>\n",
       "      <th>Unnamed: 0</th>\n",
       "      <td>2617643</td>\n",
       "      <td>NaN</td>\n",
       "    </tr>\n",
       "    <tr>\n",
       "      <th>days_since_competition</th>\n",
       "      <td>2617643</td>\n",
       "      <td>9461</td>\n",
       "    </tr>\n",
       "    <tr>\n",
       "      <th>Assortment</th>\n",
       "      <td>2617643</td>\n",
       "      <td>3</td>\n",
       "    </tr>\n",
       "    <tr>\n",
       "      <th>StoreType</th>\n",
       "      <td>2617643</td>\n",
       "      <td>4</td>\n",
       "    </tr>\n",
       "    <tr>\n",
       "      <th>relh</th>\n",
       "      <td>2617643</td>\n",
       "      <td>NaN</td>\n",
       "    </tr>\n",
       "    <tr>\n",
       "      <th>tmpc</th>\n",
       "      <td>2617643</td>\n",
       "      <td>NaN</td>\n",
       "    </tr>\n",
       "    <tr>\n",
       "      <th>cpi</th>\n",
       "      <td>2617643</td>\n",
       "      <td>NaN</td>\n",
       "    </tr>\n",
       "    <tr>\n",
       "      <th>num_asy_app</th>\n",
       "      <td>2617643</td>\n",
       "      <td>31</td>\n",
       "    </tr>\n",
       "    <tr>\n",
       "      <th>wc_days</th>\n",
       "      <td>2617643</td>\n",
       "      <td>NaN</td>\n",
       "    </tr>\n",
       "    <tr>\n",
       "      <th>google_svi</th>\n",
       "      <td>2617643</td>\n",
       "      <td>NaN</td>\n",
       "    </tr>\n",
       "    <tr>\n",
       "      <th>mapped_region</th>\n",
       "      <td>2617643</td>\n",
       "      <td>12</td>\n",
       "    </tr>\n",
       "    <tr>\n",
       "      <th>quarter</th>\n",
       "      <td>2617643</td>\n",
       "      <td>NaN</td>\n",
       "    </tr>\n",
       "    <tr>\n",
       "      <th>days_since_promo2</th>\n",
       "      <td>2617643</td>\n",
       "      <td>2183</td>\n",
       "    </tr>\n",
       "    <tr>\n",
       "      <th>seasons</th>\n",
       "      <td>2617643</td>\n",
       "      <td>4</td>\n",
       "    </tr>\n",
       "    <tr>\n",
       "      <th>weekday</th>\n",
       "      <td>2617643</td>\n",
       "      <td>7</td>\n",
       "    </tr>\n",
       "    <tr>\n",
       "      <th>iso_weeknum</th>\n",
       "      <td>2617643</td>\n",
       "      <td>NaN</td>\n",
       "    </tr>\n",
       "    <tr>\n",
       "      <th>day</th>\n",
       "      <td>2617643</td>\n",
       "      <td>NaN</td>\n",
       "    </tr>\n",
       "    <tr>\n",
       "      <th>year</th>\n",
       "      <td>2617643</td>\n",
       "      <td>NaN</td>\n",
       "    </tr>\n",
       "    <tr>\n",
       "      <th>SchoolHoliday</th>\n",
       "      <td>2617643</td>\n",
       "      <td>NaN</td>\n",
       "    </tr>\n",
       "    <tr>\n",
       "      <th>StateHoliday</th>\n",
       "      <td>2617643</td>\n",
       "      <td>4</td>\n",
       "    </tr>\n",
       "    <tr>\n",
       "      <th>Promo</th>\n",
       "      <td>2617643</td>\n",
       "      <td>NaN</td>\n",
       "    </tr>\n",
       "    <tr>\n",
       "      <th>Open</th>\n",
       "      <td>2617643</td>\n",
       "      <td>NaN</td>\n",
       "    </tr>\n",
       "    <tr>\n",
       "      <th>Customers</th>\n",
       "      <td>2617643</td>\n",
       "      <td>NaN</td>\n",
       "    </tr>\n",
       "    <tr>\n",
       "      <th>Sales</th>\n",
       "      <td>2617643</td>\n",
       "      <td>NaN</td>\n",
       "    </tr>\n",
       "    <tr>\n",
       "      <th>date_s</th>\n",
       "      <td>2617643</td>\n",
       "      <td>942</td>\n",
       "    </tr>\n",
       "    <tr>\n",
       "      <th>Store</th>\n",
       "      <td>2617643</td>\n",
       "      <td>NaN</td>\n",
       "    </tr>\n",
       "    <tr>\n",
       "      <th>month</th>\n",
       "      <td>2617643</td>\n",
       "      <td>12</td>\n",
       "    </tr>\n",
       "    <tr>\n",
       "      <th>promo2_int_mod</th>\n",
       "      <td>2617643</td>\n",
       "      <td>NaN</td>\n",
       "    </tr>\n",
       "  </tbody>\n",
       "</table>\n",
       "</div>"
      ],
      "text/plain": [
       "                          count unique\n",
       "CompetitionDistance     2611969    NaN\n",
       "Unnamed: 0              2617643    NaN\n",
       "days_since_competition  2617643   9461\n",
       "Assortment              2617643      3\n",
       "StoreType               2617643      4\n",
       "relh                    2617643    NaN\n",
       "tmpc                    2617643    NaN\n",
       "cpi                     2617643    NaN\n",
       "num_asy_app             2617643     31\n",
       "wc_days                 2617643    NaN\n",
       "google_svi              2617643    NaN\n",
       "mapped_region           2617643     12\n",
       "quarter                 2617643    NaN\n",
       "days_since_promo2       2617643   2183\n",
       "seasons                 2617643      4\n",
       "weekday                 2617643      7\n",
       "iso_weeknum             2617643    NaN\n",
       "day                     2617643    NaN\n",
       "year                    2617643    NaN\n",
       "SchoolHoliday           2617643    NaN\n",
       "StateHoliday            2617643      4\n",
       "Promo                   2617643    NaN\n",
       "Open                    2617643    NaN\n",
       "Customers               2617643    NaN\n",
       "Sales                   2617643    NaN\n",
       "date_s                  2617643    942\n",
       "Store                   2617643    NaN\n",
       "month                   2617643     12\n",
       "promo2_int_mod          2617643    NaN"
      ]
     },
     "execution_count": 452,
     "metadata": {},
     "output_type": "execute_result"
    }
   ],
   "source": [
    "#checking for missing and partial information\n",
    "num = forecast_clean.describe(include='all').T\n",
    "num['count']=num['count'].astype('int64')\n",
    "num[['count', 'unique']].sort_values('count', ascending=True)"
   ]
  },
  {
   "cell_type": "code",
   "execution_count": 453,
   "metadata": {},
   "outputs": [
    {
     "data": {
      "text/html": [
       "<div>\n",
       "<style scoped>\n",
       "    .dataframe tbody tr th:only-of-type {\n",
       "        vertical-align: middle;\n",
       "    }\n",
       "\n",
       "    .dataframe tbody tr th {\n",
       "        vertical-align: top;\n",
       "    }\n",
       "\n",
       "    .dataframe thead th {\n",
       "        text-align: right;\n",
       "    }\n",
       "</style>\n",
       "<table border=\"1\" class=\"dataframe\">\n",
       "  <thead>\n",
       "    <tr style=\"text-align: right;\">\n",
       "      <th></th>\n",
       "      <th>count</th>\n",
       "      <th>unique</th>\n",
       "    </tr>\n",
       "  </thead>\n",
       "  <tbody>\n",
       "    <tr>\n",
       "      <th>StateHoliday</th>\n",
       "      <td>2617643</td>\n",
       "      <td>4</td>\n",
       "    </tr>\n",
       "    <tr>\n",
       "      <th>weekday</th>\n",
       "      <td>2617643</td>\n",
       "      <td>7</td>\n",
       "    </tr>\n",
       "    <tr>\n",
       "      <th>seasons</th>\n",
       "      <td>2617643</td>\n",
       "      <td>4</td>\n",
       "    </tr>\n",
       "    <tr>\n",
       "      <th>StoreType</th>\n",
       "      <td>2617643</td>\n",
       "      <td>4</td>\n",
       "    </tr>\n",
       "    <tr>\n",
       "      <th>Assortment</th>\n",
       "      <td>2617643</td>\n",
       "      <td>3</td>\n",
       "    </tr>\n",
       "  </tbody>\n",
       "</table>\n",
       "</div>"
      ],
      "text/plain": [
       "                count unique\n",
       "StateHoliday  2617643      4\n",
       "weekday       2617643      7\n",
       "seasons       2617643      4\n",
       "StoreType     2617643      4\n",
       "Assortment    2617643      3"
      ]
     },
     "execution_count": 453,
     "metadata": {},
     "output_type": "execute_result"
    }
   ],
   "source": [
    "num[['count', 'unique']][num['unique']<10]"
   ]
  },
  {
   "cell_type": "code",
   "execution_count": 454,
   "metadata": {},
   "outputs": [],
   "source": [
    "#replacing na values in the CompetitionDistance column with 0 \n",
    "forecast_clean.loc[forecast_clean['CompetitionDistance'].isna(),\n",
    "                   'CompetitionDistance']=0"
   ]
  },
  {
   "cell_type": "code",
   "execution_count": 455,
   "metadata": {},
   "outputs": [],
   "source": [
    "#replace timedelta values with numbers in days_since_competition and days_since_promo2 columns\n",
    "forecast_clean['days_since_competition'] = pd.to_timedelta(forecast_clean['days_since_competition']).dt.days\n",
    "forecast_clean['days_since_promo2'] = pd.to_timedelta(forecast_clean['days_since_promo2']).dt.days\n"
   ]
  },
  {
   "cell_type": "code",
   "execution_count": 456,
   "metadata": {
    "scrolled": true
   },
   "outputs": [
    {
     "name": "stdout",
     "output_type": "stream",
     "text": [
      "<class 'pandas.core.frame.DataFrame'>\n",
      "RangeIndex: 2617643 entries, 0 to 2617642\n",
      "Data columns (total 29 columns):\n",
      "Unnamed: 0                int64\n",
      "Store                     int64\n",
      "date_s                    object\n",
      "Sales                     int64\n",
      "Customers                 int64\n",
      "Open                      int64\n",
      "Promo                     int64\n",
      "StateHoliday              object\n",
      "SchoolHoliday             int64\n",
      "year                      int64\n",
      "day                       int64\n",
      "iso_weeknum               int64\n",
      "weekday                   object\n",
      "month                     object\n",
      "seasons                   object\n",
      "quarter                   int64\n",
      "mapped_region             object\n",
      "google_svi                int64\n",
      "wc_days                   int64\n",
      "num_asy_app               object\n",
      "cpi                       float64\n",
      "tmpc                      float64\n",
      "relh                      float64\n",
      "StoreType                 object\n",
      "Assortment                object\n",
      "CompetitionDistance       float64\n",
      "days_since_competition    int64\n",
      "days_since_promo2         int64\n",
      "promo2_int_mod            int64\n",
      "dtypes: float64(4), int64(16), object(9)\n",
      "memory usage: 1.8 GB\n"
     ]
    }
   ],
   "source": [
    "#list all datatypes in forecast_clean dataframe\n",
    "forecast_clean.info(memory_usage='deep')"
   ]
  },
  {
   "cell_type": "code",
   "execution_count": 457,
   "metadata": {},
   "outputs": [],
   "source": [
    "#convert datatypes\n",
    "forecast_clean['Store'] = forecast_clean['Store'].astype(str)\n",
    "forecast_clean.loc[forecast_clean['StateHoliday']!='0', 'StateHoliday'] = 1\n",
    "forecast_clean['SchoolHoliday'] = forecast_clean['SchoolHoliday'].astype(int)\n",
    "forecast_clean['StateHoliday'] = forecast_clean['StateHoliday'].astype(int)\n",
    "forecast_clean['num_asy_app'] = (forecast_clean['num_asy_app'].apply(lambda x: x.replace(',','').replace('.',''))).astype(float)\n",
    "#remove date columns since they are captured separately"
   ]
  },
  {
   "cell_type": "code",
   "execution_count": 458,
   "metadata": {},
   "outputs": [],
   "source": [
    "#datetime object can also be converted to ordinal values line \"701234\" using the below code\n",
    "#pd.to_datetime(forecast_ads['date_s']).map(dt.datetime.toordinal)"
   ]
  },
  {
   "cell_type": "code",
   "execution_count": 459,
   "metadata": {},
   "outputs": [],
   "source": [
    "#converting date to ordinal\n",
    "#removing store type and assortment since these variables are at the store level\n",
    "#also excluding season because temperature and humidity can be used to simulate the same\n",
    "weekdaymap = {'Friday':6, 'Thursday':5, 'Wednesday':4, 'Tuesday':3, 'Monday':2, 'Sunday':1,\n",
    "       'Saturday':7}\n",
    "forecast_clean['month'] = forecast_clean['month'].apply(lambda x: int(dt.datetime.strptime(x, '%B').month))\n",
    "forecast_clean['weekday'] = forecast_clean['weekday'].map(weekdaymap).astype(int)\n",
    "\n",
    "forecast_clean.drop(['StoreType', 'Assortment','seasons'], inplace=True, axis=1)\n"
   ]
  },
  {
   "cell_type": "code",
   "execution_count": 848,
   "metadata": {},
   "outputs": [],
   "source": [
    "def mape(y_true, y_pred):\n",
    "    t_true, y_pred = np.array(y_true), np.array(y_pred)\n",
    "    return np.mean(np.abs(y_true - y_pred) / np.abs(y_true)) * 100"
   ]
  },
  {
   "cell_type": "markdown",
   "metadata": {},
   "source": [
    "<h3>Linear Regression</h3>\n",
    "<hr>\n",
    "<ul>\n",
    "    <li> One Hot Encoding\n",
    "    <li> Train, Validation & Test Split\n",
    "    <li> Feature Selection & run model\n",
    "        <ul>\n",
    "            <li> Backward Feature Selection\n",
    "            <li> Forward Feature Selection\n",
    "            <li> Stepwise Feature Selection\n",
    "        </ul>\n",
    "    <li> Validate model using validation dataset\n",
    "    <li> Optimize Parameters to get an ideal fit for validation dataset\n",
    "    <li> Test with test dataset\n",
    "    <li> Intepret results\n",
    "</ul>\n",
    "<br>\n",
    "<h4>Notes:</h4>\n",
    "<ul>\n",
    "    <li> Maynot be an ideal method to forecast a timeseries\n",
    "    <li> Check from multi-collinearity\n",
    "    <li> Check for missing or incomplete data\n",
    "    <li> Check for outliers\n",
    "    <li> Ensure data splits are made in sequence since this for a time series\n",
    "</ul>\n",
    "<br>\n",
    "<h4>Reference:</h4> \n",
    "<ul>\n",
    "    <li><a href=\"https://www.theanalysisfactor.com/13-steps-regression-anova/\">13 Steps for Regression ANOVA</a>"
   ]
  },
  {
   "cell_type": "code",
   "execution_count": 460,
   "metadata": {},
   "outputs": [],
   "source": [
    "#creating copy for linear regression\n",
    "linear_ds = copy.deepcopy(forecast_clean)\n",
    "linear_ds.head()\n",
    "linear_ds.drop('date_s', inplace=True, axis = 1)"
   ]
  },
  {
   "cell_type": "code",
   "execution_count": 461,
   "metadata": {},
   "outputs": [],
   "source": [
    "#testing with one store\n",
    "def store_set(linear_ds, store):\n",
    "    #subsetting data by store\n",
    "    store1 = linear_ds.loc[linear_ds['Store']==store]\n",
    "    store1.drop(['Store','Unnamed: 0','mapped_region'], inplace=True, axis=1)\n",
    "    #One Hot Encoding\n",
    "    store1 = pd.get_dummies(store1)\n",
    "    return store1"
   ]
  },
  {
   "cell_type": "code",
   "execution_count": 871,
   "metadata": {
    "scrolled": true
   },
   "outputs": [
    {
     "data": {
      "text/plain": [
       "1884"
      ]
     },
     "execution_count": 871,
     "metadata": {},
     "output_type": "execute_result"
    }
   ],
   "source": [
    "#running func with one hot encoding\n",
    "store='1'\n",
    "store1 = store_set(linear_ds, store)\n",
    "len(store1)"
   ]
  },
  {
   "cell_type": "code",
   "execution_count": 872,
   "metadata": {},
   "outputs": [
    {
     "data": {
      "text/plain": [
       "Index(['Sales', 'Customers', 'Open', 'Promo', 'StateHoliday', 'SchoolHoliday',\n",
       "       'year', 'day', 'iso_weeknum', 'weekday', 'month', 'quarter',\n",
       "       'google_svi', 'wc_days', 'num_asy_app', 'cpi', 'tmpc', 'relh',\n",
       "       'CompetitionDistance', 'days_since_competition', 'days_since_promo2',\n",
       "       'promo2_int_mod'],\n",
       "      dtype='object')"
      ]
     },
     "execution_count": 872,
     "metadata": {},
     "output_type": "execute_result"
    }
   ],
   "source": [
    "store1.columns"
   ]
  },
  {
   "cell_type": "code",
   "execution_count": 873,
   "metadata": {},
   "outputs": [
    {
     "data": {
      "text/plain": [
       "22"
      ]
     },
     "execution_count": 873,
     "metadata": {},
     "output_type": "execute_result"
    }
   ],
   "source": [
    "len(store1.columns)"
   ]
  },
  {
   "cell_type": "markdown",
   "metadata": {},
   "source": [
    "<h4>Seasonality Index</h4>\n",
    "<br>\n",
    "Calculating seasonality index with month data since the data data is excluded"
   ]
  },
  {
   "cell_type": "code",
   "execution_count": 874,
   "metadata": {},
   "outputs": [
    {
     "data": {
      "text/html": [
       "<div>\n",
       "<style scoped>\n",
       "    .dataframe tbody tr th:only-of-type {\n",
       "        vertical-align: middle;\n",
       "    }\n",
       "\n",
       "    .dataframe tbody tr th {\n",
       "        vertical-align: top;\n",
       "    }\n",
       "\n",
       "    .dataframe thead th {\n",
       "        text-align: right;\n",
       "    }\n",
       "</style>\n",
       "<table border=\"1\" class=\"dataframe\">\n",
       "  <thead>\n",
       "    <tr style=\"text-align: right;\">\n",
       "      <th></th>\n",
       "      <th>day</th>\n",
       "      <th>month</th>\n",
       "      <th>Sales</th>\n",
       "      <th>si_index</th>\n",
       "      <th>day_mth</th>\n",
       "    </tr>\n",
       "  </thead>\n",
       "  <tbody>\n",
       "    <tr>\n",
       "      <th>0</th>\n",
       "      <td>1</td>\n",
       "      <td>1</td>\n",
       "      <td>0</td>\n",
       "      <td>0.000000</td>\n",
       "      <td>1-1</td>\n",
       "    </tr>\n",
       "    <tr>\n",
       "      <th>1</th>\n",
       "      <td>1</td>\n",
       "      <td>2</td>\n",
       "      <td>21850</td>\n",
       "      <td>0.002939</td>\n",
       "      <td>1-2</td>\n",
       "    </tr>\n",
       "    <tr>\n",
       "      <th>2</th>\n",
       "      <td>1</td>\n",
       "      <td>3</td>\n",
       "      <td>19836</td>\n",
       "      <td>0.002668</td>\n",
       "      <td>1-3</td>\n",
       "    </tr>\n",
       "    <tr>\n",
       "      <th>3</th>\n",
       "      <td>1</td>\n",
       "      <td>4</td>\n",
       "      <td>24446</td>\n",
       "      <td>0.003289</td>\n",
       "      <td>1-4</td>\n",
       "    </tr>\n",
       "    <tr>\n",
       "      <th>4</th>\n",
       "      <td>1</td>\n",
       "      <td>5</td>\n",
       "      <td>0</td>\n",
       "      <td>0.000000</td>\n",
       "      <td>1-5</td>\n",
       "    </tr>\n",
       "  </tbody>\n",
       "</table>\n",
       "</div>"
      ],
      "text/plain": [
       "   day  month  Sales  si_index day_mth\n",
       "0    1      1      0  0.000000     1-1\n",
       "1    1      2  21850  0.002939     1-2\n",
       "2    1      3  19836  0.002668     1-3\n",
       "3    1      4  24446  0.003289     1-4\n",
       "4    1      5      0  0.000000     1-5"
      ]
     },
     "execution_count": 874,
     "metadata": {},
     "output_type": "execute_result"
    }
   ],
   "source": [
    "#sum(day sales for all years) / sum(overall sales)\n",
    "\n",
    "si_group = store1[['Sales', 'day', 'month']]\n",
    "\n",
    "si_sum = si_group.groupby(['day', 'month'])['Sales'].sum().reset_index()\n",
    "si_sum['si_index'] = si_sum['Sales']/sum(store_l['Sales'])\n",
    "si_sum['day_mth'] = si_sum['day'].astype(str)+\"-\"+si_sum['month'].astype(str)\n",
    "si_sum.head()\n"
   ]
  },
  {
   "cell_type": "code",
   "execution_count": 875,
   "metadata": {},
   "outputs": [
    {
     "data": {
      "text/plain": [
       "[<matplotlib.lines.Line2D at 0x1b21ddf630>]"
      ]
     },
     "execution_count": 875,
     "metadata": {},
     "output_type": "execute_result"
    },
    {
     "data": {
      "image/png": "[encoded data removed]",
      "text/plain": [
       "<Figure size 432x288 with 1 Axes>"
      ]
     },
     "metadata": {
      "needs_background": "light"
     },
     "output_type": "display_data"
    }
   ],
   "source": [
    "#daily seasonlaity index\n",
    "plt.plot(si_sum['si_index'])"
   ]
  },
  {
   "cell_type": "code",
   "execution_count": 876,
   "metadata": {},
   "outputs": [
    {
     "data": {
      "text/plain": [
       "[<matplotlib.lines.Line2D at 0x1b21e149e8>]"
      ]
     },
     "execution_count": 876,
     "metadata": {},
     "output_type": "execute_result"
    },
    {
     "data": {
      "image/png": "[encoded data removed]",
      "text/plain": [
       "<Figure size 432x288 with 1 Axes>"
      ]
     },
     "metadata": {
      "needs_background": "light"
     },
     "output_type": "display_data"
    }
   ],
   "source": [
    "#monthly seasonality index\n",
    "si_mth = si_sum.groupby(['month'])['Sales'].sum().reset_index()\n",
    "si_mth['si_index'] = si_mth['Sales']/sum(si_mth['Sales'])\n",
    "#si_mth.head()\n",
    "plt.plot(si_mth['si_index'])"
   ]
  },
  {
   "cell_type": "markdown",
   "metadata": {},
   "source": [
    "In the above plot the effect of seasonality can be observed by month,\n",
    "* There seems to be a dip in sales during the months of August & September \n",
    "* Sales peaks during the months of January, March, July\n",
    "* The dip in sales may also be caused due to the store closure during a majority of days"
   ]
  },
  {
   "cell_type": "code",
   "execution_count": 877,
   "metadata": {},
   "outputs": [
    {
     "data": {
      "text/html": [
       "<div>\n",
       "<style scoped>\n",
       "    .dataframe tbody tr th:only-of-type {\n",
       "        vertical-align: middle;\n",
       "    }\n",
       "\n",
       "    .dataframe tbody tr th {\n",
       "        vertical-align: top;\n",
       "    }\n",
       "\n",
       "    .dataframe thead th {\n",
       "        text-align: right;\n",
       "    }\n",
       "</style>\n",
       "<table border=\"1\" class=\"dataframe\">\n",
       "  <thead>\n",
       "    <tr style=\"text-align: right;\">\n",
       "      <th></th>\n",
       "      <th>Sales</th>\n",
       "      <th>Customers</th>\n",
       "      <th>Open</th>\n",
       "      <th>Promo</th>\n",
       "      <th>StateHoliday</th>\n",
       "      <th>SchoolHoliday</th>\n",
       "      <th>year</th>\n",
       "      <th>day</th>\n",
       "      <th>iso_weeknum</th>\n",
       "      <th>weekday</th>\n",
       "      <th>...</th>\n",
       "      <th>wc_days</th>\n",
       "      <th>num_asy_app</th>\n",
       "      <th>cpi</th>\n",
       "      <th>tmpc</th>\n",
       "      <th>relh</th>\n",
       "      <th>CompetitionDistance</th>\n",
       "      <th>days_since_competition</th>\n",
       "      <th>days_since_promo2</th>\n",
       "      <th>promo2_int_mod</th>\n",
       "      <th>si_index</th>\n",
       "    </tr>\n",
       "  </thead>\n",
       "  <tbody>\n",
       "    <tr>\n",
       "      <th>0</th>\n",
       "      <td>5263</td>\n",
       "      <td>555</td>\n",
       "      <td>1</td>\n",
       "      <td>1</td>\n",
       "      <td>0</td>\n",
       "      <td>1</td>\n",
       "      <td>2015</td>\n",
       "      <td>31</td>\n",
       "      <td>31</td>\n",
       "      <td>6</td>\n",
       "      <td>...</td>\n",
       "      <td>0</td>\n",
       "      <td>39825.000000</td>\n",
       "      <td>100.288454</td>\n",
       "      <td>16.296894</td>\n",
       "      <td>54.272174</td>\n",
       "      <td>1270.000000</td>\n",
       "      <td>2524</td>\n",
       "      <td>0</td>\n",
       "      <td>0</td>\n",
       "      <td>0.004289</td>\n",
       "    </tr>\n",
       "    <tr>\n",
       "      <th>1</th>\n",
       "      <td>5263</td>\n",
       "      <td>555</td>\n",
       "      <td>1</td>\n",
       "      <td>1</td>\n",
       "      <td>0</td>\n",
       "      <td>1</td>\n",
       "      <td>2015</td>\n",
       "      <td>31</td>\n",
       "      <td>31</td>\n",
       "      <td>6</td>\n",
       "      <td>...</td>\n",
       "      <td>0</td>\n",
       "      <td>39825.000000</td>\n",
       "      <td>100.288454</td>\n",
       "      <td>16.296894</td>\n",
       "      <td>54.272174</td>\n",
       "      <td>1270.000000</td>\n",
       "      <td>2524</td>\n",
       "      <td>0</td>\n",
       "      <td>0</td>\n",
       "      <td>0.004289</td>\n",
       "    </tr>\n",
       "    <tr>\n",
       "      <th>2</th>\n",
       "      <td>5020</td>\n",
       "      <td>546</td>\n",
       "      <td>1</td>\n",
       "      <td>1</td>\n",
       "      <td>0</td>\n",
       "      <td>1</td>\n",
       "      <td>2015</td>\n",
       "      <td>30</td>\n",
       "      <td>31</td>\n",
       "      <td>5</td>\n",
       "      <td>...</td>\n",
       "      <td>0</td>\n",
       "      <td>39825.000000</td>\n",
       "      <td>100.288454</td>\n",
       "      <td>15.944318</td>\n",
       "      <td>56.774830</td>\n",
       "      <td>1270.000000</td>\n",
       "      <td>2523</td>\n",
       "      <td>0</td>\n",
       "      <td>0</td>\n",
       "      <td>0.004380</td>\n",
       "    </tr>\n",
       "    <tr>\n",
       "      <th>3</th>\n",
       "      <td>5020</td>\n",
       "      <td>546</td>\n",
       "      <td>1</td>\n",
       "      <td>1</td>\n",
       "      <td>0</td>\n",
       "      <td>1</td>\n",
       "      <td>2015</td>\n",
       "      <td>30</td>\n",
       "      <td>31</td>\n",
       "      <td>5</td>\n",
       "      <td>...</td>\n",
       "      <td>0</td>\n",
       "      <td>39825.000000</td>\n",
       "      <td>100.288454</td>\n",
       "      <td>15.944318</td>\n",
       "      <td>56.774830</td>\n",
       "      <td>1270.000000</td>\n",
       "      <td>2523</td>\n",
       "      <td>0</td>\n",
       "      <td>0</td>\n",
       "      <td>0.004380</td>\n",
       "    </tr>\n",
       "    <tr>\n",
       "      <th>4</th>\n",
       "      <td>4782</td>\n",
       "      <td>523</td>\n",
       "      <td>1</td>\n",
       "      <td>1</td>\n",
       "      <td>0</td>\n",
       "      <td>1</td>\n",
       "      <td>2015</td>\n",
       "      <td>29</td>\n",
       "      <td>31</td>\n",
       "      <td>4</td>\n",
       "      <td>...</td>\n",
       "      <td>0</td>\n",
       "      <td>39825.000000</td>\n",
       "      <td>100.288454</td>\n",
       "      <td>16.233511</td>\n",
       "      <td>58.021436</td>\n",
       "      <td>1270.000000</td>\n",
       "      <td>2522</td>\n",
       "      <td>0</td>\n",
       "      <td>0</td>\n",
       "      <td>0.004392</td>\n",
       "    </tr>\n",
       "  </tbody>\n",
       "</table>\n",
       "<p>5 rows × 23 columns</p>\n",
       "</div>"
      ],
      "text/plain": [
       "   Sales  Customers  Open  Promo  StateHoliday  SchoolHoliday  year  day  \\\n",
       "0   5263        555     1      1             0              1  2015   31   \n",
       "1   5263        555     1      1             0              1  2015   31   \n",
       "2   5020        546     1      1             0              1  2015   30   \n",
       "3   5020        546     1      1             0              1  2015   30   \n",
       "4   4782        523     1      1             0              1  2015   29   \n",
       "\n",
       "   iso_weeknum  weekday    ...     wc_days  num_asy_app        cpi      tmpc  \\\n",
       "0           31        6    ...           0 39825.000000 100.288454 16.296894   \n",
       "1           31        6    ...           0 39825.000000 100.288454 16.296894   \n",
       "2           31        5    ...           0 39825.000000 100.288454 15.944318   \n",
       "3           31        5    ...           0 39825.000000 100.288454 15.944318   \n",
       "4           31        4    ...           0 39825.000000 100.288454 16.233511   \n",
       "\n",
       "       relh  CompetitionDistance  days_since_competition  days_since_promo2  \\\n",
       "0 54.272174          1270.000000                    2524                  0   \n",
       "1 54.272174          1270.000000                    2524                  0   \n",
       "2 56.774830          1270.000000                    2523                  0   \n",
       "3 56.774830          1270.000000                    2523                  0   \n",
       "4 58.021436          1270.000000                    2522                  0   \n",
       "\n",
       "   promo2_int_mod  si_index  \n",
       "0               0  0.004289  \n",
       "1               0  0.004289  \n",
       "2               0  0.004380  \n",
       "3               0  0.004380  \n",
       "4               0  0.004392  \n",
       "\n",
       "[5 rows x 23 columns]"
      ]
     },
     "execution_count": 877,
     "metadata": {},
     "output_type": "execute_result"
    }
   ],
   "source": [
    "#mapping daily seasonality index to day & month in dataset\n",
    "si_group = si_sum[['si_index', 'day_mth']]\n",
    "store1['day_mth'] = store1['day'].astype(str)+\"-\"+store1['month'].astype(str)\n",
    "store1.head()\n",
    "store_l = store1.merge(si_group, on='day_mth', how='left')\n",
    "store_l.drop('day_mth', axis=1, inplace=True)\n",
    "store_l.head()\n"
   ]
  },
  {
   "cell_type": "code",
   "execution_count": 878,
   "metadata": {},
   "outputs": [],
   "source": [
    "store_l= store_l[['Sales', 'Customers', 'Open', 'Promo', 'StateHoliday', 'SchoolHoliday',\n",
    "                  'google_svi', 'wc_days', 'num_asy_app', 'cpi', 'tmpc', 'relh',\n",
    "                  'CompetitionDistance', 'days_since_competition', 'days_since_promo2',\n",
    "                  'promo2_int_mod', 'si_index']]"
   ]
  },
  {
   "cell_type": "markdown",
   "metadata": {},
   "source": [
    "<h3>Train, Validation & Test Split</h3><hr>"
   ]
  },
  {
   "cell_type": "code",
   "execution_count": 879,
   "metadata": {},
   "outputs": [],
   "source": [
    "#splitting the data set into train and test dataset\n",
    "\n",
    "cols = ['Customers', 'Open', 'Promo', 'StateHoliday', 'SchoolHoliday',\n",
    "        'google_svi', 'wc_days', 'num_asy_app', 'cpi', 'tmpc', 'relh',\n",
    "        'CompetitionDistance', 'days_since_competition', 'days_since_promo2',\n",
    "        'promo2_int_mod', 'si_index']\n",
    "split = round(len(store_l)*0.2)\n",
    "test_l = store_l.iloc[:split,]\n",
    "train_l = store_l.iloc[split+1:,]\n",
    "\n",
    "train_x = train_l[cols]\n",
    "test_x = test_l[cols]\n",
    "\n",
    "train_y = train_l['Sales']\n",
    "test_y = test_l['Sales']"
   ]
  },
  {
   "cell_type": "code",
   "execution_count": 880,
   "metadata": {},
   "outputs": [
    {
     "data": {
      "text/html": [
       "<div>\n",
       "<style scoped>\n",
       "    .dataframe tbody tr th:only-of-type {\n",
       "        vertical-align: middle;\n",
       "    }\n",
       "\n",
       "    .dataframe tbody tr th {\n",
       "        vertical-align: top;\n",
       "    }\n",
       "\n",
       "    .dataframe thead th {\n",
       "        text-align: right;\n",
       "    }\n",
       "</style>\n",
       "<table border=\"1\" class=\"dataframe\">\n",
       "  <thead>\n",
       "    <tr style=\"text-align: right;\">\n",
       "      <th></th>\n",
       "      <th>Sales</th>\n",
       "      <th>Customers</th>\n",
       "      <th>Open</th>\n",
       "      <th>Promo</th>\n",
       "      <th>StateHoliday</th>\n",
       "      <th>SchoolHoliday</th>\n",
       "      <th>google_svi</th>\n",
       "      <th>wc_days</th>\n",
       "      <th>num_asy_app</th>\n",
       "      <th>cpi</th>\n",
       "      <th>tmpc</th>\n",
       "      <th>relh</th>\n",
       "      <th>CompetitionDistance</th>\n",
       "      <th>days_since_competition</th>\n",
       "      <th>days_since_promo2</th>\n",
       "      <th>promo2_int_mod</th>\n",
       "      <th>si_index</th>\n",
       "    </tr>\n",
       "  </thead>\n",
       "  <tbody>\n",
       "    <tr>\n",
       "      <th>378</th>\n",
       "      <td>3586</td>\n",
       "      <td>489</td>\n",
       "      <td>1</td>\n",
       "      <td>0</td>\n",
       "      <td>0</td>\n",
       "      <td>0</td>\n",
       "      <td>48</td>\n",
       "      <td>0</td>\n",
       "      <td>26875.000000</td>\n",
       "      <td>98.791611</td>\n",
       "      <td>0.561783</td>\n",
       "      <td>79.959045</td>\n",
       "      <td>1270.000000</td>\n",
       "      <td>2335</td>\n",
       "      <td>0</td>\n",
       "      <td>0</td>\n",
       "      <td>0.003702</td>\n",
       "    </tr>\n",
       "    <tr>\n",
       "      <th>379</th>\n",
       "      <td>3586</td>\n",
       "      <td>489</td>\n",
       "      <td>1</td>\n",
       "      <td>0</td>\n",
       "      <td>0</td>\n",
       "      <td>0</td>\n",
       "      <td>48</td>\n",
       "      <td>0</td>\n",
       "      <td>26875.000000</td>\n",
       "      <td>98.791611</td>\n",
       "      <td>0.561783</td>\n",
       "      <td>79.959045</td>\n",
       "      <td>1270.000000</td>\n",
       "      <td>2335</td>\n",
       "      <td>0</td>\n",
       "      <td>0</td>\n",
       "      <td>0.003702</td>\n",
       "    </tr>\n",
       "    <tr>\n",
       "      <th>380</th>\n",
       "      <td>3492</td>\n",
       "      <td>493</td>\n",
       "      <td>1</td>\n",
       "      <td>0</td>\n",
       "      <td>0</td>\n",
       "      <td>0</td>\n",
       "      <td>48</td>\n",
       "      <td>0</td>\n",
       "      <td>26875.000000</td>\n",
       "      <td>98.791611</td>\n",
       "      <td>0.748428</td>\n",
       "      <td>80.800440</td>\n",
       "      <td>1270.000000</td>\n",
       "      <td>2334</td>\n",
       "      <td>0</td>\n",
       "      <td>0</td>\n",
       "      <td>0.003706</td>\n",
       "    </tr>\n",
       "    <tr>\n",
       "      <th>381</th>\n",
       "      <td>3492</td>\n",
       "      <td>493</td>\n",
       "      <td>1</td>\n",
       "      <td>0</td>\n",
       "      <td>0</td>\n",
       "      <td>0</td>\n",
       "      <td>48</td>\n",
       "      <td>0</td>\n",
       "      <td>26875.000000</td>\n",
       "      <td>98.791611</td>\n",
       "      <td>0.748428</td>\n",
       "      <td>80.800440</td>\n",
       "      <td>1270.000000</td>\n",
       "      <td>2334</td>\n",
       "      <td>0</td>\n",
       "      <td>0</td>\n",
       "      <td>0.003706</td>\n",
       "    </tr>\n",
       "    <tr>\n",
       "      <th>382</th>\n",
       "      <td>3299</td>\n",
       "      <td>460</td>\n",
       "      <td>1</td>\n",
       "      <td>0</td>\n",
       "      <td>0</td>\n",
       "      <td>0</td>\n",
       "      <td>48</td>\n",
       "      <td>0</td>\n",
       "      <td>26875.000000</td>\n",
       "      <td>98.791611</td>\n",
       "      <td>-0.537162</td>\n",
       "      <td>85.408311</td>\n",
       "      <td>1270.000000</td>\n",
       "      <td>2333</td>\n",
       "      <td>0</td>\n",
       "      <td>0</td>\n",
       "      <td>0.003725</td>\n",
       "    </tr>\n",
       "  </tbody>\n",
       "</table>\n",
       "</div>"
      ],
      "text/plain": [
       "     Sales  Customers  Open  Promo  StateHoliday  SchoolHoliday  google_svi  \\\n",
       "378   3586        489     1      0             0              0          48   \n",
       "379   3586        489     1      0             0              0          48   \n",
       "380   3492        493     1      0             0              0          48   \n",
       "381   3492        493     1      0             0              0          48   \n",
       "382   3299        460     1      0             0              0          48   \n",
       "\n",
       "     wc_days  num_asy_app       cpi      tmpc      relh  CompetitionDistance  \\\n",
       "378        0 26875.000000 98.791611  0.561783 79.959045          1270.000000   \n",
       "379        0 26875.000000 98.791611  0.561783 79.959045          1270.000000   \n",
       "380        0 26875.000000 98.791611  0.748428 80.800440          1270.000000   \n",
       "381        0 26875.000000 98.791611  0.748428 80.800440          1270.000000   \n",
       "382        0 26875.000000 98.791611 -0.537162 85.408311          1270.000000   \n",
       "\n",
       "     days_since_competition  days_since_promo2  promo2_int_mod  si_index  \n",
       "378                    2335                  0               0  0.003702  \n",
       "379                    2335                  0               0  0.003702  \n",
       "380                    2334                  0               0  0.003706  \n",
       "381                    2334                  0               0  0.003706  \n",
       "382                    2333                  0               0  0.003725  "
      ]
     },
     "execution_count": 880,
     "metadata": {},
     "output_type": "execute_result"
    }
   ],
   "source": [
    "train_l.head()"
   ]
  },
  {
   "cell_type": "code",
   "execution_count": 881,
   "metadata": {},
   "outputs": [
    {
     "name": "stdout",
     "output_type": "stream",
     "text": [
      "Length of train set:\t 1506\n",
      "Length of test set:\t 377\n"
     ]
    }
   ],
   "source": [
    "print(\"Length of train set:\\t {}\\nLength of test set:\\t {}\".format(len(train_l), len(test_l)))\n"
   ]
  },
  {
   "cell_type": "code",
   "execution_count": 882,
   "metadata": {},
   "outputs": [
    {
     "data": {
      "text/html": [
       "<div>\n",
       "<style scoped>\n",
       "    .dataframe tbody tr th:only-of-type {\n",
       "        vertical-align: middle;\n",
       "    }\n",
       "\n",
       "    .dataframe tbody tr th {\n",
       "        vertical-align: top;\n",
       "    }\n",
       "\n",
       "    .dataframe thead th {\n",
       "        text-align: right;\n",
       "    }\n",
       "</style>\n",
       "<table border=\"1\" class=\"dataframe\">\n",
       "  <thead>\n",
       "    <tr style=\"text-align: right;\">\n",
       "      <th></th>\n",
       "      <th>Sales</th>\n",
       "      <th>Customers</th>\n",
       "      <th>Open</th>\n",
       "      <th>Promo</th>\n",
       "      <th>StateHoliday</th>\n",
       "      <th>SchoolHoliday</th>\n",
       "      <th>year</th>\n",
       "      <th>day</th>\n",
       "      <th>iso_weeknum</th>\n",
       "      <th>weekday</th>\n",
       "      <th>...</th>\n",
       "      <th>google_svi</th>\n",
       "      <th>wc_days</th>\n",
       "      <th>num_asy_app</th>\n",
       "      <th>cpi</th>\n",
       "      <th>tmpc</th>\n",
       "      <th>relh</th>\n",
       "      <th>CompetitionDistance</th>\n",
       "      <th>days_since_competition</th>\n",
       "      <th>days_since_promo2</th>\n",
       "      <th>promo2_int_mod</th>\n",
       "    </tr>\n",
       "  </thead>\n",
       "  <tbody>\n",
       "    <tr>\n",
       "      <th>378</th>\n",
       "      <td>3586</td>\n",
       "      <td>489</td>\n",
       "      <td>1</td>\n",
       "      <td>0</td>\n",
       "      <td>0</td>\n",
       "      <td>0</td>\n",
       "      <td>2015</td>\n",
       "      <td>23</td>\n",
       "      <td>4</td>\n",
       "      <td>6</td>\n",
       "      <td>...</td>\n",
       "      <td>48</td>\n",
       "      <td>0</td>\n",
       "      <td>26875.000000</td>\n",
       "      <td>98.791611</td>\n",
       "      <td>0.561783</td>\n",
       "      <td>79.959045</td>\n",
       "      <td>1270.000000</td>\n",
       "      <td>2335</td>\n",
       "      <td>0</td>\n",
       "      <td>0</td>\n",
       "    </tr>\n",
       "    <tr>\n",
       "      <th>379</th>\n",
       "      <td>3586</td>\n",
       "      <td>489</td>\n",
       "      <td>1</td>\n",
       "      <td>0</td>\n",
       "      <td>0</td>\n",
       "      <td>0</td>\n",
       "      <td>2015</td>\n",
       "      <td>23</td>\n",
       "      <td>4</td>\n",
       "      <td>6</td>\n",
       "      <td>...</td>\n",
       "      <td>48</td>\n",
       "      <td>0</td>\n",
       "      <td>26875.000000</td>\n",
       "      <td>98.791611</td>\n",
       "      <td>0.561783</td>\n",
       "      <td>79.959045</td>\n",
       "      <td>1270.000000</td>\n",
       "      <td>2335</td>\n",
       "      <td>0</td>\n",
       "      <td>0</td>\n",
       "    </tr>\n",
       "    <tr>\n",
       "      <th>380</th>\n",
       "      <td>3492</td>\n",
       "      <td>493</td>\n",
       "      <td>1</td>\n",
       "      <td>0</td>\n",
       "      <td>0</td>\n",
       "      <td>0</td>\n",
       "      <td>2015</td>\n",
       "      <td>22</td>\n",
       "      <td>4</td>\n",
       "      <td>5</td>\n",
       "      <td>...</td>\n",
       "      <td>48</td>\n",
       "      <td>0</td>\n",
       "      <td>26875.000000</td>\n",
       "      <td>98.791611</td>\n",
       "      <td>0.748428</td>\n",
       "      <td>80.800440</td>\n",
       "      <td>1270.000000</td>\n",
       "      <td>2334</td>\n",
       "      <td>0</td>\n",
       "      <td>0</td>\n",
       "    </tr>\n",
       "    <tr>\n",
       "      <th>381</th>\n",
       "      <td>3492</td>\n",
       "      <td>493</td>\n",
       "      <td>1</td>\n",
       "      <td>0</td>\n",
       "      <td>0</td>\n",
       "      <td>0</td>\n",
       "      <td>2015</td>\n",
       "      <td>22</td>\n",
       "      <td>4</td>\n",
       "      <td>5</td>\n",
       "      <td>...</td>\n",
       "      <td>48</td>\n",
       "      <td>0</td>\n",
       "      <td>26875.000000</td>\n",
       "      <td>98.791611</td>\n",
       "      <td>0.748428</td>\n",
       "      <td>80.800440</td>\n",
       "      <td>1270.000000</td>\n",
       "      <td>2334</td>\n",
       "      <td>0</td>\n",
       "      <td>0</td>\n",
       "    </tr>\n",
       "    <tr>\n",
       "      <th>382</th>\n",
       "      <td>3299</td>\n",
       "      <td>460</td>\n",
       "      <td>1</td>\n",
       "      <td>0</td>\n",
       "      <td>0</td>\n",
       "      <td>0</td>\n",
       "      <td>2015</td>\n",
       "      <td>21</td>\n",
       "      <td>4</td>\n",
       "      <td>4</td>\n",
       "      <td>...</td>\n",
       "      <td>48</td>\n",
       "      <td>0</td>\n",
       "      <td>26875.000000</td>\n",
       "      <td>98.791611</td>\n",
       "      <td>-0.537162</td>\n",
       "      <td>85.408311</td>\n",
       "      <td>1270.000000</td>\n",
       "      <td>2333</td>\n",
       "      <td>0</td>\n",
       "      <td>0</td>\n",
       "    </tr>\n",
       "  </tbody>\n",
       "</table>\n",
       "<p>5 rows × 22 columns</p>\n",
       "</div>"
      ],
      "text/plain": [
       "     Sales  Customers  Open  Promo  StateHoliday  SchoolHoliday  year  day  \\\n",
       "378   3586        489     1      0             0              0  2015   23   \n",
       "379   3586        489     1      0             0              0  2015   23   \n",
       "380   3492        493     1      0             0              0  2015   22   \n",
       "381   3492        493     1      0             0              0  2015   22   \n",
       "382   3299        460     1      0             0              0  2015   21   \n",
       "\n",
       "     iso_weeknum  weekday       ...        google_svi  wc_days  num_asy_app  \\\n",
       "378            4        6       ...                48        0 26875.000000   \n",
       "379            4        6       ...                48        0 26875.000000   \n",
       "380            4        5       ...                48        0 26875.000000   \n",
       "381            4        5       ...                48        0 26875.000000   \n",
       "382            4        4       ...                48        0 26875.000000   \n",
       "\n",
       "          cpi      tmpc      relh  CompetitionDistance  \\\n",
       "378 98.791611  0.561783 79.959045          1270.000000   \n",
       "379 98.791611  0.561783 79.959045          1270.000000   \n",
       "380 98.791611  0.748428 80.800440          1270.000000   \n",
       "381 98.791611  0.748428 80.800440          1270.000000   \n",
       "382 98.791611 -0.537162 85.408311          1270.000000   \n",
       "\n",
       "     days_since_competition  days_since_promo2  promo2_int_mod  \n",
       "378                    2335                  0               0  \n",
       "379                    2335                  0               0  \n",
       "380                    2334                  0               0  \n",
       "381                    2334                  0               0  \n",
       "382                    2333                  0               0  \n",
       "\n",
       "[5 rows x 22 columns]"
      ]
     },
     "execution_count": 882,
     "metadata": {},
     "output_type": "execute_result"
    }
   ],
   "source": [
    "train.head()"
   ]
  },
  {
   "cell_type": "code",
   "execution_count": 883,
   "metadata": {},
   "outputs": [],
   "source": [
    "lreg = LinearRegression()\n",
    "lmodel = lreg.fit(train_x, train_y)\n",
    "pred = lreg.predict(test_x)"
   ]
  },
  {
   "cell_type": "code",
   "execution_count": 884,
   "metadata": {},
   "outputs": [],
   "source": [
    "testing_l = pd.DataFrame(columns= ['test_y', 'pred'])\n",
    "testing_l['test_y'] = test_y\n",
    "testing_l['pred'] = pd.DataFrame(pred)\n",
    "testing_l = testing_l.loc[testing_l['test_y']!=0]\n",
    "testing_l = testing_l.astype(float)"
   ]
  },
  {
   "cell_type": "code",
   "execution_count": 885,
   "metadata": {},
   "outputs": [
    {
     "data": {
      "text/plain": [
       "4.59997082650432"
      ]
     },
     "execution_count": 885,
     "metadata": {},
     "output_type": "execute_result"
    }
   ],
   "source": [
    "#removing rows with 0 values from the test data since mape cannot be used on these\n",
    "mape(testing_l['test_y'], testing_l['pred'])"
   ]
  },
  {
   "cell_type": "markdown",
   "metadata": {},
   "source": [
    "<h3>the accuracy of the linear model of 4.59 MAPE for store 1 seems to be quite acceptable, but can be further optimized by altering the parameters </h3>"
   ]
  },
  {
   "cell_type": "code",
   "execution_count": 893,
   "metadata": {},
   "outputs": [
    {
     "data": {
      "text/html": [
       "<div>\n",
       "<style scoped>\n",
       "    .dataframe tbody tr th:only-of-type {\n",
       "        vertical-align: middle;\n",
       "    }\n",
       "\n",
       "    .dataframe tbody tr th {\n",
       "        vertical-align: top;\n",
       "    }\n",
       "\n",
       "    .dataframe thead th {\n",
       "        text-align: right;\n",
       "    }\n",
       "</style>\n",
       "<table border=\"1\" class=\"dataframe\">\n",
       "  <thead>\n",
       "    <tr style=\"text-align: right;\">\n",
       "      <th></th>\n",
       "      <th>0</th>\n",
       "      <th>coeff_estimates</th>\n",
       "    </tr>\n",
       "  </thead>\n",
       "  <tbody>\n",
       "    <tr>\n",
       "      <th>0</th>\n",
       "      <td>Customers</td>\n",
       "      <td>9.740841</td>\n",
       "    </tr>\n",
       "    <tr>\n",
       "      <th>1</th>\n",
       "      <td>Open</td>\n",
       "      <td>-978.274300</td>\n",
       "    </tr>\n",
       "    <tr>\n",
       "      <th>2</th>\n",
       "      <td>Promo</td>\n",
       "      <td>410.918393</td>\n",
       "    </tr>\n",
       "    <tr>\n",
       "      <th>3</th>\n",
       "      <td>StateHoliday</td>\n",
       "      <td>-80.116345</td>\n",
       "    </tr>\n",
       "    <tr>\n",
       "      <th>4</th>\n",
       "      <td>SchoolHoliday</td>\n",
       "      <td>14.162310</td>\n",
       "    </tr>\n",
       "    <tr>\n",
       "      <th>5</th>\n",
       "      <td>google_svi</td>\n",
       "      <td>-0.242419</td>\n",
       "    </tr>\n",
       "    <tr>\n",
       "      <th>6</th>\n",
       "      <td>wc_days</td>\n",
       "      <td>12.098893</td>\n",
       "    </tr>\n",
       "    <tr>\n",
       "      <th>7</th>\n",
       "      <td>num_asy_app</td>\n",
       "      <td>0.010487</td>\n",
       "    </tr>\n",
       "    <tr>\n",
       "      <th>8</th>\n",
       "      <td>cpi</td>\n",
       "      <td>127.419502</td>\n",
       "    </tr>\n",
       "    <tr>\n",
       "      <th>9</th>\n",
       "      <td>tmpc</td>\n",
       "      <td>5.343386</td>\n",
       "    </tr>\n",
       "    <tr>\n",
       "      <th>10</th>\n",
       "      <td>relh</td>\n",
       "      <td>0.605306</td>\n",
       "    </tr>\n",
       "    <tr>\n",
       "      <th>11</th>\n",
       "      <td>CompetitionDistance</td>\n",
       "      <td>0.000000</td>\n",
       "    </tr>\n",
       "    <tr>\n",
       "      <th>12</th>\n",
       "      <td>days_since_competition</td>\n",
       "      <td>-0.211792</td>\n",
       "    </tr>\n",
       "    <tr>\n",
       "      <th>13</th>\n",
       "      <td>days_since_promo2</td>\n",
       "      <td>0.000000</td>\n",
       "    </tr>\n",
       "    <tr>\n",
       "      <th>14</th>\n",
       "      <td>promo2_int_mod</td>\n",
       "      <td>0.000000</td>\n",
       "    </tr>\n",
       "    <tr>\n",
       "      <th>15</th>\n",
       "      <td>si_index</td>\n",
       "      <td>33320.137611</td>\n",
       "    </tr>\n",
       "  </tbody>\n",
       "</table>\n",
       "</div>"
      ],
      "text/plain": [
       "                         0  coeff_estimates\n",
       "0                Customers         9.740841\n",
       "1                     Open      -978.274300\n",
       "2                    Promo       410.918393\n",
       "3             StateHoliday       -80.116345\n",
       "4            SchoolHoliday        14.162310\n",
       "5               google_svi        -0.242419\n",
       "6                  wc_days        12.098893\n",
       "7              num_asy_app         0.010487\n",
       "8                      cpi       127.419502\n",
       "9                     tmpc         5.343386\n",
       "10                    relh         0.605306\n",
       "11     CompetitionDistance         0.000000\n",
       "12  days_since_competition        -0.211792\n",
       "13       days_since_promo2         0.000000\n",
       "14          promo2_int_mod         0.000000\n",
       "15                si_index     33320.137611"
      ]
     },
     "execution_count": 893,
     "metadata": {},
     "output_type": "execute_result"
    }
   ],
   "source": [
    "#printing coefficients \n",
    "coeff = pd.DataFrame(train_x.columns)\n",
    "coeff['coeff_estimates'] = pd.Series(lreg.coef_)\n",
    "coeff"
   ]
  },
  {
   "cell_type": "markdown",
   "metadata": {},
   "source": [
    "There is not feature selection such as Forward, Backdard and stepwise, other options are to be explored"
   ]
  },
  {
   "cell_type": "code",
   "execution_count": null,
   "metadata": {},
   "outputs": [],
   "source": []
  },
  {
   "cell_type": "markdown",
   "metadata": {},
   "source": [
    "<h3>Forcasting (Univariate) Overall Sales using Prophet </h3><hr>"
   ]
  },
  {
   "cell_type": "code",
   "execution_count": 899,
   "metadata": {},
   "outputs": [],
   "source": [
    "prop_data = copy.deepcopy(forecast_clean)\n",
    "cols=['Unnamed: 0', 'Store', 'Customers', 'Open', 'Promo',\n",
    "       'StateHoliday', 'SchoolHoliday', 'year', 'day', 'iso_weeknum',\n",
    "       'weekday', 'month', 'quarter', 'mapped_region', 'google_svi', 'wc_days',\n",
    "       'num_asy_app', 'cpi', 'tmpc', 'relh', 'CompetitionDistance',\n",
    "       'days_since_competition', 'days_since_promo2', 'promo2_int_mod']\n",
    "\n",
    "prop_data.drop(cols, axis=1, inplace=True)\n"
   ]
  },
  {
   "cell_type": "code",
   "execution_count": 900,
   "metadata": {},
   "outputs": [],
   "source": [
    "prop_data = prop_data.groupby(['date_s']).sum().reset_index()"
   ]
  },
  {
   "cell_type": "code",
   "execution_count": 907,
   "metadata": {},
   "outputs": [
    {
     "name": "stdout",
     "output_type": "stream",
     "text": [
      "<class 'pandas.core.frame.DataFrame'>\n",
      "RangeIndex: 942 entries, 0 to 941\n",
      "Data columns (total 2 columns):\n",
      "ds    942 non-null datetime64[ns]\n",
      "y     942 non-null int64\n",
      "dtypes: datetime64[ns](1), int64(1)\n",
      "memory usage: 14.8 KB\n"
     ]
    }
   ],
   "source": [
    "#input column names should be 'ds' and 'y'\n",
    "prop_data.columns = ['ds', 'y']\n",
    "prop_data['ds']= pd.to_datetime(prop_data['ds'])\n",
    "#prop_data.set_index('ds', inplace=True)\n",
    "prop_data.info()"
   ]
  },
  {
   "cell_type": "code",
   "execution_count": 928,
   "metadata": {},
   "outputs": [],
   "source": [
    "split = round(len(prop_data)*0.8)\n",
    "train = prop_data.iloc[:split,]\n",
    "test = prop_data.iloc[split:,]"
   ]
  },
  {
   "cell_type": "code",
   "execution_count": 929,
   "metadata": {},
   "outputs": [
    {
     "name": "stdout",
     "output_type": "stream",
     "text": [
      "Length of train: 754\n",
      "Length of test: 188\n"
     ]
    }
   ],
   "source": [
    "print('Length of train: {}\\nLength of test: {}'.format(len(train), len(test)))"
   ]
  },
  {
   "cell_type": "code",
   "execution_count": 930,
   "metadata": {},
   "outputs": [
    {
     "data": {
      "text/html": [
       "<div>\n",
       "<style scoped>\n",
       "    .dataframe tbody tr th:only-of-type {\n",
       "        vertical-align: middle;\n",
       "    }\n",
       "\n",
       "    .dataframe tbody tr th {\n",
       "        vertical-align: top;\n",
       "    }\n",
       "\n",
       "    .dataframe thead th {\n",
       "        text-align: right;\n",
       "    }\n",
       "</style>\n",
       "<table border=\"1\" class=\"dataframe\">\n",
       "  <thead>\n",
       "    <tr style=\"text-align: right;\">\n",
       "      <th></th>\n",
       "      <th>ds</th>\n",
       "      <th>y</th>\n",
       "    </tr>\n",
       "  </thead>\n",
       "  <tbody>\n",
       "    <tr>\n",
       "      <th>749</th>\n",
       "      <td>2015-01-20</td>\n",
       "      <td>14921324</td>\n",
       "    </tr>\n",
       "    <tr>\n",
       "      <th>750</th>\n",
       "      <td>2015-01-21</td>\n",
       "      <td>15294612</td>\n",
       "    </tr>\n",
       "    <tr>\n",
       "      <th>751</th>\n",
       "      <td>2015-01-22</td>\n",
       "      <td>15482339</td>\n",
       "    </tr>\n",
       "    <tr>\n",
       "      <th>752</th>\n",
       "      <td>2015-01-23</td>\n",
       "      <td>16544384</td>\n",
       "    </tr>\n",
       "    <tr>\n",
       "      <th>753</th>\n",
       "      <td>2015-01-24</td>\n",
       "      <td>15696085</td>\n",
       "    </tr>\n",
       "  </tbody>\n",
       "</table>\n",
       "</div>"
      ],
      "text/plain": [
       "            ds         y\n",
       "749 2015-01-20  14921324\n",
       "750 2015-01-21  15294612\n",
       "751 2015-01-22  15482339\n",
       "752 2015-01-23  16544384\n",
       "753 2015-01-24  15696085"
      ]
     },
     "execution_count": 930,
     "metadata": {},
     "output_type": "execute_result"
    }
   ],
   "source": [
    "#fitting data to prophet model\n",
    "m = Prophet(daily_seasonality=True)\n",
    "m.fit(train);\n",
    "train.tail()"
   ]
  },
  {
   "cell_type": "code",
   "execution_count": 933,
   "metadata": {},
   "outputs": [
    {
     "data": {
      "text/html": [
       "<div>\n",
       "<style scoped>\n",
       "    .dataframe tbody tr th:only-of-type {\n",
       "        vertical-align: middle;\n",
       "    }\n",
       "\n",
       "    .dataframe tbody tr th {\n",
       "        vertical-align: top;\n",
       "    }\n",
       "\n",
       "    .dataframe thead th {\n",
       "        text-align: right;\n",
       "    }\n",
       "</style>\n",
       "<table border=\"1\" class=\"dataframe\">\n",
       "  <thead>\n",
       "    <tr style=\"text-align: right;\">\n",
       "      <th></th>\n",
       "      <th>ds</th>\n",
       "      <th>y</th>\n",
       "    </tr>\n",
       "  </thead>\n",
       "  <tbody>\n",
       "    <tr>\n",
       "      <th>754</th>\n",
       "      <td>2015-01-25</td>\n",
       "      <td>379600</td>\n",
       "    </tr>\n",
       "    <tr>\n",
       "      <th>755</th>\n",
       "      <td>2015-01-26</td>\n",
       "      <td>24685584</td>\n",
       "    </tr>\n",
       "    <tr>\n",
       "      <th>756</th>\n",
       "      <td>2015-01-27</td>\n",
       "      <td>21588152</td>\n",
       "    </tr>\n",
       "    <tr>\n",
       "      <th>757</th>\n",
       "      <td>2015-01-28</td>\n",
       "      <td>20830443</td>\n",
       "    </tr>\n",
       "    <tr>\n",
       "      <th>758</th>\n",
       "      <td>2015-01-29</td>\n",
       "      <td>20965889</td>\n",
       "    </tr>\n",
       "  </tbody>\n",
       "</table>\n",
       "</div>"
      ],
      "text/plain": [
       "            ds         y\n",
       "754 2015-01-25    379600\n",
       "755 2015-01-26  24685584\n",
       "756 2015-01-27  21588152\n",
       "757 2015-01-28  20830443\n",
       "758 2015-01-29  20965889"
      ]
     },
     "execution_count": 933,
     "metadata": {},
     "output_type": "execute_result"
    }
   ],
   "source": [
    "test.head()"
   ]
  },
  {
   "cell_type": "code",
   "execution_count": 934,
   "metadata": {},
   "outputs": [],
   "source": [
    "#making prediction to 15 days ahead\n",
    "future = m.make_future_dataframe(periods=188, freq='D')\n",
    "forecast = m.predict(future)"
   ]
  },
  {
   "cell_type": "code",
   "execution_count": 935,
   "metadata": {},
   "outputs": [
    {
     "data": {
      "text/plain": [
       "Index(['ds', 'trend', 'trend_lower', 'trend_upper', 'yhat_lower', 'yhat_upper',\n",
       "       'daily', 'daily_lower', 'daily_upper', 'seasonal', 'seasonal_lower',\n",
       "       'seasonal_upper', 'seasonalities', 'seasonalities_lower',\n",
       "       'seasonalities_upper', 'weekly', 'weekly_lower', 'weekly_upper',\n",
       "       'yearly', 'yearly_lower', 'yearly_upper', 'yhat'],\n",
       "      dtype='object')"
      ]
     },
     "execution_count": 935,
     "metadata": {},
     "output_type": "execute_result"
    }
   ],
   "source": [
    "forecast.columns"
   ]
  },
  {
   "cell_type": "code",
   "execution_count": 936,
   "metadata": {},
   "outputs": [],
   "source": [
    "fore = forecast[['ds', 'yhat', 'yhat_lower', 'yhat_upper']]"
   ]
  },
  {
   "cell_type": "code",
   "execution_count": 937,
   "metadata": {},
   "outputs": [
    {
     "data": {
      "image/png": "[encoded data removed]",
      "text/plain": [
       "<Figure size 720x432 with 1 Axes>"
      ]
     },
     "metadata": {},
     "output_type": "display_data"
    }
   ],
   "source": [
    "#get the data at a higher level to get a line plot\n",
    "m.plot(fore);"
   ]
  },
  {
   "cell_type": "code",
   "execution_count": 938,
   "metadata": {},
   "outputs": [],
   "source": [
    "act = test\n",
    "predicted = forecast"
   ]
  },
  {
   "cell_type": "code",
   "execution_count": 955,
   "metadata": {},
   "outputs": [
    {
     "data": {
      "text/plain": [
       "180.98710125246802"
      ]
     },
     "execution_count": 955,
     "metadata": {},
     "output_type": "execute_result"
    }
   ],
   "source": [
    "#calculating needs to checked for prophet\n",
    "mape(prop_data['y'], predicted['yhat'])"
   ]
  },
  {
   "cell_type": "code",
   "execution_count": 950,
   "metadata": {},
   "outputs": [
    {
     "data": {
      "text/html": [
       "<div>\n",
       "<style scoped>\n",
       "    .dataframe tbody tr th:only-of-type {\n",
       "        vertical-align: middle;\n",
       "    }\n",
       "\n",
       "    .dataframe tbody tr th {\n",
       "        vertical-align: top;\n",
       "    }\n",
       "\n",
       "    .dataframe thead th {\n",
       "        text-align: right;\n",
       "    }\n",
       "</style>\n",
       "<table border=\"1\" class=\"dataframe\">\n",
       "  <thead>\n",
       "    <tr style=\"text-align: right;\">\n",
       "      <th></th>\n",
       "      <th>ds</th>\n",
       "      <th>yhat</th>\n",
       "    </tr>\n",
       "  </thead>\n",
       "  <tbody>\n",
       "    <tr>\n",
       "      <th>937</th>\n",
       "      <td>2015-07-27</td>\n",
       "      <td>15315206.564828</td>\n",
       "    </tr>\n",
       "    <tr>\n",
       "      <th>938</th>\n",
       "      <td>2015-07-28</td>\n",
       "      <td>12824742.032223</td>\n",
       "    </tr>\n",
       "    <tr>\n",
       "      <th>939</th>\n",
       "      <td>2015-07-29</td>\n",
       "      <td>11661556.685266</td>\n",
       "    </tr>\n",
       "    <tr>\n",
       "      <th>940</th>\n",
       "      <td>2015-07-30</td>\n",
       "      <td>10721476.901343</td>\n",
       "    </tr>\n",
       "    <tr>\n",
       "      <th>941</th>\n",
       "      <td>2015-07-31</td>\n",
       "      <td>12482665.963311</td>\n",
       "    </tr>\n",
       "  </tbody>\n",
       "</table>\n",
       "</div>"
      ],
      "text/plain": [
       "            ds            yhat\n",
       "937 2015-07-27 15315206.564828\n",
       "938 2015-07-28 12824742.032223\n",
       "939 2015-07-29 11661556.685266\n",
       "940 2015-07-30 10721476.901343\n",
       "941 2015-07-31 12482665.963311"
      ]
     },
     "execution_count": 950,
     "metadata": {},
     "output_type": "execute_result"
    }
   ],
   "source": [
    "predicted[['ds', 'yhat']].tail()"
   ]
  },
  {
   "cell_type": "code",
   "execution_count": 940,
   "metadata": {},
   "outputs": [
    {
     "data": {
      "text/html": [
       "<div>\n",
       "<style scoped>\n",
       "    .dataframe tbody tr th:only-of-type {\n",
       "        vertical-align: middle;\n",
       "    }\n",
       "\n",
       "    .dataframe tbody tr th {\n",
       "        vertical-align: top;\n",
       "    }\n",
       "\n",
       "    .dataframe thead th {\n",
       "        text-align: right;\n",
       "    }\n",
       "</style>\n",
       "<table border=\"1\" class=\"dataframe\">\n",
       "  <thead>\n",
       "    <tr style=\"text-align: right;\">\n",
       "      <th></th>\n",
       "      <th>ds</th>\n",
       "      <th>y</th>\n",
       "    </tr>\n",
       "  </thead>\n",
       "  <tbody>\n",
       "    <tr>\n",
       "      <th>754</th>\n",
       "      <td>2015-01-25</td>\n",
       "      <td>379600</td>\n",
       "    </tr>\n",
       "    <tr>\n",
       "      <th>755</th>\n",
       "      <td>2015-01-26</td>\n",
       "      <td>24685584</td>\n",
       "    </tr>\n",
       "    <tr>\n",
       "      <th>756</th>\n",
       "      <td>2015-01-27</td>\n",
       "      <td>21588152</td>\n",
       "    </tr>\n",
       "    <tr>\n",
       "      <th>757</th>\n",
       "      <td>2015-01-28</td>\n",
       "      <td>20830443</td>\n",
       "    </tr>\n",
       "    <tr>\n",
       "      <th>758</th>\n",
       "      <td>2015-01-29</td>\n",
       "      <td>20965889</td>\n",
       "    </tr>\n",
       "  </tbody>\n",
       "</table>\n",
       "</div>"
      ],
      "text/plain": [
       "            ds         y\n",
       "754 2015-01-25    379600\n",
       "755 2015-01-26  24685584\n",
       "756 2015-01-27  21588152\n",
       "757 2015-01-28  20830443\n",
       "758 2015-01-29  20965889"
      ]
     },
     "execution_count": 940,
     "metadata": {},
     "output_type": "execute_result"
    }
   ],
   "source": [
    "act.head()"
   ]
  },
  {
   "cell_type": "raw",
   "metadata": {},
   "source": [
    "%who"
   ]
  },
  {
   "cell_type": "markdown",
   "metadata": {},
   "source": [
    "<div style=\"background-color:#7a1400;height:40px;padding-top:0.1px;\">\n",
    "<h6 align=center style=\"color:white\">\n",
    "<a href=\"https://www.linkedin.com/in/avinashpasupulate/\" style=\"color:white\">Avinash Pasupulate - Linkedin Profile</a>\n",
    "</h6> \n",
    "</div>"
   ]
  }
 ],
 "metadata": {
  "kernelspec": {
   "display_name": "Python 3",
   "language": "python",
   "name": "python3"
  },
  "language_info": {
   "codemirror_mode": {
    "name": "ipython",
    "version": 3
   },
   "file_extension": ".py",
   "mimetype": "text/x-python",
   "name": "python",
   "nbconvert_exporter": "python",
   "pygments_lexer": "ipython3",
   "version": "3.5.6"
  }
 },
 "nbformat": 4,
 "nbformat_minor": 2
}
