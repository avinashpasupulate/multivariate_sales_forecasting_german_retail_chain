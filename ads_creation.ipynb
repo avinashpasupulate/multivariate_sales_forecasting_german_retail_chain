{
 "cells": [
  {
   "cell_type": "markdown",
   "metadata": {},
   "source": [
    "<div style=\"background-color:#7a1400;height:60px;padding-top:7px;\">\n",
    "<h3 align=center style=\"color:white\">\n",
    "Multivariate Sales Forecasting - German Retail Chain - Analytical Dataset Creation\n",
    "</h3> \n",
    "</div>"
   ]
  },
  {
   "cell_type": "markdown",
   "metadata": {},
   "source": [
    "<h4>Avinash Pasupulate</h4><br>\n",
    "avinash.pasupulate@gmail.com<br>\n",
    "<a href=\"www.avinash.pasupulate.com\">www.avinash.pasupulate.com</a>"
   ]
  },
  {
   "cell_type": "markdown",
   "metadata": {},
   "source": [
    "<br>\n",
    "<hr>\n",
    "<b>Open the html file in the repository or click \n",
    "<a href=\"http://nbviewer.jupyter.org/github/avinashpasupulate/multivariate_sales_forecasting_german_retail_chain/blob/master/ads_creation.ipynb\">Nbconvert Notebook</a> to view plots that are properly rendered.\n",
    "<br><br>\n",
    "Please wait for the html page to load completely.</b>\n",
    "<br>\n",
    "<hr>"
   ]
  },
  {
   "cell_type": "markdown",
   "metadata": {},
   "source": [
    "<br>\n",
    "<h3>Introduction:</h3>\n",
    "<hr>\n",
    "<p>\n",
    "<div style=\"text-align:justify\">\n",
    "Rossmann operates over 3,000 drug stores in 7 European countries. Currently, Rossmann store managers are tasked with predicting their daily sales for up to six weeks in advance. Store sales are influenced by many factors, including promotions, competition, school and state holidays, seasonality, and locality. With thousands of individual managers predicting sales based on their unique circumstances, the accuracy of results can be quite varied.\n",
    "</div>\n",
    "\n",
    "<p>\n",
    "<div style=\"text-align:justify\">\n",
    "The challenge is to predict 6 weeks of daily sales for 1,115 stores located across Germany. Reliable sales forecasts enable store managers to create effective staff schedules that increase productivity and motivation.\n",
    "</div>\n",
    "\n",
    "<hr>\n",
    "<br>\n",
    "<h3>Notebooks in Series:</h3>\n",
    "<hr>\n",
    "This notebook is the first of the several notebooks listed below;\n",
    "<ol>\n",
    "<li>\n",
    "<a href=\"http://nbviewer.jupyter.org/github/avinashpasupulate/multivariate_sales_forecasting_german_retail_chain/blob/master/ads_creation.ipynb\">ADS Creation with Feature Extraction and Mining Exogenous Data</a>\n",
    "<li> Exploratory Data Analysis\n",
    "<li> Multivariate Forecasting\n",
    "</ol>\n",
    "\n",
    "The <a href=\"https://github.com/avinashpasupulate/multivariate_sales_forecasting_german_retail_chain\">github link</a> also contains several excel files which are used as master files to map the exogenous data collected from different sources (links provided below).\n",
    "<br>\n",
    "<br>\n",
    "\n",
    "<h3>Supporting Files & Links:</h3>\n",
    "<hr>\n",
    "<ol>\n",
    "<li><a href = https://github.com/avinashpasupulate/multivariate_sales_forecasting_german_retail_chain/tree/master/data/external_data>Master Files</a>\n",
    " <li><a href=\"https://www.timeanddate.com/holidays/germany/\">List of German state holidays by region</a>\n",
    " <li><a href=\"https://www.tuxx.uk/countries/germany/schoolholidays/2018/\">List of German school holidays</a>\n",
    " <li><a href=\"https://trends.google.com/trends/explore?cat=18&date=2013-01-01%202017-01-01&geo=DE&q=rossmann\">Google trend data for \"Rossmann\" in Germany</a>\n",
    " <li>\n",
    " <a href=\"https://www.worldfootball.net/all_matches/wm-2014-in-brasilien/\">Dates for World Cup 2014</a>\n",
    " <li><a href=\"https://ec.europa.eu/eurostat/data/database\">Asylum applicant data</a>\n",
    " <li><a href=\"https://tradingeconomics.com/germany/consumer-price-index-cpi\">Consumer Price Index (CPI)</a>\n",
    " <li><a href=\"https://mesonet.agron.iastate.edu/cgi-bin/request/asos.py?station=EDAC&station=EDAD&station=EDAH&station=EDAR&station=EDAS&station=EDBB&station=EDBC&station=EDBM&station=EDBT&station=EDCK&station=EDCP&station=EDDB&station=EDDC&station=EDDE&station=EDDF&station=EDDG&station=EDDH&station=EDDI&station=EDDK&station=EDDL&station=EDDM&station=EDDN&station=EDDP&station=EDDR&station=EDDS&station=EDDT&station=EDDV&station=EDDW&station=EDEF&station=EDEK&station=EDFE&station=EDFH&station=EDFM&station=EDGS&station=EDHI&station=EDHK&station=EDHL&station=EDIA&station=EDIC&station=EDIG&station=EDIH&station=EDIK&station=EDJA&station=EDKA&station=EDLE&station=EDLG&station=EDLN&station=EDLP&station=EDLV&station=EDLW&station=EDMA&station=EDMB&station=EDMO&station=EDNN&station=EDNY&station=EDOP&station=EDPH&station=EDPN&station=EDQD&station=EDQM&station=EDRZ&station=EDSB&station=EDTD&station=EDTL&station=EDTY&station=EDTZ&station=EDVE&station=EDVK&station=EDVV&station=EDWD&station=EDWE&station=EDXW&station=EDZB&station=EDZE&station=EDZH&station=EDZJ&station=ETAD&station=ETAR&station=ETAS&station=ETBA&station=ETBB&station=ETBS&station=ETEB&station=ETEH&station=ETEU&station=ETGB&station=ETGG&station=ETGI&station=ETGK&station=ETGM&station=ETGQ&station=ETGW&station=ETGY&station=ETGZ&station=ETHA&station=ETHB&station=ETHC&station=ETHE&station=ETHF&station=ETHI&station=ETHL&station=ETHM&station=ETHN&station=ETHR&station=ETHS&station=ETHT&station=ETIC&station=ETID&station=ETIE&station=ETIH&station=ETIK&station=ETIN&station=ETME&station=ETMK&station=ETML&station=ETMN&station=ETNA&station=ETND&station=ETNG&station=ETNH&station=ETNJ&station=ETNL&station=ETNN&station=ETNP&station=ETNS&station=ETNT&station=ETNU&station=ETNW&station=ETOR&station=ETOU&station=ETSA&station=ETSB&station=ETSE&station=ETSF&station=ETSH&station=ETSI&station=ETSL&station=ETSM&station=ETSN&station=ETSP&station=ETUL&station=ETUN&station=ETUO&station=ETUR&station=ETWM&station=KQAA&station=KQAB&station=KQAC&station=KQAK&station=KQAO&station=KQII&station=KQKT&station=KQKW&station=KQLB&station=KQQL&station=KQUB&data=tmpc&data=relh&year1=2013&month1=1&day1=1&year2=2015&month2=12&day2=31&tz=Etc%2FUTC&format=onlycomma&latlon=yes&direct=no&report_type=1&report_type=2\">Historical Weather data</a>\n",
    " </ol>\n",
    "    \n",
    "<br> \n",
    "<h3>Next Steps: </h3>\n",
    "<hr>\n",
    "<ol>\n",
    "    <li>Cleanup code\n",
    "    <li>Get temperature data by region and date\n",
    "    <li> Explore created dataset (Univariate and Multivariate)\n",
    "    <li> Use multivariate methods to forecast sales\n",
    "</ol>\n"
   ]
  },
  {
   "cell_type": "code",
   "execution_count": 89,
   "metadata": {},
   "outputs": [],
   "source": [
    "import os\n",
    "import copy\n",
    "import warnings\n",
    "import calendar\n",
    "import subprocess\n",
    "import openweather\n",
    "from geopy import geocoders\n",
    "import numpy as np\n",
    "import pandas as pd\n",
    "import seaborn as sns\n",
    "import matplotlib as plt\n",
    "from pytrends.request import TrendReq\n",
    "%matplotlib inline\n",
    "warnings.filterwarnings('ignore')\n",
    "pd.set_option('display.max_columns', 100)"
   ]
  },
  {
   "cell_type": "code",
   "execution_count": 90,
   "metadata": {},
   "outputs": [],
   "source": [
    "cwd = os.getcwd()"
   ]
  },
  {
   "cell_type": "code",
   "execution_count": 91,
   "metadata": {},
   "outputs": [
    {
     "name": "stdout",
     "output_type": "stream",
     "text": [
      "external_data\n",
      "raw_data\n",
      "\n"
     ]
    }
   ],
   "source": [
    "#list all files in data folder\n",
    "print(subprocess.check_output(['ls','data/']).decode('UTF-8'))"
   ]
  },
  {
   "cell_type": "code",
   "execution_count": 92,
   "metadata": {},
   "outputs": [],
   "source": [
    "#importing all files, considering onle two files test \n",
    "#and store since sales data is not available in test station\n",
    "\n",
    "store = pd.read_csv(cwd+'/data/raw_data/store.csv')\n",
    "test = pd.read_csv(cwd+'/data/raw_data/test.csv')\n",
    "train = pd.read_csv(cwd+'/data/raw_data/train.csv')\n",
    "date_master = pd.read_excel(cwd+'/data/external_data/date_master.xlsx', sheet_name='date_master')\n",
    "google_trends = pd.read_csv(cwd+'/data/external_data/google_trends.csv')"
   ]
  },
  {
   "cell_type": "markdown",
   "metadata": {},
   "source": [
    "<h3>Description of Dataset</h3>\n",
    "<hr>\n",
    "\n",
    "Data fields\n",
    "Most of the fields are self-explanatory. The following are descriptions for those that aren't.\n",
    "\n",
    "* **Id** - an Id that represents a (Store, Date) duple within the test set\n",
    "* **Store** - a unique Id for each store\n",
    "* **Sales** - the turnover for any given day (this is what you are predicting)\n",
    "* **Customers** - the number of customers on a given day\n",
    "* **Open** - an indicator for whether the store was open: 0 = closed, 1 = open\n",
    "* **StateHoliday** - indicates a state holiday. Normally all stores, with few exceptions, are closed on state holidays. Note that all schools are closed on public holidays and weekends. a = public holiday, b = Easter holiday, c = Christmas, 0 = None\n",
    "* **SchoolHoliday** - indicates if the (Store, Date) was affected by the closure of public schools\n",
    "* **StoreType** - differentiates between 4 different store models: a, b, c, d\n",
    "* **Assortment** - describes an assortment level: a = basic, b = extra, c = extended\n",
    "* **CompetitionDistance** - distance in meters to the nearest competitor store\n",
    "* **CompetitionOpenSince[Month/Year]** - gives the approximate year and month of the time the nearest competitor was opened\n",
    "* **Promo** - indicates whether a store is running a promo on that day\n",
    "* **Promo2** - Promo2 is a continuing and consecutive promotion for some stores: 0 = store is not participating, 1 = store is participating\n",
    "* **Promo2Since[Year/Week]** - describes the year and calendar week when the store started participating in Promo2\n",
    "* **PromoInterval** - describes the consecutive intervals Promo2 is started, naming the months the promotion is started anew. E.g. \"Feb,May,Aug,Nov\" means each round starts in February, May, August, November of any given year for that store"
   ]
  },
  {
   "cell_type": "code",
   "execution_count": 93,
   "metadata": {},
   "outputs": [],
   "source": [
    "#creating working copy of the train data\n",
    "sales = copy.deepcopy(train)"
   ]
  },
  {
   "cell_type": "markdown",
   "metadata": {},
   "source": [
    "<br>\n",
    "<br>\n",
    "<h3>Identifying regions using state and school holidays</h3>\n",
    "<hr>\n",
    "\n",
    "Using union and intersections of german state and school holidays to identigy regions"
   ]
  },
  {
   "cell_type": "code",
   "execution_count": 94,
   "metadata": {},
   "outputs": [],
   "source": [
    "#replacing categories in StateHoliday column \n",
    "holmap = {'0':0, 'a':'public holiday', 'b':'easter holiday', 'c':'christmas holiday', 0:0}\n",
    "sales.StateHoliday = sales.StateHoliday.map(holmap)"
   ]
  },
  {
   "cell_type": "code",
   "execution_count": 95,
   "metadata": {},
   "outputs": [],
   "source": [
    "#created date_holiday_master with list of holidays\n",
    "#merging the train dataset with the date holiday master created with excel\n",
    "sales.rename(columns={'Date':'date'}, inplace=True)\n",
    "date_master.rename(columns={'date ':'date'}, inplace=True)\n",
    "sales['date']=pd.to_datetime(sales['date'])\n",
    "sales = sales.merge(date_master, how='left', on='date', suffixes={'','_dm'})"
   ]
  },
  {
   "cell_type": "code",
   "execution_count": 96,
   "metadata": {},
   "outputs": [],
   "source": [
    "#getting only required columns\n",
    "sales=sales[['Store', 'date', 'Sales', 'Customers', 'Open', 'Promo',\n",
    "       'StateHoliday', 'SchoolHoliday', 'year', 'day',\n",
    "       'iso_weeknum', 'weekday', 'month', 'seasons', 'quarter',\n",
    "       'holidays', 'holiday_type', 'regions_observed']]\n",
    "sales_cp = copy.deepcopy(sales)"
   ]
  },
  {
   "cell_type": "code",
   "execution_count": 97,
   "metadata": {},
   "outputs": [
    {
     "data": {
      "text/plain": [
       "array([nan, 'BW, BY, HE, NRW, RLP, SL', 'B, BB, MVP, SN, ST, TH',\n",
       "       'Brandenburg', 'BW, BY, ST', 'Saxony', 'BW, BY, NRW, RLP, SL',\n",
       "       'BB, MVP, SN, ST, TH', 'Bavaria, Saarland', 'Bavaria*',\n",
       "       'All except BB', 'BW,\\xa0BY,\\xa0NRW,\\xa0RLP,\\xa0SL',\n",
       "       'BB,\\xa0MVP,\\xa0SN,\\xa0ST,\\xa0TH',\n",
       "       'B,\\xa0BB,\\xa0MVP,\\xa0SN,\\xa0ST,\\xa0TH',\n",
       "       'BW,\\xa0BY,\\xa0HE,\\xa0NRW,\\xa0RLP,\\xa0SL', 'All except\\xa0BB',\n",
       "       'BW,\\xa0BY,\\xa0ST'], dtype=object)"
      ]
     },
     "execution_count": 97,
     "metadata": {},
     "output_type": "execute_result"
    }
   ],
   "source": [
    "#recoding categories in the regions_observed column\n",
    "sales_cp.regions_observed.unique()"
   ]
  },
  {
   "cell_type": "markdown",
   "metadata": {},
   "source": [
    "mapping all regions to remove unwanted characters. <br>\n",
    "*regex could have been used here to replace certain region names*"
   ]
  },
  {
   "cell_type": "code",
   "execution_count": 98,
   "metadata": {},
   "outputs": [],
   "source": [
    "state_map = {'nan':None,\n",
    "'BW, BY, HE, NRW, RLP, SL':'BW, BY, HE, NW, RP, SL',\n",
    "'B, BB, MVP, SN, ST, TH':'B, BB, MV, SN, ST, TH',\n",
    "'Brandenburg':'BB',\n",
    "'BW, BY, ST':'BW, BY, ST',\n",
    "'Saxony':'SN',\n",
    "'BW, BY, NRW, RLP, SL':'BW, BY, NW, RP, SL',\n",
    "'BB, MVP, SN, ST, TH':'BB, MV, SN, ST, TH',\n",
    "'Bavaria, Saarland':'BY, SL',\n",
    "'Bavaria*':'BY',\n",
    "'All except BB': 'BW, BY, BE, HB, HH, HE, NI, MV, RP, SL, SN, ST, SH, TH, NW',\n",
    "'BW,\\xa0BY,\\xa0NRW,\\xa0RLP,\\xa0SL': 'BW, BY, NW, RP, SL',\n",
    "'BB,\\xa0MVP,\\xa0SN,\\xa0ST,\\xa0TH':'BB, MV, SN, ST, TH',\n",
    "'B,\\xa0BB,\\xa0MVP,\\xa0SN,\\xa0ST,\\xa0TH':'B, BB, MV, SN, ST, TH',\n",
    "'BW,\\xa0BY,\\xa0HE,\\xa0NRW,\\xa0RLP,\\xa0SL':'BW, BY, HE, NW, RP, SL', \n",
    "'All except\\xa0BB':'BW, BY, BE, HB, HH, HE, NI, MV, RP, SL, SN, ST, SH, TH, NW',\n",
    "'BW,\\xa0BY,\\xa0ST':'BW, BY, ST'}\n",
    "sales_cp.regions_observed = sales_cp.regions_observed.map(state_map)"
   ]
  },
  {
   "cell_type": "code",
   "execution_count": 99,
   "metadata": {},
   "outputs": [
    {
     "data": {
      "text/plain": [
       "array([nan, 'BW, BY, HE, NW, RP, SL', 'B, BB, MV, SN, ST, TH', 'BB',\n",
       "       'BW, BY, ST', 'SN', 'BW, BY, NW, RP, SL', 'BB, MV, SN, ST, TH',\n",
       "       'BY, SL', 'BY',\n",
       "       'BW, BY, BE, HB, HH, HE, NI, MV, RP, SL, SN, ST, SH, TH, NW'],\n",
       "      dtype=object)"
      ]
     },
     "execution_count": 99,
     "metadata": {},
     "output_type": "execute_result"
    }
   ],
   "source": [
    "#categories in regions_observed after recoding\n",
    "sales_cp.regions_observed.unique()"
   ]
  },
  {
   "cell_type": "code",
   "execution_count": 100,
   "metadata": {},
   "outputs": [],
   "source": [
    "#subsetting data with only stores and regions_observed columns\n",
    "#sales_cp.loc[sales_cp.StateHoliday!='public holiday', 'regions_observed'] = None\n",
    "state_hol = sales_cp[sales_cp.StateHoliday=='public holiday']\n",
    "state_hol_sub = state_hol[['Store','regions_observed']]\n",
    "hol_agg = state_hol_sub.groupby(['regions_observed'])['Store'].nunique().reset_index()\n"
   ]
  },
  {
   "cell_type": "code",
   "execution_count": 101,
   "metadata": {},
   "outputs": [
    {
     "data": {
      "text/html": [
       "<div>\n",
       "<style scoped>\n",
       "    .dataframe tbody tr th:only-of-type {\n",
       "        vertical-align: middle;\n",
       "    }\n",
       "\n",
       "    .dataframe tbody tr th {\n",
       "        vertical-align: top;\n",
       "    }\n",
       "\n",
       "    .dataframe thead th {\n",
       "        text-align: right;\n",
       "    }\n",
       "</style>\n",
       "<table border=\"1\" class=\"dataframe\">\n",
       "  <thead>\n",
       "    <tr style=\"text-align: right;\">\n",
       "      <th></th>\n",
       "      <th>regions_observed</th>\n",
       "      <th>Store</th>\n",
       "    </tr>\n",
       "  </thead>\n",
       "  <tbody>\n",
       "    <tr>\n",
       "      <th>0</th>\n",
       "      <td>BB, MV, SN, ST, TH</td>\n",
       "      <td>167</td>\n",
       "    </tr>\n",
       "    <tr>\n",
       "      <th>1</th>\n",
       "      <td>BW, BY, HE, NW, RP, SL</td>\n",
       "      <td>766</td>\n",
       "    </tr>\n",
       "    <tr>\n",
       "      <th>2</th>\n",
       "      <td>BW, BY, NW, RP, SL</td>\n",
       "      <td>579</td>\n",
       "    </tr>\n",
       "    <tr>\n",
       "      <th>3</th>\n",
       "      <td>BW, BY, ST</td>\n",
       "      <td>309</td>\n",
       "    </tr>\n",
       "    <tr>\n",
       "      <th>4</th>\n",
       "      <td>BY, SL</td>\n",
       "      <td>180</td>\n",
       "    </tr>\n",
       "    <tr>\n",
       "      <th>5</th>\n",
       "      <td>SN</td>\n",
       "      <td>75</td>\n",
       "    </tr>\n",
       "  </tbody>\n",
       "</table>\n",
       "</div>"
      ],
      "text/plain": [
       "         regions_observed  Store\n",
       "0      BB, MV, SN, ST, TH    167\n",
       "1  BW, BY, HE, NW, RP, SL    766\n",
       "2      BW, BY, NW, RP, SL    579\n",
       "3              BW, BY, ST    309\n",
       "4                  BY, SL    180\n",
       "5                      SN     75"
      ]
     },
     "execution_count": 101,
     "metadata": {},
     "output_type": "execute_result"
    }
   ],
   "source": [
    "#un-processed aggregation with overlapping regions\n",
    "hol_agg"
   ]
  },
  {
   "cell_type": "code",
   "execution_count": 102,
   "metadata": {},
   "outputs": [
    {
     "data": {
      "image/png": "[encoded data removed]",
      "text/plain": [
       "<Figure size 432x288 with 1 Axes>"
      ]
     },
     "metadata": {
      "needs_background": "light"
     },
     "output_type": "display_data"
    }
   ],
   "source": [
    "#plotting number os unique stores in initial merge \n",
    "ax = sns.barplot(x=hol_agg.Store, y=hol_agg.regions_observed)"
   ]
  },
  {
   "cell_type": "code",
   "execution_count": 103,
   "metadata": {},
   "outputs": [],
   "source": [
    "#creating subsets with the region clusters for finding intersect and union of the datasets\n",
    "reg_1 = state_hol_sub[state_hol_sub.regions_observed=='BW, BY, ST']\n",
    "reg_2 = state_hol_sub[state_hol_sub.regions_observed=='BY, SL']\n",
    "reg_3 = state_hol_sub[state_hol_sub.regions_observed=='BW, BY, NW, RP, SL']\n",
    "reg_4 = state_hol_sub[state_hol_sub.regions_observed=='BW, BY, HE, NW, RP, SL']\n",
    "reg_5 = state_hol_sub[state_hol_sub.regions_observed=='BB, MV, SN, ST, TH']"
   ]
  },
  {
   "cell_type": "code",
   "execution_count": 104,
   "metadata": {},
   "outputs": [],
   "source": [
    "SN = state_hol_sub[state_hol_sub.regions_observed=='SN']"
   ]
  },
  {
   "cell_type": "code",
   "execution_count": 105,
   "metadata": {},
   "outputs": [],
   "source": [
    "BY = pd.DataFrame(np.intersect1d(reg_1.Store, reg_2.Store))\n",
    "BY = state_hol_sub[state_hol_sub.Store.isin(BY[0])].drop_duplicates()"
   ]
  },
  {
   "cell_type": "code",
   "execution_count": 106,
   "metadata": {},
   "outputs": [],
   "source": [
    "BW_ST = pd.DataFrame(np.setxor1d(reg_1.Store, BY.Store))\n",
    "BW_ST = state_hol_sub[state_hol_sub.Store.isin(BW_ST[0])].drop_duplicates()\n",
    "BW = pd.DataFrame(np.intersect1d(reg_3.Store, BW_ST.Store))\n",
    "BW = state_hol_sub[state_hol_sub.Store.isin(BW[0])].drop_duplicates()"
   ]
  },
  {
   "cell_type": "code",
   "execution_count": 107,
   "metadata": {},
   "outputs": [],
   "source": [
    "ST = pd.DataFrame(np.setxor1d(BW.Store, BW_ST.Store))\n",
    "ST = state_hol_sub[state_hol_sub.Store.isin(ST[0])].drop_duplicates()"
   ]
  },
  {
   "cell_type": "code",
   "execution_count": 108,
   "metadata": {},
   "outputs": [],
   "source": [
    "SL = pd.DataFrame(np.setxor1d(reg_2.Store, BY.Store))\n",
    "SL = state_hol_sub[state_hol_sub.Store.isin(SL[0])].drop_duplicates()"
   ]
  },
  {
   "cell_type": "code",
   "execution_count": 109,
   "metadata": {},
   "outputs": [],
   "source": [
    "#for some reason HE also seems to contain SN, removing from the subset\n",
    "HE_SN = pd.DataFrame(np.setxor1d(reg_3.Store, reg_4.Store))\n",
    "HE_SN = state_hol_sub[state_hol_sub.Store.isin(HE_SN[0])].drop_duplicates()\n",
    "HE = pd.DataFrame(np.setxor1d(HE_SN.Store, SN.Store))\n",
    "HE = state_hol_sub[state_hol_sub.Store.isin(HE[0])].drop_duplicates()"
   ]
  },
  {
   "cell_type": "code",
   "execution_count": 110,
   "metadata": {},
   "outputs": [],
   "source": [
    "NW_RP_1 = pd.DataFrame(np.setxor1d(reg_3.Store, BW.Store))\n",
    "NW_RP_1 = state_hol_sub[state_hol_sub.Store.isin(NW_RP_1[0])].drop_duplicates()\n",
    "NW_RP_2 = pd.DataFrame(np.setxor1d(NW_RP_1.Store, BY.Store))\n",
    "NW_RP_2 = state_hol_sub[state_hol_sub.Store.isin(NW_RP_2[0])].drop_duplicates()\n",
    "NW_RP = pd.DataFrame(np.setxor1d(NW_RP_2.Store, SL.Store))\n",
    "NW_RP = state_hol_sub[state_hol_sub.Store.isin(NW_RP[0])].drop_duplicates()"
   ]
  },
  {
   "cell_type": "code",
   "execution_count": 111,
   "metadata": {},
   "outputs": [],
   "source": [
    "BB_MV_TH_1 = pd.DataFrame(np.setxor1d(reg_5.Store, SN.Store))\n",
    "BB_MV_TH_1 = state_hol_sub[state_hol_sub.Store.isin(BB_MV_TH_1[0])].drop_duplicates()\n",
    "BB_MV_TH = pd.DataFrame(np.setxor1d(BB_MV_TH_1.Store, ST.Store))\n",
    "BB_MV_TH = state_hol_sub[state_hol_sub.Store.isin(BB_MV_TH[0])].drop_duplicates()"
   ]
  },
  {
   "cell_type": "code",
   "execution_count": 112,
   "metadata": {},
   "outputs": [],
   "source": [
    "#finding the stores all over germany except for the ones listed above\n",
    "ALL = pd.DataFrame(sales_cp['Store'].unique())\n",
    "ALL_1 = pd.DataFrame(np.setxor1d(ALL[0], reg_4.Store))\n",
    "ALL_1 = state_hol_sub[state_hol_sub.Store.isin(ALL_1[0])].drop_duplicates()\n",
    "BE_HB_HH_NI_SH = pd.DataFrame(np.setxor1d(ALL_1.Store, reg_5.Store))\n",
    "BE_HB_HH_NI_SH = ALL_1[ALL_1.Store.isin(BE_HB_HH_NI_SH[0])].drop_duplicates()"
   ]
  },
  {
   "cell_type": "code",
   "execution_count": 113,
   "metadata": {},
   "outputs": [],
   "source": [
    "#naming dataframes and looking for common values\n",
    "SN.name='SN'\n",
    "ST.name='ST'\n",
    "BW.name='BW'\n",
    "BY.name='BY'\n",
    "HE.name='HE'\n",
    "SL.name='SL'\n",
    "NW_RP.name='NW_RP'\n",
    "BB_MV_TH.name='BB_MV_TH'\n",
    "BE_HB_HH_NI_SH.name='BE_HB_HH_NI_SH'"
   ]
  },
  {
   "cell_type": "code",
   "execution_count": 114,
   "metadata": {},
   "outputs": [
    {
     "name": "stdout",
     "output_type": "stream",
     "text": [
      "SN SN True\n",
      "ST ST True\n",
      "BW BW True\n",
      "BY BY True\n",
      "HE HE True\n",
      "SL SL True\n",
      "NW_RP NW_RP True\n",
      "BB_MV_TH BB_MV_TH True\n",
      "BE_HB_HH_NI_SH BE_HB_HH_NI_SH True\n"
     ]
    }
   ],
   "source": [
    "#checking if there is overlapping between current classification\n",
    "city = [SN, ST, BW, BY, HE, SL, NW_RP, BB_MV_TH, BE_HB_HH_NI_SH]\n",
    "for i in range(len(city)):\n",
    "    for j in range(len(city)):\n",
    "        if np.array_equal(city[i].Store, city[j].Store):\n",
    "            print(city[i].name,city[j].name,np.array_equal(city[i].Store, city[j].Store))"
   ]
  },
  {
   "cell_type": "code",
   "execution_count": 115,
   "metadata": {},
   "outputs": [],
   "source": [
    "#adding columns in subsets with mapped region\n",
    "SN['mapped_region'] = \"SN\"\n",
    "ST['mapped_region'] = \"ST\"\n",
    "BW['mapped_region'] = \"BW\"\n",
    "BY['mapped_region'] = \"BY\"\n",
    "HE['mapped_region'] = \"HE\"\n",
    "SL['mapped_region'] = \"SL\"\n",
    "NW_RP['mapped_region'] = \"NW_RP\"\n",
    "BB_MV_TH['mapped_region'] = \"BB_MV_TH\"\n",
    "BE_HB_HH_NI_SH['mapped_region'] = \"BE_HB_HH_NI_SH\""
   ]
  },
  {
   "cell_type": "code",
   "execution_count": 116,
   "metadata": {},
   "outputs": [],
   "source": [
    "#combining all store-region mapping subsets\n",
    "frames = [SN, ST, BW, BY, HE, SL, NW_RP, BB_MV_TH, BE_HB_HH_NI_SH]\n",
    "store_reg = pd.concat(frames).drop_duplicates()"
   ]
  },
  {
   "cell_type": "code",
   "execution_count": 117,
   "metadata": {},
   "outputs": [],
   "source": [
    "#further identifying regions for above clusters using the school holiday information\n",
    "school_hols = pd.read_excel(cwd+'/data/external_data/schol_out_trans.xlsx', sheet_name='transformed_hols')"
   ]
  },
  {
   "cell_type": "code",
   "execution_count": 118,
   "metadata": {},
   "outputs": [
    {
     "data": {
      "text/html": [
       "<div>\n",
       "<style scoped>\n",
       "    .dataframe tbody tr th:only-of-type {\n",
       "        vertical-align: middle;\n",
       "    }\n",
       "\n",
       "    .dataframe tbody tr th {\n",
       "        vertical-align: top;\n",
       "    }\n",
       "\n",
       "    .dataframe thead th {\n",
       "        text-align: right;\n",
       "    }\n",
       "</style>\n",
       "<table border=\"1\" class=\"dataframe\">\n",
       "  <thead>\n",
       "    <tr style=\"text-align: right;\">\n",
       "      <th></th>\n",
       "      <th>region</th>\n",
       "      <th>region_code</th>\n",
       "      <th>holiday</th>\n",
       "      <th>key</th>\n",
       "      <th>year</th>\n",
       "      <th>from</th>\n",
       "      <th>to</th>\n",
       "    </tr>\n",
       "  </thead>\n",
       "  <tbody>\n",
       "    <tr>\n",
       "      <th>0</th>\n",
       "      <td>Baden-WÃ¼rttemberg</td>\n",
       "      <td>BW</td>\n",
       "      <td>autumn</td>\n",
       "      <td>Baden-WÃ¼rttembergBWautumn2013</td>\n",
       "      <td>2013</td>\n",
       "      <td>2013-10-28</td>\n",
       "      <td>2013-10-30</td>\n",
       "    </tr>\n",
       "    <tr>\n",
       "      <th>1</th>\n",
       "      <td>Baden-WÃ¼rttemberg</td>\n",
       "      <td>BW</td>\n",
       "      <td>christmas</td>\n",
       "      <td>Baden-WÃ¼rttembergBWchristmas2013</td>\n",
       "      <td>2013</td>\n",
       "      <td>2013-12-23</td>\n",
       "      <td>2013-01-05</td>\n",
       "    </tr>\n",
       "    <tr>\n",
       "      <th>2</th>\n",
       "      <td>Baden-WÃ¼rttemberg</td>\n",
       "      <td>BW</td>\n",
       "      <td>easter</td>\n",
       "      <td>Baden-WÃ¼rttembergBWeaster2013</td>\n",
       "      <td>2013</td>\n",
       "      <td>2013-03-25</td>\n",
       "      <td>2013-04-05</td>\n",
       "    </tr>\n",
       "    <tr>\n",
       "      <th>3</th>\n",
       "      <td>Baden-WÃ¼rttemberg</td>\n",
       "      <td>BW</td>\n",
       "      <td>pentecost</td>\n",
       "      <td>Baden-WÃ¼rttembergBWpentecost2013</td>\n",
       "      <td>2013</td>\n",
       "      <td>2013-05-21</td>\n",
       "      <td>2013-06-01</td>\n",
       "    </tr>\n",
       "    <tr>\n",
       "      <th>4</th>\n",
       "      <td>Baden-WÃ¼rttemberg</td>\n",
       "      <td>BW</td>\n",
       "      <td>summer</td>\n",
       "      <td>Baden-WÃ¼rttembergBWsummer2013</td>\n",
       "      <td>2013</td>\n",
       "      <td>2013-07-25</td>\n",
       "      <td>2013-09-07</td>\n",
       "    </tr>\n",
       "  </tbody>\n",
       "</table>\n",
       "</div>"
      ],
      "text/plain": [
       "               region region_code    holiday  \\\n",
       "0  Baden-WÃ¼rttemberg          BW     autumn   \n",
       "1  Baden-WÃ¼rttemberg          BW  christmas   \n",
       "2  Baden-WÃ¼rttemberg          BW     easter   \n",
       "3  Baden-WÃ¼rttemberg          BW  pentecost   \n",
       "4  Baden-WÃ¼rttemberg          BW     summer   \n",
       "\n",
       "                                 key  year       from         to  \n",
       "0     Baden-WÃ¼rttembergBWautumn2013  2013 2013-10-28 2013-10-30  \n",
       "1  Baden-WÃ¼rttembergBWchristmas2013  2013 2013-12-23 2013-01-05  \n",
       "2     Baden-WÃ¼rttembergBWeaster2013  2013 2013-03-25 2013-04-05  \n",
       "3  Baden-WÃ¼rttembergBWpentecost2013  2013 2013-05-21 2013-06-01  \n",
       "4     Baden-WÃ¼rttembergBWsummer2013  2013 2013-07-25 2013-09-07  "
      ]
     },
     "execution_count": 118,
     "metadata": {},
     "output_type": "execute_result"
    }
   ],
   "source": [
    "school_hols.head()"
   ]
  },
  {
   "cell_type": "markdown",
   "metadata": {},
   "source": [
    "NW_RP\n",
    "BB_MV_TH\n",
    "BE_HB_HH_NI_SH\n"
   ]
  },
  {
   "cell_type": "code",
   "execution_count": 119,
   "metadata": {},
   "outputs": [
    {
     "data": {
      "text/plain": [
       "0      749\n",
       "112    193\n",
       "Name: SchoolHoliday, dtype: int64"
      ]
     },
     "execution_count": 119,
     "metadata": {},
     "output_type": "execute_result"
    }
   ],
   "source": [
    "#checking if all stores from a region have holiday on the same day\n",
    "train.loc[train.Store.isin(HE.Store)].groupby('Date')['SchoolHoliday'].sum().value_counts()\n",
    "\n",
    "# 0 denotes no holidays for 749 stores and all have holidays on same day"
   ]
  },
  {
   "cell_type": "code",
   "execution_count": 120,
   "metadata": {},
   "outputs": [
    {
     "data": {
      "text/plain": [
       "0     787\n",
       "73    155\n",
       "Name: SchoolHoliday, dtype: int64"
      ]
     },
     "execution_count": 120,
     "metadata": {},
     "output_type": "execute_result"
    }
   ],
   "source": [
    "train.loc[train.Store.isin(BW.Store)].groupby('Date')['SchoolHoliday'].sum().value_counts()"
   ]
  },
  {
   "cell_type": "code",
   "execution_count": 121,
   "metadata": {},
   "outputs": [
    {
     "data": {
      "text/plain": [
       "0      634\n",
       "180    124\n",
       "Name: SchoolHoliday, dtype: int64"
      ]
     },
     "execution_count": 121,
     "metadata": {},
     "output_type": "execute_result"
    }
   ],
   "source": [
    "train.loc[train.Store.isin(BY.Store)].groupby('Date')['SchoolHoliday'].sum().value_counts()"
   ]
  },
  {
   "cell_type": "code",
   "execution_count": 122,
   "metadata": {},
   "outputs": [
    {
     "data": {
      "text/plain": [
       "0     770\n",
       "75    172\n",
       "Name: SchoolHoliday, dtype: int64"
      ]
     },
     "execution_count": 122,
     "metadata": {},
     "output_type": "execute_result"
    }
   ],
   "source": [
    "train.loc[train.Store.isin(SN.Store)].groupby('Date')['SchoolHoliday'].sum().value_counts()"
   ]
  },
  {
   "cell_type": "code",
   "execution_count": 123,
   "metadata": {},
   "outputs": [
    {
     "data": {
      "text/plain": [
       "0     774\n",
       "56    168\n",
       "Name: SchoolHoliday, dtype: int64"
      ]
     },
     "execution_count": 123,
     "metadata": {},
     "output_type": "execute_result"
    }
   ],
   "source": [
    "train.loc[train.Store.isin(ST.Store)].groupby('Date')['SchoolHoliday'].sum().value_counts()"
   ]
  },
  {
   "cell_type": "code",
   "execution_count": 124,
   "metadata": {},
   "outputs": [
    {
     "data": {
      "text/plain": [
       "0      722\n",
       "326    100\n",
       "286     70\n",
       "40      50\n",
       "Name: SchoolHoliday, dtype: int64"
      ]
     },
     "execution_count": 124,
     "metadata": {},
     "output_type": "execute_result"
    }
   ],
   "source": [
    "#some stores have holidays on different so probably belong to different regions\n",
    "train.loc[train.Store.isin(NW_RP.Store)].groupby('Date')['SchoolHoliday'].sum().value_counts()\n",
    "\n",
    "#there is overlapping of holidays from different regions"
   ]
  },
  {
   "cell_type": "code",
   "execution_count": 125,
   "metadata": {},
   "outputs": [
    {
     "data": {
      "text/plain": [
       "0     775\n",
       "36    167\n",
       "Name: SchoolHoliday, dtype: int64"
      ]
     },
     "execution_count": 125,
     "metadata": {},
     "output_type": "execute_result"
    }
   ],
   "source": [
    "#stores in this category may belong to the same region\n",
    "train.loc[train.Store.isin(BB_MV_TH.Store)].groupby('Date')['SchoolHoliday'].sum().value_counts()\n"
   ]
  },
  {
   "cell_type": "code",
   "execution_count": 126,
   "metadata": {},
   "outputs": [],
   "source": [
    "#checking if there is a school holiday which is mutually exclusive\n",
    "#26-03-2015 is exclusive to RP region\n",
    "TH = train.loc[train.Store.isin(BB_MV_TH.Store)&(train.SchoolHoliday==1), 'Store'].values\n",
    "TH = state_hol_sub.loc[state_hol_sub.Store.isin(TH)].drop_duplicates()\n",
    "\n",
    "RP = train.loc[train.Date=='2015-03-26'].loc[train.Store.isin(NW_RP.Store)].loc[train.SchoolHoliday==1,'Store'].values\n",
    "RP = state_hol_sub.loc[state_hol_sub.Store.isin(RP)].drop_duplicates()\n",
    "NW = np.setxor1d(NW_RP.Store,RP.Store)\n",
    "NW = state_hol_sub[state_hol_sub.Store.isin(NW)].drop_duplicates()"
   ]
  },
  {
   "cell_type": "code",
   "execution_count": 127,
   "metadata": {},
   "outputs": [
    {
     "data": {
      "text/plain": [
       "0      618\n",
       "22      84\n",
       "257     80\n",
       "28      42\n",
       "235     24\n",
       "229     24\n",
       "92      15\n",
       "114     13\n",
       "143     10\n",
       "120     10\n",
       "115      8\n",
       "207      6\n",
       "137      5\n",
       "256      1\n",
       "165      1\n",
       "50       1\n",
       "Name: SchoolHoliday, dtype: int64"
      ]
     },
     "execution_count": 127,
     "metadata": {},
     "output_type": "execute_result"
    }
   ],
   "source": [
    "#this category has stores from multiple regions\n",
    "train.loc[train.Store.isin(BE_HB_HH_NI_SH.Store)].groupby('Date')['SchoolHoliday'].sum().value_counts()"
   ]
  },
  {
   "cell_type": "code",
   "execution_count": 128,
   "metadata": {},
   "outputs": [],
   "source": [
    "#l = ['BE','HB','HH','NI','SH']\n",
    "#school_hols[(school_hols.region_code.isin(l))&(school_hols.year==2013)]"
   ]
  },
  {
   "cell_type": "code",
   "execution_count": 129,
   "metadata": {},
   "outputs": [],
   "source": [
    "#HE region seems to have a holiday on 26/10/2013\n",
    "#train.loc[(train.Date=='2015-03-02')&(train.Store.isin(BE_HB_HH_NI_SH)),'Store'].values\n"
   ]
  },
  {
   "cell_type": "code",
   "execution_count": 130,
   "metadata": {},
   "outputs": [],
   "source": [
    "#train.loc[train.Date=='2015-03-02'].loc[train.Store.isin(BE_HB_HH_NI_SH)].loc[train.SchoolHoliday==1,'Store'].values\n",
    "HH = train.loc[(train.Date=='2015-03-02')&(train.Store.isin(BE_HB_HH_NI_SH.Store))&(train.SchoolHoliday==1),'Store'].values\n",
    "#removing HH from the cluster\n",
    "BE_HB_NI_SH = np.setxor1d(BE_HB_HH_NI_SH.Store,HH)\n",
    "\n",
    "HH = state_hol_sub[state_hol_sub.Store.isin(HH)].drop_duplicates()"
   ]
  },
  {
   "cell_type": "code",
   "execution_count": 131,
   "metadata": {},
   "outputs": [],
   "source": [
    "SH = train.loc[(train.Date=='2015-04-17')&(train.Store.isin(BE_HB_NI_SH))&(train.SchoolHoliday==1),'Store'].values\n",
    "BE_HB_NI = np.setxor1d(BE_HB_NI_SH, SH)\n",
    "\n",
    "SH = state_hol_sub[state_hol_sub.Store.isin(SH)].drop_duplicates()"
   ]
  },
  {
   "cell_type": "code",
   "execution_count": 132,
   "metadata": {},
   "outputs": [],
   "source": [
    "BE = train.loc[(train.Date=='2015-03-25')&(train.Store.isin(BE_HB_NI))&(train.SchoolHoliday==1),'Store'].values\n",
    "\n",
    "HB_NI = np.setxor1d(BE_HB_NI, BE)\n",
    "BE = state_hol_sub[state_hol_sub.Store.isin(BE)].drop_duplicates()"
   ]
  },
  {
   "cell_type": "code",
   "execution_count": 133,
   "metadata": {},
   "outputs": [],
   "source": [
    "HB = train.loc[(train.Store.isin(HB_NI))&(train.Date=='2014-09-10')&(train.SchoolHoliday==1), 'Store'].values\n",
    "\n",
    "NI = np.setxor1d(HB_NI, HB)\n",
    "HB = state_hol_sub[state_hol_sub.Store.isin(HB)].drop_duplicates()\n",
    "NI = state_hol_sub[state_hol_sub.Store.isin(NI)].drop_duplicates()"
   ]
  },
  {
   "cell_type": "code",
   "execution_count": 134,
   "metadata": {},
   "outputs": [],
   "source": [
    "#naming dataframes and looking for common values\n",
    "SN.name='SN'\n",
    "ST.name='ST'\n",
    "BW.name='BW'\n",
    "BY.name='BY'\n",
    "HE.name='HE'\n",
    "BE.name='BE'\n",
    "NW.name='NW'\n",
    "RP.name='RP'\n",
    "TH.name='TH'\n",
    "HB.name='HB'\n",
    "HH.name='HH'\n",
    "NI.name='NI'\n",
    "SH.name='SH'"
   ]
  },
  {
   "cell_type": "code",
   "execution_count": 135,
   "metadata": {},
   "outputs": [
    {
     "name": "stdout",
     "output_type": "stream",
     "text": [
      "SN SN True\n",
      "ST ST True\n",
      "BW BW True\n",
      "BY BY True\n",
      "HE HE True\n",
      "NW NW True\n",
      "RP RP True\n",
      "TH TH True\n",
      "BE BE True\n",
      "HB HB True\n",
      "HH HH True\n",
      "NI NI True\n",
      "SH SH True\n"
     ]
    }
   ],
   "source": [
    "#checking if there is no overlapping of mapped regions (True denotes there is no overlapping of stores)\n",
    "city = [SN, ST, BW, BY, HE, NW, RP, TH, BE, HB, HH, NI, SH]\n",
    "for i in range(len(city)):\n",
    "    for j in range(len(city)):\n",
    "        if np.array_equal(city[i].Store, city[j].Store):\n",
    "            print(city[i].name,city[j].name,np.array_equal(city[i].Store, city[j].Store))"
   ]
  },
  {
   "cell_type": "code",
   "execution_count": 136,
   "metadata": {},
   "outputs": [],
   "source": [
    "#adding columns in subsets with mapped region\n",
    "SN['mapped_region'] = \"SN\"\n",
    "ST['mapped_region'] = \"ST\"\n",
    "BW['mapped_region'] = \"BW\"\n",
    "BY['mapped_region'] = \"BY\"\n",
    "HE['mapped_region'] = \"HE\"\n",
    "BE['mapped_region'] = \"BE\"\n",
    "NW['mapped_region'] = \"NW\"\n",
    "RP['mapped_region'] = \"RP\"\n",
    "TH['mapped_region'] = \"TH\"\n",
    "HB['mapped_region'] = \"HB\"\n",
    "HH['mapped_region'] = \"HH\"\n",
    "NI['mapped_region'] = \"NI\"\n",
    "SH['mapped_region'] = \"SH\""
   ]
  },
  {
   "cell_type": "code",
   "execution_count": 137,
   "metadata": {},
   "outputs": [],
   "source": [
    "#combining all store-region mapping subsets\n",
    "frames = [SN, ST, BW, BY, HE, BE, NW, RP, TH, HB, HH, NI, SH]\n",
    "store_reg = pd.concat(frames).drop_duplicates()"
   ]
  },
  {
   "cell_type": "code",
   "execution_count": 138,
   "metadata": {},
   "outputs": [
    {
     "data": {
      "text/html": [
       "<div>\n",
       "<style scoped>\n",
       "    .dataframe tbody tr th:only-of-type {\n",
       "        vertical-align: middle;\n",
       "    }\n",
       "\n",
       "    .dataframe tbody tr th {\n",
       "        vertical-align: top;\n",
       "    }\n",
       "\n",
       "    .dataframe thead th {\n",
       "        text-align: right;\n",
       "    }\n",
       "</style>\n",
       "<table border=\"1\" class=\"dataframe\">\n",
       "  <thead>\n",
       "    <tr style=\"text-align: right;\">\n",
       "      <th></th>\n",
       "      <th>mapped_region</th>\n",
       "      <th>Store</th>\n",
       "    </tr>\n",
       "  </thead>\n",
       "  <tbody>\n",
       "    <tr>\n",
       "      <th>0</th>\n",
       "      <td>BE</td>\n",
       "      <td>22</td>\n",
       "    </tr>\n",
       "    <tr>\n",
       "      <th>1</th>\n",
       "      <td>BW</td>\n",
       "      <td>73</td>\n",
       "    </tr>\n",
       "    <tr>\n",
       "      <th>2</th>\n",
       "      <td>BY</td>\n",
       "      <td>180</td>\n",
       "    </tr>\n",
       "    <tr>\n",
       "      <th>3</th>\n",
       "      <td>HE</td>\n",
       "      <td>112</td>\n",
       "    </tr>\n",
       "    <tr>\n",
       "      <th>4</th>\n",
       "      <td>HH</td>\n",
       "      <td>28</td>\n",
       "    </tr>\n",
       "    <tr>\n",
       "      <th>5</th>\n",
       "      <td>NI</td>\n",
       "      <td>92</td>\n",
       "    </tr>\n",
       "    <tr>\n",
       "      <th>6</th>\n",
       "      <td>NW</td>\n",
       "      <td>286</td>\n",
       "    </tr>\n",
       "    <tr>\n",
       "      <th>7</th>\n",
       "      <td>RP</td>\n",
       "      <td>40</td>\n",
       "    </tr>\n",
       "    <tr>\n",
       "      <th>8</th>\n",
       "      <td>SH</td>\n",
       "      <td>115</td>\n",
       "    </tr>\n",
       "    <tr>\n",
       "      <th>9</th>\n",
       "      <td>SN</td>\n",
       "      <td>75</td>\n",
       "    </tr>\n",
       "    <tr>\n",
       "      <th>10</th>\n",
       "      <td>ST</td>\n",
       "      <td>56</td>\n",
       "    </tr>\n",
       "    <tr>\n",
       "      <th>11</th>\n",
       "      <td>TH</td>\n",
       "      <td>36</td>\n",
       "    </tr>\n",
       "  </tbody>\n",
       "</table>\n",
       "</div>"
      ],
      "text/plain": [
       "   mapped_region  Store\n",
       "0             BE     22\n",
       "1             BW     73\n",
       "2             BY    180\n",
       "3             HE    112\n",
       "4             HH     28\n",
       "5             NI     92\n",
       "6             NW    286\n",
       "7             RP     40\n",
       "8             SH    115\n",
       "9             SN     75\n",
       "10            ST     56\n",
       "11            TH     36"
      ]
     },
     "execution_count": 138,
     "metadata": {},
     "output_type": "execute_result"
    }
   ],
   "source": [
    "#processed mapping sums to 1115 stores\n",
    "store_reg.groupby(['mapped_region'])['Store'].nunique().reset_index()"
   ]
  },
  {
   "cell_type": "code",
   "execution_count": 139,
   "metadata": {},
   "outputs": [
    {
     "data": {
      "text/plain": [
       "0"
      ]
     },
     "execution_count": 139,
     "metadata": {},
     "output_type": "execute_result"
    }
   ],
   "source": [
    "len(train.loc[~train.Store.isin(store_reg.Store), 'Store'].drop_duplicates().values)"
   ]
  },
  {
   "cell_type": "code",
   "execution_count": 140,
   "metadata": {},
   "outputs": [
    {
     "data": {
      "text/plain": [
       "1115"
      ]
     },
     "execution_count": 140,
     "metadata": {},
     "output_type": "execute_result"
    }
   ],
   "source": [
    "len(store_reg['Store'].drop_duplicates())"
   ]
  },
  {
   "cell_type": "code",
   "execution_count": 141,
   "metadata": {},
   "outputs": [
    {
     "data": {
      "text/html": [
       "<div>\n",
       "<style scoped>\n",
       "    .dataframe tbody tr th:only-of-type {\n",
       "        vertical-align: middle;\n",
       "    }\n",
       "\n",
       "    .dataframe tbody tr th {\n",
       "        vertical-align: top;\n",
       "    }\n",
       "\n",
       "    .dataframe thead th {\n",
       "        text-align: right;\n",
       "    }\n",
       "</style>\n",
       "<table border=\"1\" class=\"dataframe\">\n",
       "  <thead>\n",
       "    <tr style=\"text-align: right;\">\n",
       "      <th></th>\n",
       "      <th>Store</th>\n",
       "      <th>mapped_region</th>\n",
       "    </tr>\n",
       "  </thead>\n",
       "  <tbody>\n",
       "    <tr>\n",
       "      <th>0</th>\n",
       "      <td>5</td>\n",
       "      <td>SN</td>\n",
       "    </tr>\n",
       "    <tr>\n",
       "      <th>1</th>\n",
       "      <td>6</td>\n",
       "      <td>SN</td>\n",
       "    </tr>\n",
       "    <tr>\n",
       "      <th>2</th>\n",
       "      <td>55</td>\n",
       "      <td>SN</td>\n",
       "    </tr>\n",
       "    <tr>\n",
       "      <th>3</th>\n",
       "      <td>57</td>\n",
       "      <td>SN</td>\n",
       "    </tr>\n",
       "    <tr>\n",
       "      <th>4</th>\n",
       "      <td>60</td>\n",
       "      <td>SN</td>\n",
       "    </tr>\n",
       "  </tbody>\n",
       "</table>\n",
       "</div>"
      ],
      "text/plain": [
       "   Store mapped_region\n",
       "0      5            SN\n",
       "1      6            SN\n",
       "2     55            SN\n",
       "3     57            SN\n",
       "4     60            SN"
      ]
     },
     "execution_count": 141,
     "metadata": {},
     "output_type": "execute_result"
    }
   ],
   "source": [
    "store_reg[['Store', 'mapped_region']].reset_index(drop = True).head()"
   ]
  },
  {
   "cell_type": "code",
   "execution_count": 142,
   "metadata": {},
   "outputs": [],
   "source": [
    "sales = sales.iloc[:,:15]\n",
    "sales = sales.merge(store_reg[['Store', 'mapped_region']], how = 'left', on='Store', suffixes={'','_mapreg'})"
   ]
  },
  {
   "cell_type": "markdown",
   "metadata": {},
   "source": [
    "<br>\n",
    "<h3>Acquiring and including Google trends data</h3>\n",
    "<hr>"
   ]
  },
  {
   "cell_type": "markdown",
   "metadata": {},
   "source": [
    "Mapping week wise historical google trend data (SVI - Search volume Index) to the sales dataset downloaded from \n",
    "\n",
    "https://trends.google.com/trends/explore?cat=18&date=2013-01-01%202017-01-01&geo=DE&q=rossmann"
   ]
  },
  {
   "cell_type": "code",
   "execution_count": 143,
   "metadata": {},
   "outputs": [],
   "source": [
    "#getting google trend information\n",
    "pytrends = TrendReq(hl='en-US',tz='60')\n",
    "kw_list = ['rossmann']\n",
    "#unable to collect google trends data at a daily level, downloading manually\n",
    "pytrends.build_payload(kw_list, cat=0, timeframe='2013-01-01 2016-01-01', geo='DE', gprop='froogle')\n",
    "ross_trend = pytrends.interest_over_time()"
   ]
  },
  {
   "cell_type": "markdown",
   "metadata": {},
   "source": [
    "pytrends and google trends doesnt provide daily data for more than 90 days, so downloading weekly data from google trends seems to be a faster option"
   ]
  },
  {
   "cell_type": "code",
   "execution_count": 144,
   "metadata": {},
   "outputs": [
    {
     "data": {
      "text/html": [
       "<div>\n",
       "<style scoped>\n",
       "    .dataframe tbody tr th:only-of-type {\n",
       "        vertical-align: middle;\n",
       "    }\n",
       "\n",
       "    .dataframe tbody tr th {\n",
       "        vertical-align: top;\n",
       "    }\n",
       "\n",
       "    .dataframe thead th {\n",
       "        text-align: right;\n",
       "    }\n",
       "</style>\n",
       "<table border=\"1\" class=\"dataframe\">\n",
       "  <thead>\n",
       "    <tr style=\"text-align: right;\">\n",
       "      <th></th>\n",
       "      <th>date</th>\n",
       "      <th>rossmann</th>\n",
       "      <th>year</th>\n",
       "      <th>week_num</th>\n",
       "    </tr>\n",
       "  </thead>\n",
       "  <tbody>\n",
       "    <tr>\n",
       "      <th>0</th>\n",
       "      <td>2013-01-06</td>\n",
       "      <td>34</td>\n",
       "      <td>2013</td>\n",
       "      <td>1</td>\n",
       "    </tr>\n",
       "    <tr>\n",
       "      <th>1</th>\n",
       "      <td>2013-01-13</td>\n",
       "      <td>28</td>\n",
       "      <td>2013</td>\n",
       "      <td>2</td>\n",
       "    </tr>\n",
       "    <tr>\n",
       "      <th>2</th>\n",
       "      <td>2013-01-20</td>\n",
       "      <td>30</td>\n",
       "      <td>2013</td>\n",
       "      <td>3</td>\n",
       "    </tr>\n",
       "    <tr>\n",
       "      <th>3</th>\n",
       "      <td>2013-01-27</td>\n",
       "      <td>31</td>\n",
       "      <td>2013</td>\n",
       "      <td>4</td>\n",
       "    </tr>\n",
       "    <tr>\n",
       "      <th>4</th>\n",
       "      <td>2013-02-03</td>\n",
       "      <td>17</td>\n",
       "      <td>2013</td>\n",
       "      <td>5</td>\n",
       "    </tr>\n",
       "  </tbody>\n",
       "</table>\n",
       "</div>"
      ],
      "text/plain": [
       "        date  rossmann  year  week_num\n",
       "0 2013-01-06        34  2013         1\n",
       "1 2013-01-13        28  2013         2\n",
       "2 2013-01-20        30  2013         3\n",
       "3 2013-01-27        31  2013         4\n",
       "4 2013-02-03        17  2013         5"
      ]
     },
     "execution_count": 144,
     "metadata": {},
     "output_type": "execute_result"
    }
   ],
   "source": [
    "ross_trend = ross_trend.reset_index()[['date','rossmann']]\n",
    "#ross_trend['week_number']=ross_trend['date'].apply(lambda x: x.)\n",
    "#ross_trend['date'].isocalendar()[0]\n",
    "ross_trend['year'] = ross_trend['date'].dt.year\n",
    "ross_trend['week_num'] = ross_trend['date'].dt.week\n",
    "\n",
    "#google trend data by week\n",
    "ross_trend.head()"
   ]
  },
  {
   "cell_type": "code",
   "execution_count": 145,
   "metadata": {},
   "outputs": [
    {
     "data": {
      "text/html": [
       "<div>\n",
       "<style scoped>\n",
       "    .dataframe tbody tr th:only-of-type {\n",
       "        vertical-align: middle;\n",
       "    }\n",
       "\n",
       "    .dataframe tbody tr th {\n",
       "        vertical-align: top;\n",
       "    }\n",
       "\n",
       "    .dataframe thead th {\n",
       "        text-align: right;\n",
       "    }\n",
       "</style>\n",
       "<table border=\"1\" class=\"dataframe\">\n",
       "  <thead>\n",
       "    <tr style=\"text-align: right;\">\n",
       "      <th></th>\n",
       "      <th>date</th>\n",
       "      <th>rossmann</th>\n",
       "      <th>year</th>\n",
       "      <th>week_num</th>\n",
       "      <th>trend_key</th>\n",
       "    </tr>\n",
       "  </thead>\n",
       "  <tbody>\n",
       "    <tr>\n",
       "      <th>0</th>\n",
       "      <td>2013-01-06</td>\n",
       "      <td>34</td>\n",
       "      <td>2013</td>\n",
       "      <td>1</td>\n",
       "      <td>2013-1</td>\n",
       "    </tr>\n",
       "    <tr>\n",
       "      <th>1</th>\n",
       "      <td>2013-01-13</td>\n",
       "      <td>28</td>\n",
       "      <td>2013</td>\n",
       "      <td>2</td>\n",
       "      <td>2013-2</td>\n",
       "    </tr>\n",
       "    <tr>\n",
       "      <th>2</th>\n",
       "      <td>2013-01-20</td>\n",
       "      <td>30</td>\n",
       "      <td>2013</td>\n",
       "      <td>3</td>\n",
       "      <td>2013-3</td>\n",
       "    </tr>\n",
       "    <tr>\n",
       "      <th>3</th>\n",
       "      <td>2013-01-27</td>\n",
       "      <td>31</td>\n",
       "      <td>2013</td>\n",
       "      <td>4</td>\n",
       "      <td>2013-4</td>\n",
       "    </tr>\n",
       "    <tr>\n",
       "      <th>4</th>\n",
       "      <td>2013-02-03</td>\n",
       "      <td>17</td>\n",
       "      <td>2013</td>\n",
       "      <td>5</td>\n",
       "      <td>2013-5</td>\n",
       "    </tr>\n",
       "  </tbody>\n",
       "</table>\n",
       "</div>"
      ],
      "text/plain": [
       "        date  rossmann  year  week_num trend_key\n",
       "0 2013-01-06        34  2013         1    2013-1\n",
       "1 2013-01-13        28  2013         2    2013-2\n",
       "2 2013-01-20        30  2013         3    2013-3\n",
       "3 2013-01-27        31  2013         4    2013-4\n",
       "4 2013-02-03        17  2013         5    2013-5"
      ]
     },
     "execution_count": 145,
     "metadata": {},
     "output_type": "execute_result"
    }
   ],
   "source": [
    "sales['trend_key'] = sales['year'].astype(str)+'-'+sales['iso_weeknum'].astype(str)\n",
    "ross_trend['trend_key'] = ross_trend['year'].astype(str)+'-'+ross_trend['week_num'].astype(str)\n",
    "\n",
    "ross_trend.head()"
   ]
  },
  {
   "cell_type": "code",
   "execution_count": 146,
   "metadata": {},
   "outputs": [],
   "source": [
    "ross_trend.columns = ['date_t', 'google_svi', 'year_t', 'week_num_t', 'trend_key']"
   ]
  },
  {
   "cell_type": "code",
   "execution_count": 147,
   "metadata": {},
   "outputs": [],
   "source": [
    "#mapping in google trends data by week number\n",
    "sales = sales.merge(ross_trend, how='left', on='trend_key', suffixes={'','_trend'})"
   ]
  },
  {
   "cell_type": "code",
   "execution_count": 148,
   "metadata": {},
   "outputs": [
    {
     "data": {
      "text/html": [
       "<div>\n",
       "<style scoped>\n",
       "    .dataframe tbody tr th:only-of-type {\n",
       "        vertical-align: middle;\n",
       "    }\n",
       "\n",
       "    .dataframe tbody tr th {\n",
       "        vertical-align: top;\n",
       "    }\n",
       "\n",
       "    .dataframe thead th {\n",
       "        text-align: right;\n",
       "    }\n",
       "</style>\n",
       "<table border=\"1\" class=\"dataframe\">\n",
       "  <thead>\n",
       "    <tr style=\"text-align: right;\">\n",
       "      <th></th>\n",
       "      <th>Store</th>\n",
       "      <th>date</th>\n",
       "      <th>Sales</th>\n",
       "      <th>Customers</th>\n",
       "      <th>Open</th>\n",
       "      <th>Promo</th>\n",
       "      <th>StateHoliday</th>\n",
       "      <th>SchoolHoliday</th>\n",
       "      <th>year</th>\n",
       "      <th>day</th>\n",
       "      <th>iso_weeknum</th>\n",
       "      <th>weekday</th>\n",
       "      <th>month</th>\n",
       "      <th>seasons</th>\n",
       "      <th>quarter</th>\n",
       "      <th>mapped_region</th>\n",
       "      <th>trend_key</th>\n",
       "      <th>date_t</th>\n",
       "      <th>google_svi</th>\n",
       "      <th>year_t</th>\n",
       "      <th>week_num_t</th>\n",
       "    </tr>\n",
       "  </thead>\n",
       "  <tbody>\n",
       "    <tr>\n",
       "      <th>0</th>\n",
       "      <td>1</td>\n",
       "      <td>2015-07-31</td>\n",
       "      <td>5263</td>\n",
       "      <td>555</td>\n",
       "      <td>1</td>\n",
       "      <td>1</td>\n",
       "      <td>0</td>\n",
       "      <td>1</td>\n",
       "      <td>2015</td>\n",
       "      <td>31</td>\n",
       "      <td>31</td>\n",
       "      <td>Friday</td>\n",
       "      <td>July</td>\n",
       "      <td>Summer</td>\n",
       "      <td>3</td>\n",
       "      <td>HE</td>\n",
       "      <td>2015-31</td>\n",
       "      <td>2015-08-02</td>\n",
       "      <td>47</td>\n",
       "      <td>2015</td>\n",
       "      <td>31</td>\n",
       "    </tr>\n",
       "    <tr>\n",
       "      <th>1</th>\n",
       "      <td>1</td>\n",
       "      <td>2015-07-31</td>\n",
       "      <td>5263</td>\n",
       "      <td>555</td>\n",
       "      <td>1</td>\n",
       "      <td>1</td>\n",
       "      <td>0</td>\n",
       "      <td>1</td>\n",
       "      <td>2015</td>\n",
       "      <td>31</td>\n",
       "      <td>31</td>\n",
       "      <td>Friday</td>\n",
       "      <td>July</td>\n",
       "      <td>Summer</td>\n",
       "      <td>3</td>\n",
       "      <td>HE</td>\n",
       "      <td>2015-31</td>\n",
       "      <td>2015-08-02</td>\n",
       "      <td>47</td>\n",
       "      <td>2015</td>\n",
       "      <td>31</td>\n",
       "    </tr>\n",
       "    <tr>\n",
       "      <th>2</th>\n",
       "      <td>2</td>\n",
       "      <td>2015-07-31</td>\n",
       "      <td>6064</td>\n",
       "      <td>625</td>\n",
       "      <td>1</td>\n",
       "      <td>1</td>\n",
       "      <td>0</td>\n",
       "      <td>1</td>\n",
       "      <td>2015</td>\n",
       "      <td>31</td>\n",
       "      <td>31</td>\n",
       "      <td>Friday</td>\n",
       "      <td>July</td>\n",
       "      <td>Summer</td>\n",
       "      <td>3</td>\n",
       "      <td>TH</td>\n",
       "      <td>2015-31</td>\n",
       "      <td>2015-08-02</td>\n",
       "      <td>47</td>\n",
       "      <td>2015</td>\n",
       "      <td>31</td>\n",
       "    </tr>\n",
       "    <tr>\n",
       "      <th>3</th>\n",
       "      <td>2</td>\n",
       "      <td>2015-07-31</td>\n",
       "      <td>6064</td>\n",
       "      <td>625</td>\n",
       "      <td>1</td>\n",
       "      <td>1</td>\n",
       "      <td>0</td>\n",
       "      <td>1</td>\n",
       "      <td>2015</td>\n",
       "      <td>31</td>\n",
       "      <td>31</td>\n",
       "      <td>Friday</td>\n",
       "      <td>July</td>\n",
       "      <td>Summer</td>\n",
       "      <td>3</td>\n",
       "      <td>TH</td>\n",
       "      <td>2015-31</td>\n",
       "      <td>2015-08-02</td>\n",
       "      <td>47</td>\n",
       "      <td>2015</td>\n",
       "      <td>31</td>\n",
       "    </tr>\n",
       "    <tr>\n",
       "      <th>4</th>\n",
       "      <td>3</td>\n",
       "      <td>2015-07-31</td>\n",
       "      <td>8314</td>\n",
       "      <td>821</td>\n",
       "      <td>1</td>\n",
       "      <td>1</td>\n",
       "      <td>0</td>\n",
       "      <td>1</td>\n",
       "      <td>2015</td>\n",
       "      <td>31</td>\n",
       "      <td>31</td>\n",
       "      <td>Friday</td>\n",
       "      <td>July</td>\n",
       "      <td>Summer</td>\n",
       "      <td>3</td>\n",
       "      <td>NW</td>\n",
       "      <td>2015-31</td>\n",
       "      <td>2015-08-02</td>\n",
       "      <td>47</td>\n",
       "      <td>2015</td>\n",
       "      <td>31</td>\n",
       "    </tr>\n",
       "  </tbody>\n",
       "</table>\n",
       "</div>"
      ],
      "text/plain": [
       "   Store       date  Sales  Customers  Open  Promo StateHoliday  \\\n",
       "0      1 2015-07-31   5263        555     1      1            0   \n",
       "1      1 2015-07-31   5263        555     1      1            0   \n",
       "2      2 2015-07-31   6064        625     1      1            0   \n",
       "3      2 2015-07-31   6064        625     1      1            0   \n",
       "4      3 2015-07-31   8314        821     1      1            0   \n",
       "\n",
       "   SchoolHoliday  year  day  iso_weeknum weekday month seasons  quarter  \\\n",
       "0              1  2015   31           31  Friday  July  Summer        3   \n",
       "1              1  2015   31           31  Friday  July  Summer        3   \n",
       "2              1  2015   31           31  Friday  July  Summer        3   \n",
       "3              1  2015   31           31  Friday  July  Summer        3   \n",
       "4              1  2015   31           31  Friday  July  Summer        3   \n",
       "\n",
       "  mapped_region trend_key     date_t  google_svi  year_t  week_num_t  \n",
       "0            HE   2015-31 2015-08-02          47    2015          31  \n",
       "1            HE   2015-31 2015-08-02          47    2015          31  \n",
       "2            TH   2015-31 2015-08-02          47    2015          31  \n",
       "3            TH   2015-31 2015-08-02          47    2015          31  \n",
       "4            NW   2015-31 2015-08-02          47    2015          31  "
      ]
     },
     "execution_count": 148,
     "metadata": {},
     "output_type": "execute_result"
    }
   ],
   "source": [
    "sales.head()"
   ]
  },
  {
   "cell_type": "markdown",
   "metadata": {},
   "source": [
    "Including other exogenous data from two events ,\n",
    "    1. World Cup 2014 (major sport event)\n",
    "    2. European Immigrant Crisis (supplies for immigrants, rioters etc)\n",
    "    3. Macroeconomic variable - Consumer Price Index for Germany\n",
    "\n",
    "<br>\n",
    "<br>\n",
    "List of notable events in german history;\n",
    "https://en.wikipedia.org/wiki/Timeline_of_German_history\n",
    "\n",
    "\n",
    "Link to asylum application data by month: http://appsso.eurostat.ec.europa.eu/nui/show.do\n",
    "\n",
    "Link to football worldcup dates: https://www.worldfootball.net/all_matches/wm-2014-in-brasilien/\n",
    "\n"
   ]
  },
  {
   "cell_type": "code",
   "execution_count": 149,
   "metadata": {},
   "outputs": [
    {
     "data": {
      "text/html": [
       "<div>\n",
       "<style scoped>\n",
       "    .dataframe tbody tr th:only-of-type {\n",
       "        vertical-align: middle;\n",
       "    }\n",
       "\n",
       "    .dataframe tbody tr th {\n",
       "        vertical-align: top;\n",
       "    }\n",
       "\n",
       "    .dataframe thead th {\n",
       "        text-align: right;\n",
       "    }\n",
       "</style>\n",
       "<table border=\"1\" class=\"dataframe\">\n",
       "  <thead>\n",
       "    <tr style=\"text-align: right;\">\n",
       "      <th></th>\n",
       "      <th>date</th>\n",
       "      <th>time</th>\n",
       "      <th>team_a</th>\n",
       "      <th>team_b</th>\n",
       "    </tr>\n",
       "  </thead>\n",
       "  <tbody>\n",
       "    <tr>\n",
       "      <th>1</th>\n",
       "      <td>2014-12-06</td>\n",
       "      <td>21:00</td>\n",
       "      <td>Brazil</td>\n",
       "      <td>Croatia</td>\n",
       "    </tr>\n",
       "    <tr>\n",
       "      <th>2</th>\n",
       "      <td>2014-06-13</td>\n",
       "      <td>17:00</td>\n",
       "      <td>Mexico</td>\n",
       "      <td>Cameroon</td>\n",
       "    </tr>\n",
       "    <tr>\n",
       "      <th>3</th>\n",
       "      <td>2014-06-17</td>\n",
       "      <td>20:00</td>\n",
       "      <td>Brazil</td>\n",
       "      <td>Mexico</td>\n",
       "    </tr>\n",
       "    <tr>\n",
       "      <th>4</th>\n",
       "      <td>2014-06-18</td>\n",
       "      <td>23:00</td>\n",
       "      <td>Cameroon</td>\n",
       "      <td>Croatia</td>\n",
       "    </tr>\n",
       "    <tr>\n",
       "      <th>5</th>\n",
       "      <td>2014-06-23</td>\n",
       "      <td>21:00</td>\n",
       "      <td>Cameroon</td>\n",
       "      <td>Brazil</td>\n",
       "    </tr>\n",
       "  </tbody>\n",
       "</table>\n",
       "</div>"
      ],
      "text/plain": [
       "        date   time    team_a    team_b\n",
       "1 2014-12-06  21:00    Brazil   Croatia\n",
       "2 2014-06-13  17:00    Mexico  Cameroon\n",
       "3 2014-06-17  20:00    Brazil    Mexico\n",
       "4 2014-06-18  23:00  Cameroon   Croatia\n",
       "5 2014-06-23  21:00  Cameroon    Brazil"
      ]
     },
     "execution_count": 149,
     "metadata": {},
     "output_type": "execute_result"
    }
   ],
   "source": [
    "#including all dates (maybe provide extra weight/flag to days before and after germany has played)\n",
    "wc_2014 = pd.read_html('https://www.worldfootball.net/all_matches/wm-2014-in-brasilien/')\n",
    "wc_2014 = wc_2014[1]\n",
    "wc_2014.columns = ['date', 'time', 'team_a', '1', 'team_b', '2', '3', '4']\n",
    "dlab = ['1', '2', '3', '4']\n",
    "wc_2014.drop(dlab, axis=1, inplace=True)\n",
    "wc_2014['date'].fillna(method = 'ffill', inplace = True)\n",
    "wc_2014['date']=pd.to_datetime(wc_2014['date'], errors='coerce')\n",
    "wc_2014.dropna(axis = 0, inplace = True)\n",
    "wc_2014.head()"
   ]
  },
  {
   "cell_type": "code",
   "execution_count": 150,
   "metadata": {},
   "outputs": [],
   "source": [
    "#merging with the dataset\n",
    "sales.loc[sales.date.isin(wc_2014.date), 'wc_days']=1\n",
    "sales['wc_days'].fillna(0, inplace=True)\n",
    "sales.wc_days = sales.wc_days.astype(int)"
   ]
  },
  {
   "cell_type": "code",
   "execution_count": 151,
   "metadata": {},
   "outputs": [
    {
     "data": {
      "text/html": [
       "<div>\n",
       "<style scoped>\n",
       "    .dataframe tbody tr th:only-of-type {\n",
       "        vertical-align: middle;\n",
       "    }\n",
       "\n",
       "    .dataframe tbody tr th {\n",
       "        vertical-align: top;\n",
       "    }\n",
       "\n",
       "    .dataframe thead th {\n",
       "        text-align: right;\n",
       "    }\n",
       "</style>\n",
       "<table border=\"1\" class=\"dataframe\">\n",
       "  <thead>\n",
       "    <tr style=\"text-align: right;\">\n",
       "      <th></th>\n",
       "      <th>TIME</th>\n",
       "      <th>GEO</th>\n",
       "      <th>CITIZEN</th>\n",
       "      <th>SEX</th>\n",
       "      <th>AGE</th>\n",
       "      <th>ASYL_APP</th>\n",
       "      <th>UNIT</th>\n",
       "      <th>Value</th>\n",
       "      <th>Flag and Footnotes</th>\n",
       "    </tr>\n",
       "  </thead>\n",
       "  <tbody>\n",
       "    <tr>\n",
       "      <th>0</th>\n",
       "      <td>2013M01</td>\n",
       "      <td>Germany (until 1990 former territory of the FRG)</td>\n",
       "      <td>Extra-EU28 (current composition)</td>\n",
       "      <td>Total</td>\n",
       "      <td>Total</td>\n",
       "      <td>Asylum applicant</td>\n",
       "      <td>Person</td>\n",
       "      <td>8,370</td>\n",
       "      <td>NaN</td>\n",
       "    </tr>\n",
       "    <tr>\n",
       "      <th>1</th>\n",
       "      <td>2013M01</td>\n",
       "      <td>Germany (until 1990 former territory of the FRG)</td>\n",
       "      <td>Extra-EU28 (current composition)</td>\n",
       "      <td>Total</td>\n",
       "      <td>Total</td>\n",
       "      <td>First time applicant</td>\n",
       "      <td>Person</td>\n",
       "      <td>7,505</td>\n",
       "      <td>NaN</td>\n",
       "    </tr>\n",
       "  </tbody>\n",
       "</table>\n",
       "</div>"
      ],
      "text/plain": [
       "      TIME                                               GEO  \\\n",
       "0  2013M01  Germany (until 1990 former territory of the FRG)   \n",
       "1  2013M01  Germany (until 1990 former territory of the FRG)   \n",
       "\n",
       "                            CITIZEN    SEX    AGE              ASYL_APP  \\\n",
       "0  Extra-EU28 (current composition)  Total  Total      Asylum applicant   \n",
       "1  Extra-EU28 (current composition)  Total  Total  First time applicant   \n",
       "\n",
       "     UNIT  Value  Flag and Footnotes  \n",
       "0  Person  8,370                 NaN  \n",
       "1  Person  7,505                 NaN  "
      ]
     },
     "execution_count": 151,
     "metadata": {},
     "output_type": "execute_result"
    }
   ],
   "source": [
    "#importing asylum applicants in germany for 2013, 2014, 2015\n",
    "imm_app = pd.read_csv(cwd+'/data/external_data/migr_asyappctzm/migr_asyappctzm_1_Data.csv')\n",
    "imm_app.head(2)"
   ]
  },
  {
   "cell_type": "code",
   "execution_count": 152,
   "metadata": {},
   "outputs": [],
   "source": [
    "dlab1 = ['GEO', 'CITIZEN', 'SEX', 'AGE', 'ASYL_APP', 'UNIT', 'Flag and Footnotes']\n",
    "imm_app = imm_app[imm_app['ASYL_APP']=='Asylum applicant'].drop(dlab1, axis=1)\n",
    "imm_app.columns = ['year_month', 'num_asy_app']"
   ]
  },
  {
   "cell_type": "code",
   "execution_count": 153,
   "metadata": {},
   "outputs": [
    {
     "data": {
      "text/html": [
       "<div>\n",
       "<style scoped>\n",
       "    .dataframe tbody tr th:only-of-type {\n",
       "        vertical-align: middle;\n",
       "    }\n",
       "\n",
       "    .dataframe tbody tr th {\n",
       "        vertical-align: top;\n",
       "    }\n",
       "\n",
       "    .dataframe thead th {\n",
       "        text-align: right;\n",
       "    }\n",
       "</style>\n",
       "<table border=\"1\" class=\"dataframe\">\n",
       "  <thead>\n",
       "    <tr style=\"text-align: right;\">\n",
       "      <th></th>\n",
       "      <th>year_month</th>\n",
       "      <th>num_asy_app</th>\n",
       "    </tr>\n",
       "  </thead>\n",
       "  <tbody>\n",
       "    <tr>\n",
       "      <th>0</th>\n",
       "      <td>2013M01</td>\n",
       "      <td>8,370</td>\n",
       "    </tr>\n",
       "    <tr>\n",
       "      <th>2</th>\n",
       "      <td>2013M02</td>\n",
       "      <td>6,800</td>\n",
       "    </tr>\n",
       "    <tr>\n",
       "      <th>4</th>\n",
       "      <td>2013M03</td>\n",
       "      <td>6,500</td>\n",
       "    </tr>\n",
       "    <tr>\n",
       "      <th>6</th>\n",
       "      <td>2013M04</td>\n",
       "      <td>8,735</td>\n",
       "    </tr>\n",
       "    <tr>\n",
       "      <th>8</th>\n",
       "      <td>2013M05</td>\n",
       "      <td>8,580</td>\n",
       "    </tr>\n",
       "  </tbody>\n",
       "</table>\n",
       "</div>"
      ],
      "text/plain": [
       "  year_month num_asy_app\n",
       "0    2013M01       8,370\n",
       "2    2013M02       6,800\n",
       "4    2013M03       6,500\n",
       "6    2013M04       8,735\n",
       "8    2013M05       8,580"
      ]
     },
     "execution_count": 153,
     "metadata": {},
     "output_type": "execute_result"
    }
   ],
   "source": [
    "imm_app.head()"
   ]
  },
  {
   "cell_type": "code",
   "execution_count": 154,
   "metadata": {},
   "outputs": [],
   "source": [
    "imm_app['year'],imm_app['month'] = imm_app.year_month.str.split('M', 1).str\n",
    "imm_app['month'] = imm_app['month'].astype(int).apply(lambda x: calendar.month_name[x])\n",
    "imm_app['year_month'] = imm_app['year'].astype(str)+'_'+imm_app['month'].astype(str)"
   ]
  },
  {
   "cell_type": "code",
   "execution_count": 155,
   "metadata": {},
   "outputs": [],
   "source": [
    "sales['year_month'] = sales['year'].astype(str)+'_'+sales['month'].astype(str)"
   ]
  },
  {
   "cell_type": "code",
   "execution_count": 156,
   "metadata": {},
   "outputs": [],
   "source": [
    "sales = sales.merge(imm_app, how='left', on='year_month', suffixes={'','_imm'})"
   ]
  },
  {
   "cell_type": "code",
   "execution_count": 157,
   "metadata": {},
   "outputs": [],
   "source": [
    "cpi = pd.read_csv(cwd+'/data/external_data/cpi_germany_13-15.csv')\n",
    "cpi.columns = ['date', 'cpi']"
   ]
  },
  {
   "cell_type": "code",
   "execution_count": 158,
   "metadata": {},
   "outputs": [],
   "source": [
    "cpi['month'] = pd.DatetimeIndex(cpi['date']).month\n",
    "cpi['year'] = pd.DatetimeIndex(cpi['date']).year\n",
    "cpi['month'] = cpi['month'].apply(lambda x: calendar.month_name[x])\n",
    "cpi['cpi_key'] = cpi['year'].astype(str)+'_'+cpi['month'].astype(str)"
   ]
  },
  {
   "cell_type": "code",
   "execution_count": 159,
   "metadata": {},
   "outputs": [
    {
     "data": {
      "text/html": [
       "<div>\n",
       "<style scoped>\n",
       "    .dataframe tbody tr th:only-of-type {\n",
       "        vertical-align: middle;\n",
       "    }\n",
       "\n",
       "    .dataframe tbody tr th {\n",
       "        vertical-align: top;\n",
       "    }\n",
       "\n",
       "    .dataframe thead th {\n",
       "        text-align: right;\n",
       "    }\n",
       "</style>\n",
       "<table border=\"1\" class=\"dataframe\">\n",
       "  <thead>\n",
       "    <tr style=\"text-align: right;\">\n",
       "      <th></th>\n",
       "      <th>Store</th>\n",
       "      <th>date</th>\n",
       "      <th>Sales</th>\n",
       "      <th>Customers</th>\n",
       "      <th>Open</th>\n",
       "      <th>Promo</th>\n",
       "      <th>StateHoliday</th>\n",
       "      <th>SchoolHoliday</th>\n",
       "      <th>year</th>\n",
       "      <th>day</th>\n",
       "      <th>iso_weeknum</th>\n",
       "      <th>weekday</th>\n",
       "      <th>month</th>\n",
       "      <th>seasons</th>\n",
       "      <th>quarter</th>\n",
       "      <th>mapped_region</th>\n",
       "      <th>trend_key</th>\n",
       "      <th>date_t</th>\n",
       "      <th>google_svi</th>\n",
       "      <th>year_t</th>\n",
       "      <th>week_num_t</th>\n",
       "      <th>wc_days</th>\n",
       "      <th>year_month</th>\n",
       "      <th>num_asy_app</th>\n",
       "      <th>year_imm</th>\n",
       "      <th>month_imm</th>\n",
       "      <th>cpi_key</th>\n",
       "      <th>date_cpi</th>\n",
       "      <th>cpi</th>\n",
       "      <th>month_cpi</th>\n",
       "      <th>year_cpi</th>\n",
       "    </tr>\n",
       "  </thead>\n",
       "  <tbody>\n",
       "    <tr>\n",
       "      <th>0</th>\n",
       "      <td>1</td>\n",
       "      <td>2015-07-31</td>\n",
       "      <td>5263</td>\n",
       "      <td>555</td>\n",
       "      <td>1</td>\n",
       "      <td>1</td>\n",
       "      <td>0</td>\n",
       "      <td>1</td>\n",
       "      <td>2015</td>\n",
       "      <td>31</td>\n",
       "      <td>31</td>\n",
       "      <td>Friday</td>\n",
       "      <td>July</td>\n",
       "      <td>Summer</td>\n",
       "      <td>3</td>\n",
       "      <td>HE</td>\n",
       "      <td>2015-31</td>\n",
       "      <td>2015-08-02</td>\n",
       "      <td>47</td>\n",
       "      <td>2015</td>\n",
       "      <td>31</td>\n",
       "      <td>0</td>\n",
       "      <td>2015_July</td>\n",
       "      <td>39,825</td>\n",
       "      <td>2015</td>\n",
       "      <td>July</td>\n",
       "      <td>2015_July</td>\n",
       "      <td>2015-07-01</td>\n",
       "      <td>100.288454</td>\n",
       "      <td>July</td>\n",
       "      <td>2015</td>\n",
       "    </tr>\n",
       "    <tr>\n",
       "      <th>1</th>\n",
       "      <td>1</td>\n",
       "      <td>2015-07-31</td>\n",
       "      <td>5263</td>\n",
       "      <td>555</td>\n",
       "      <td>1</td>\n",
       "      <td>1</td>\n",
       "      <td>0</td>\n",
       "      <td>1</td>\n",
       "      <td>2015</td>\n",
       "      <td>31</td>\n",
       "      <td>31</td>\n",
       "      <td>Friday</td>\n",
       "      <td>July</td>\n",
       "      <td>Summer</td>\n",
       "      <td>3</td>\n",
       "      <td>HE</td>\n",
       "      <td>2015-31</td>\n",
       "      <td>2015-08-02</td>\n",
       "      <td>47</td>\n",
       "      <td>2015</td>\n",
       "      <td>31</td>\n",
       "      <td>0</td>\n",
       "      <td>2015_July</td>\n",
       "      <td>39,825</td>\n",
       "      <td>2015</td>\n",
       "      <td>July</td>\n",
       "      <td>2015_July</td>\n",
       "      <td>2015-07-01</td>\n",
       "      <td>100.288454</td>\n",
       "      <td>July</td>\n",
       "      <td>2015</td>\n",
       "    </tr>\n",
       "    <tr>\n",
       "      <th>2</th>\n",
       "      <td>2</td>\n",
       "      <td>2015-07-31</td>\n",
       "      <td>6064</td>\n",
       "      <td>625</td>\n",
       "      <td>1</td>\n",
       "      <td>1</td>\n",
       "      <td>0</td>\n",
       "      <td>1</td>\n",
       "      <td>2015</td>\n",
       "      <td>31</td>\n",
       "      <td>31</td>\n",
       "      <td>Friday</td>\n",
       "      <td>July</td>\n",
       "      <td>Summer</td>\n",
       "      <td>3</td>\n",
       "      <td>TH</td>\n",
       "      <td>2015-31</td>\n",
       "      <td>2015-08-02</td>\n",
       "      <td>47</td>\n",
       "      <td>2015</td>\n",
       "      <td>31</td>\n",
       "      <td>0</td>\n",
       "      <td>2015_July</td>\n",
       "      <td>39,825</td>\n",
       "      <td>2015</td>\n",
       "      <td>July</td>\n",
       "      <td>2015_July</td>\n",
       "      <td>2015-07-01</td>\n",
       "      <td>100.288454</td>\n",
       "      <td>July</td>\n",
       "      <td>2015</td>\n",
       "    </tr>\n",
       "    <tr>\n",
       "      <th>3</th>\n",
       "      <td>2</td>\n",
       "      <td>2015-07-31</td>\n",
       "      <td>6064</td>\n",
       "      <td>625</td>\n",
       "      <td>1</td>\n",
       "      <td>1</td>\n",
       "      <td>0</td>\n",
       "      <td>1</td>\n",
       "      <td>2015</td>\n",
       "      <td>31</td>\n",
       "      <td>31</td>\n",
       "      <td>Friday</td>\n",
       "      <td>July</td>\n",
       "      <td>Summer</td>\n",
       "      <td>3</td>\n",
       "      <td>TH</td>\n",
       "      <td>2015-31</td>\n",
       "      <td>2015-08-02</td>\n",
       "      <td>47</td>\n",
       "      <td>2015</td>\n",
       "      <td>31</td>\n",
       "      <td>0</td>\n",
       "      <td>2015_July</td>\n",
       "      <td>39,825</td>\n",
       "      <td>2015</td>\n",
       "      <td>July</td>\n",
       "      <td>2015_July</td>\n",
       "      <td>2015-07-01</td>\n",
       "      <td>100.288454</td>\n",
       "      <td>July</td>\n",
       "      <td>2015</td>\n",
       "    </tr>\n",
       "    <tr>\n",
       "      <th>4</th>\n",
       "      <td>3</td>\n",
       "      <td>2015-07-31</td>\n",
       "      <td>8314</td>\n",
       "      <td>821</td>\n",
       "      <td>1</td>\n",
       "      <td>1</td>\n",
       "      <td>0</td>\n",
       "      <td>1</td>\n",
       "      <td>2015</td>\n",
       "      <td>31</td>\n",
       "      <td>31</td>\n",
       "      <td>Friday</td>\n",
       "      <td>July</td>\n",
       "      <td>Summer</td>\n",
       "      <td>3</td>\n",
       "      <td>NW</td>\n",
       "      <td>2015-31</td>\n",
       "      <td>2015-08-02</td>\n",
       "      <td>47</td>\n",
       "      <td>2015</td>\n",
       "      <td>31</td>\n",
       "      <td>0</td>\n",
       "      <td>2015_July</td>\n",
       "      <td>39,825</td>\n",
       "      <td>2015</td>\n",
       "      <td>July</td>\n",
       "      <td>2015_July</td>\n",
       "      <td>2015-07-01</td>\n",
       "      <td>100.288454</td>\n",
       "      <td>July</td>\n",
       "      <td>2015</td>\n",
       "    </tr>\n",
       "  </tbody>\n",
       "</table>\n",
       "</div>"
      ],
      "text/plain": [
       "   Store       date  Sales  Customers  Open  Promo StateHoliday  \\\n",
       "0      1 2015-07-31   5263        555     1      1            0   \n",
       "1      1 2015-07-31   5263        555     1      1            0   \n",
       "2      2 2015-07-31   6064        625     1      1            0   \n",
       "3      2 2015-07-31   6064        625     1      1            0   \n",
       "4      3 2015-07-31   8314        821     1      1            0   \n",
       "\n",
       "   SchoolHoliday  year  day  iso_weeknum weekday month seasons  quarter  \\\n",
       "0              1  2015   31           31  Friday  July  Summer        3   \n",
       "1              1  2015   31           31  Friday  July  Summer        3   \n",
       "2              1  2015   31           31  Friday  July  Summer        3   \n",
       "3              1  2015   31           31  Friday  July  Summer        3   \n",
       "4              1  2015   31           31  Friday  July  Summer        3   \n",
       "\n",
       "  mapped_region trend_key     date_t  google_svi  year_t  week_num_t  wc_days  \\\n",
       "0            HE   2015-31 2015-08-02          47    2015          31        0   \n",
       "1            HE   2015-31 2015-08-02          47    2015          31        0   \n",
       "2            TH   2015-31 2015-08-02          47    2015          31        0   \n",
       "3            TH   2015-31 2015-08-02          47    2015          31        0   \n",
       "4            NW   2015-31 2015-08-02          47    2015          31        0   \n",
       "\n",
       "  year_month num_asy_app year_imm month_imm    cpi_key    date_cpi  \\\n",
       "0  2015_July      39,825     2015      July  2015_July  2015-07-01   \n",
       "1  2015_July      39,825     2015      July  2015_July  2015-07-01   \n",
       "2  2015_July      39,825     2015      July  2015_July  2015-07-01   \n",
       "3  2015_July      39,825     2015      July  2015_July  2015-07-01   \n",
       "4  2015_July      39,825     2015      July  2015_July  2015-07-01   \n",
       "\n",
       "          cpi month_cpi  year_cpi  \n",
       "0  100.288454      July      2015  \n",
       "1  100.288454      July      2015  \n",
       "2  100.288454      July      2015  \n",
       "3  100.288454      July      2015  \n",
       "4  100.288454      July      2015  "
      ]
     },
     "execution_count": 159,
     "metadata": {},
     "output_type": "execute_result"
    }
   ],
   "source": [
    "sales['cpi_key'] = sales['year'].astype(str)+\"_\"+sales['month']\n",
    "sales = sales.merge(cpi, how = 'left', on = 'cpi_key', suffixes = {'','_cpi'})\n",
    "sales.head()"
   ]
  },
  {
   "cell_type": "code",
   "execution_count": 160,
   "metadata": {
    "scrolled": true
   },
   "outputs": [
    {
     "data": {
      "text/html": [
       "<div>\n",
       "<style scoped>\n",
       "    .dataframe tbody tr th:only-of-type {\n",
       "        vertical-align: middle;\n",
       "    }\n",
       "\n",
       "    .dataframe tbody tr th {\n",
       "        vertical-align: top;\n",
       "    }\n",
       "\n",
       "    .dataframe thead th {\n",
       "        text-align: right;\n",
       "    }\n",
       "</style>\n",
       "<table border=\"1\" class=\"dataframe\">\n",
       "  <thead>\n",
       "    <tr style=\"text-align: right;\">\n",
       "      <th></th>\n",
       "      <th>Store</th>\n",
       "      <th>date</th>\n",
       "      <th>Sales</th>\n",
       "      <th>Customers</th>\n",
       "      <th>Open</th>\n",
       "      <th>Promo</th>\n",
       "      <th>StateHoliday</th>\n",
       "      <th>SchoolHoliday</th>\n",
       "      <th>year</th>\n",
       "      <th>day</th>\n",
       "      <th>iso_weeknum</th>\n",
       "      <th>weekday</th>\n",
       "      <th>month</th>\n",
       "      <th>seasons</th>\n",
       "      <th>quarter</th>\n",
       "      <th>mapped_region</th>\n",
       "      <th>google_svi</th>\n",
       "      <th>wc_days</th>\n",
       "      <th>num_asy_app</th>\n",
       "      <th>cpi</th>\n",
       "    </tr>\n",
       "  </thead>\n",
       "  <tbody>\n",
       "    <tr>\n",
       "      <th>0</th>\n",
       "      <td>1</td>\n",
       "      <td>2015-07-31</td>\n",
       "      <td>5263</td>\n",
       "      <td>555</td>\n",
       "      <td>1</td>\n",
       "      <td>1</td>\n",
       "      <td>0</td>\n",
       "      <td>1</td>\n",
       "      <td>2015</td>\n",
       "      <td>31</td>\n",
       "      <td>31</td>\n",
       "      <td>Friday</td>\n",
       "      <td>July</td>\n",
       "      <td>Summer</td>\n",
       "      <td>3</td>\n",
       "      <td>HE</td>\n",
       "      <td>47</td>\n",
       "      <td>0</td>\n",
       "      <td>39,825</td>\n",
       "      <td>100.288454</td>\n",
       "    </tr>\n",
       "    <tr>\n",
       "      <th>1</th>\n",
       "      <td>1</td>\n",
       "      <td>2015-07-31</td>\n",
       "      <td>5263</td>\n",
       "      <td>555</td>\n",
       "      <td>1</td>\n",
       "      <td>1</td>\n",
       "      <td>0</td>\n",
       "      <td>1</td>\n",
       "      <td>2015</td>\n",
       "      <td>31</td>\n",
       "      <td>31</td>\n",
       "      <td>Friday</td>\n",
       "      <td>July</td>\n",
       "      <td>Summer</td>\n",
       "      <td>3</td>\n",
       "      <td>HE</td>\n",
       "      <td>47</td>\n",
       "      <td>0</td>\n",
       "      <td>39,825</td>\n",
       "      <td>100.288454</td>\n",
       "    </tr>\n",
       "    <tr>\n",
       "      <th>2</th>\n",
       "      <td>2</td>\n",
       "      <td>2015-07-31</td>\n",
       "      <td>6064</td>\n",
       "      <td>625</td>\n",
       "      <td>1</td>\n",
       "      <td>1</td>\n",
       "      <td>0</td>\n",
       "      <td>1</td>\n",
       "      <td>2015</td>\n",
       "      <td>31</td>\n",
       "      <td>31</td>\n",
       "      <td>Friday</td>\n",
       "      <td>July</td>\n",
       "      <td>Summer</td>\n",
       "      <td>3</td>\n",
       "      <td>TH</td>\n",
       "      <td>47</td>\n",
       "      <td>0</td>\n",
       "      <td>39,825</td>\n",
       "      <td>100.288454</td>\n",
       "    </tr>\n",
       "    <tr>\n",
       "      <th>3</th>\n",
       "      <td>2</td>\n",
       "      <td>2015-07-31</td>\n",
       "      <td>6064</td>\n",
       "      <td>625</td>\n",
       "      <td>1</td>\n",
       "      <td>1</td>\n",
       "      <td>0</td>\n",
       "      <td>1</td>\n",
       "      <td>2015</td>\n",
       "      <td>31</td>\n",
       "      <td>31</td>\n",
       "      <td>Friday</td>\n",
       "      <td>July</td>\n",
       "      <td>Summer</td>\n",
       "      <td>3</td>\n",
       "      <td>TH</td>\n",
       "      <td>47</td>\n",
       "      <td>0</td>\n",
       "      <td>39,825</td>\n",
       "      <td>100.288454</td>\n",
       "    </tr>\n",
       "    <tr>\n",
       "      <th>4</th>\n",
       "      <td>3</td>\n",
       "      <td>2015-07-31</td>\n",
       "      <td>8314</td>\n",
       "      <td>821</td>\n",
       "      <td>1</td>\n",
       "      <td>1</td>\n",
       "      <td>0</td>\n",
       "      <td>1</td>\n",
       "      <td>2015</td>\n",
       "      <td>31</td>\n",
       "      <td>31</td>\n",
       "      <td>Friday</td>\n",
       "      <td>July</td>\n",
       "      <td>Summer</td>\n",
       "      <td>3</td>\n",
       "      <td>NW</td>\n",
       "      <td>47</td>\n",
       "      <td>0</td>\n",
       "      <td>39,825</td>\n",
       "      <td>100.288454</td>\n",
       "    </tr>\n",
       "  </tbody>\n",
       "</table>\n",
       "</div>"
      ],
      "text/plain": [
       "   Store       date  Sales  Customers  Open  Promo StateHoliday  \\\n",
       "0      1 2015-07-31   5263        555     1      1            0   \n",
       "1      1 2015-07-31   5263        555     1      1            0   \n",
       "2      2 2015-07-31   6064        625     1      1            0   \n",
       "3      2 2015-07-31   6064        625     1      1            0   \n",
       "4      3 2015-07-31   8314        821     1      1            0   \n",
       "\n",
       "   SchoolHoliday  year  day  iso_weeknum weekday month seasons  quarter  \\\n",
       "0              1  2015   31           31  Friday  July  Summer        3   \n",
       "1              1  2015   31           31  Friday  July  Summer        3   \n",
       "2              1  2015   31           31  Friday  July  Summer        3   \n",
       "3              1  2015   31           31  Friday  July  Summer        3   \n",
       "4              1  2015   31           31  Friday  July  Summer        3   \n",
       "\n",
       "  mapped_region  google_svi  wc_days num_asy_app         cpi  \n",
       "0            HE          47        0      39,825  100.288454  \n",
       "1            HE          47        0      39,825  100.288454  \n",
       "2            TH          47        0      39,825  100.288454  \n",
       "3            TH          47        0      39,825  100.288454  \n",
       "4            NW          47        0      39,825  100.288454  "
      ]
     },
     "execution_count": 160,
     "metadata": {},
     "output_type": "execute_result"
    }
   ],
   "source": [
    "dcol = ['trend_key', 'date_t', 'year_t', 'week_num_t', 'year_month', 'year_imm', 'month_imm', 'date_cpi', 'cpi_key', 'month_cpi', 'year_cpi']\n",
    "sales.drop(dcol, axis=1, inplace= True)\n",
    "sales.head()"
   ]
  },
  {
   "cell_type": "markdown",
   "metadata": {},
   "source": [
    "<h3>Acquiring temperature/weather data</h3>\n",
    "<hr>\n",
    "<ul><li>searching with addresses and nearest weather stations with historical information"
   ]
  },
  {
   "cell_type": "code",
   "execution_count": 161,
   "metadata": {},
   "outputs": [],
   "source": [
    "regmap = {'HE': 'Hessen', 'TH':'Thuringia', 'NW':'North Rhine Westfalia', 'NI':'Lower Saxony', 'SN':'Saxony', 'SH':'Schleswig Holstein', 'BE':'Berlin', 'BY':'Bavaria', 'BW':'Baden-Württemberg', 'RP':'Rhineland-Palatinate', 'ST':'Saxony-Anhalt', 'HH':'Hamburg'}\n",
    "sales.mapped_region = sales.mapped_region.map(regmap)"
   ]
  },
  {
   "cell_type": "code",
   "execution_count": 162,
   "metadata": {},
   "outputs": [],
   "source": [
    "#getting latitude and longitude for the regions to identify weather station ids\n",
    "g = geocoders.ArcGIS()\n",
    "reg_df = pd.DataFrame(columns = ['region', 'latitude', 'longitude'])\n",
    "for i in sales.mapped_region.unique():\n",
    "    geo = g.geocode(i)\n",
    "    reg_df = reg_df.append({'region': geo[0], 'latitude': geo[1][0], 'longitude': geo[1][1]}, ignore_index=True)"
   ]
  },
  {
   "cell_type": "code",
   "execution_count": 163,
   "metadata": {},
   "outputs": [],
   "source": [
    "#getting station ids from open weather\n",
    "#ow = openweather.OpenWeather('020ce5e8ceb7bd3a1d6c800b2247fa18')\n",
    "#station = ow.find_stations_near(50.603974, 9.031721, 50)"
   ]
  },
  {
   "cell_type": "code",
   "execution_count": 164,
   "metadata": {},
   "outputs": [],
   "source": [
    "weather_stn = 'https://mesonet.agron.iastate.edu/sites/networks.php?network=DE__ASOS&format=csv&nohtml=on'\n",
    "weather_data = 'https://mesonet.agron.iastate.edu/cgi-bin/request/asos.py?station=EDAC&station=EDAD&station=EDAH&station=EDAR&station=EDAS&station=EDBB&station=EDBC&station=EDBM&station=EDBT&station=EDCK&station=EDCP&station=EDDB&station=EDDC&station=EDDE&station=EDDF&station=EDDG&station=EDDH&station=EDDI&station=EDDK&station=EDDL&station=EDDM&station=EDDN&station=EDDP&station=EDDR&station=EDDS&station=EDDT&station=EDDV&station=EDDW&station=EDEF&station=EDEK&station=EDFE&station=EDFH&station=EDFM&station=EDGS&station=EDHI&station=EDHK&station=EDHL&station=EDIA&station=EDIC&station=EDIG&station=EDIH&station=EDIK&station=EDJA&station=EDKA&station=EDLE&station=EDLG&station=EDLN&station=EDLP&station=EDLV&station=EDLW&station=EDMA&station=EDMB&station=EDMO&station=EDNN&station=EDNY&station=EDOP&station=EDPH&station=EDPN&station=EDQD&station=EDQM&station=EDRZ&station=EDSB&station=EDTD&station=EDTL&station=EDTY&station=EDTZ&station=EDVE&station=EDVK&station=EDVV&station=EDWD&station=EDWE&station=EDXW&station=EDZB&station=EDZE&station=EDZH&station=EDZJ&station=ETAD&station=ETAR&station=ETAS&station=ETBA&station=ETBB&station=ETBS&station=ETEB&station=ETEH&station=ETEU&station=ETGB&station=ETGG&station=ETGI&station=ETGK&station=ETGM&station=ETGQ&station=ETGW&station=ETGY&station=ETGZ&station=ETHA&station=ETHB&station=ETHC&station=ETHE&station=ETHF&station=ETHI&station=ETHL&station=ETHM&station=ETHN&station=ETHR&station=ETHS&station=ETHT&station=ETIC&station=ETID&station=ETIE&station=ETIH&station=ETIK&station=ETIN&station=ETME&station=ETMK&station=ETML&station=ETMN&station=ETNA&station=ETND&station=ETNG&station=ETNH&station=ETNJ&station=ETNL&station=ETNN&station=ETNP&station=ETNS&station=ETNT&station=ETNU&station=ETNW&station=ETOR&station=ETOU&station=ETSA&station=ETSB&station=ETSE&station=ETSF&station=ETSH&station=ETSI&station=ETSL&station=ETSM&station=ETSN&station=ETSP&station=ETUL&station=ETUN&station=ETUO&station=ETUR&station=ETWM&station=KQAA&station=KQAB&station=KQAC&station=KQAK&station=KQAO&station=KQII&station=KQKT&station=KQKW&station=KQLB&station=KQQL&station=KQUB&data=tmpc&data=relh&year1=2013&month1=1&day1=1&year2=2015&month2=12&day2=31&tz=Etc%2FUTC&format=onlycomma&latlon=yes&direct=no&report_type=1&report_type=2'"
   ]
  },
  {
   "cell_type": "code",
   "execution_count": 165,
   "metadata": {},
   "outputs": [],
   "source": [
    "weather_stn = pd.read_csv(weather_stn)"
   ]
  },
  {
   "cell_type": "code",
   "execution_count": 166,
   "metadata": {},
   "outputs": [
    {
     "data": {
      "text/html": [
       "<div>\n",
       "<style scoped>\n",
       "    .dataframe tbody tr th:only-of-type {\n",
       "        vertical-align: middle;\n",
       "    }\n",
       "\n",
       "    .dataframe tbody tr th {\n",
       "        vertical-align: top;\n",
       "    }\n",
       "\n",
       "    .dataframe thead th {\n",
       "        text-align: right;\n",
       "    }\n",
       "</style>\n",
       "<table border=\"1\" class=\"dataframe\">\n",
       "  <thead>\n",
       "    <tr style=\"text-align: right;\">\n",
       "      <th></th>\n",
       "      <th>stid</th>\n",
       "      <th>station_name</th>\n",
       "      <th>lat</th>\n",
       "      <th>lon</th>\n",
       "      <th>elev</th>\n",
       "      <th>begints</th>\n",
       "      <th>iem_network</th>\n",
       "    </tr>\n",
       "  </thead>\n",
       "  <tbody>\n",
       "    <tr>\n",
       "      <th>0</th>\n",
       "      <td>EDKA</td>\n",
       "      <td>Aachen Merzbruck</td>\n",
       "      <td>50.82420</td>\n",
       "      <td>6.18700</td>\n",
       "      <td>191.069</td>\n",
       "      <td>2018-01-12 07:00:00-06</td>\n",
       "      <td>DE__ASOS</td>\n",
       "    </tr>\n",
       "    <tr>\n",
       "      <th>1</th>\n",
       "      <td>EDAC</td>\n",
       "      <td>ALTENBURG-NOBITZ</td>\n",
       "      <td>50.98182</td>\n",
       "      <td>12.50636</td>\n",
       "      <td>195.000</td>\n",
       "      <td>2011-01-03 01:20:00-06</td>\n",
       "      <td>DE__ASOS</td>\n",
       "    </tr>\n",
       "    <tr>\n",
       "      <th>2</th>\n",
       "      <td>ETHA</td>\n",
       "      <td>ALTENSTADT/SCHON</td>\n",
       "      <td>47.83639</td>\n",
       "      <td>10.87222</td>\n",
       "      <td>760.000</td>\n",
       "      <td>2011-08-22 22:20:00-05</td>\n",
       "      <td>DE__ASOS</td>\n",
       "    </tr>\n",
       "    <tr>\n",
       "      <th>3</th>\n",
       "      <td>EDMA</td>\n",
       "      <td>AUGSBERG/MULHAUS</td>\n",
       "      <td>48.42611</td>\n",
       "      <td>10.94306</td>\n",
       "      <td>463.000</td>\n",
       "      <td>2011-07-02 00:20:00-05</td>\n",
       "      <td>DE__ASOS</td>\n",
       "    </tr>\n",
       "    <tr>\n",
       "      <th>4</th>\n",
       "      <td>EDDB</td>\n",
       "      <td>BERLIN/SCHONEFEL</td>\n",
       "      <td>52.38222</td>\n",
       "      <td>13.53250</td>\n",
       "      <td>48.000</td>\n",
       "      <td>2010-12-31 18:20:00-06</td>\n",
       "      <td>DE__ASOS</td>\n",
       "    </tr>\n",
       "  </tbody>\n",
       "</table>\n",
       "</div>"
      ],
      "text/plain": [
       "   stid      station_name       lat       lon     elev  \\\n",
       "0  EDKA  Aachen Merzbruck  50.82420   6.18700  191.069   \n",
       "1  EDAC  ALTENBURG-NOBITZ  50.98182  12.50636  195.000   \n",
       "2  ETHA  ALTENSTADT/SCHON  47.83639  10.87222  760.000   \n",
       "3  EDMA  AUGSBERG/MULHAUS  48.42611  10.94306  463.000   \n",
       "4  EDDB  BERLIN/SCHONEFEL  52.38222  13.53250   48.000   \n",
       "\n",
       "                  begints iem_network  \n",
       "0  2018-01-12 07:00:00-06    DE__ASOS  \n",
       "1  2011-01-03 01:20:00-06    DE__ASOS  \n",
       "2  2011-08-22 22:20:00-05    DE__ASOS  \n",
       "3  2011-07-02 00:20:00-05    DE__ASOS  \n",
       "4  2010-12-31 18:20:00-06    DE__ASOS  "
      ]
     },
     "execution_count": 166,
     "metadata": {},
     "output_type": "execute_result"
    }
   ],
   "source": [
    "weather_stn.head()"
   ]
  },
  {
   "cell_type": "markdown",
   "metadata": {},
   "source": [
    "<br>\n",
    "<h3>Objective/To Do :</h3> \n",
    "<hr>\n",
    "<ul><li>Finding what stations lie within which region so that they can be mapped to their respective station</ul>"
   ]
  },
  {
   "cell_type": "code",
   "execution_count": 167,
   "metadata": {},
   "outputs": [],
   "source": [
    "#h = geocoders.Nominatim()\n",
    "#for index, row in weather_stn.iterrows():\n",
    "#    res = h.reverse(query=[row['lat'], row['lon']])\n",
    "#    print(res[0])"
   ]
  },
  {
   "cell_type": "code",
   "execution_count": 168,
   "metadata": {},
   "outputs": [
    {
     "name": "stdout",
     "output_type": "stream",
     "text": [
      "[NbConvertApp] Converting notebook ads_creation.ipynb to html\n",
      "[NbConvertApp] Writing 423579 bytes to ads_creation.html\n"
     ]
    }
   ],
   "source": [
    "!jupyter nbconvert --to html ads_creation.ipynb\n",
    "os.rename('ads_creation.html', 'index.html')"
   ]
  },
  {
   "cell_type": "markdown",
   "metadata": {},
   "source": [
    "<div style=\"background-color:#7a1400;height:40px;padding-top:0.1px;\">\n",
    "<h6 align=center style=\"color:white\">\n",
    "<a href=\"https://www.linkedin.com/in/avinashpasupulate/\" style=\"color:white\">Avinash Pasupulate - Linkedin Profile</a>\n",
    "</h6> \n",
    "</div>"
   ]
  }
 ],
 "metadata": {
  "kernelspec": {
   "display_name": "Python 3",
   "language": "python",
   "name": "python3"
  },
  "language_info": {
   "codemirror_mode": {
    "name": "ipython",
    "version": 3
   },
   "file_extension": ".py",
   "mimetype": "text/x-python",
   "name": "python",
   "nbconvert_exporter": "python",
   "pygments_lexer": "ipython3",
   "version": "3.5.6"
  }
 },
 "nbformat": 4,
 "nbformat_minor": 2
}
