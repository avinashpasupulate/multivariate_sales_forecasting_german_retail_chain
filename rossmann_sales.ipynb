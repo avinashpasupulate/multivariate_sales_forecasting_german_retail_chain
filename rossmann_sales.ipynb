{
 "cells": [
  {
   "cell_type": "code",
   "execution_count": null,
   "metadata": {},
   "outputs": [],
   "source": []
  },
  {
   "cell_type": "markdown",
   "metadata": {},
   "source": [
    "Rossmann operates over 3,000 drug stores in 7 European countries. Currently, Rossmann store managers are tasked with predicting their daily sales for up to six weeks in advance. Store sales are influenced by many factors, including promotions, competition, school and state holidays, seasonality, and locality. With thousands of individual managers predicting sales based on their unique circumstances, the accuracy of results can be quite varied.\n",
    "\n",
    "In their first Kaggle competition, Rossmann is challenging you to predict 6 weeks of daily sales for 1,115 stores located across Germany. Reliable sales forecasts enable store managers to create effective staff schedules that increase productivity and motivation. By helping Rossmann create a robust prediction model, you will help store managers stay focused on what’s most important to them: their customers and their teams! "
   ]
  },
  {
   "cell_type": "code",
   "execution_count": 5,
   "metadata": {},
   "outputs": [],
   "source": [
    "import os\n",
    "import copy\n",
    "import warnings\n",
    "import subprocess\n",
    "import numpy as np\n",
    "import pandas as pd\n",
    "import seaborn as sns\n",
    "import matplotlib as plt\n",
    "from pytrends.request import TrendReq\n",
    "%matplotlib inline\n",
    "warnings.filterwarnings('ignore')\n",
    "pd.set_option('display.max_columns', 100)"
   ]
  },
  {
   "cell_type": "code",
   "execution_count": 6,
   "metadata": {},
   "outputs": [],
   "source": [
    "cwd = os.getcwd()"
   ]
  },
  {
   "cell_type": "code",
   "execution_count": 7,
   "metadata": {},
   "outputs": [
    {
     "name": "stdout",
     "output_type": "stream",
     "text": [
      "external_data\n",
      "raw_data\n",
      "\n"
     ]
    }
   ],
   "source": [
    "#list all files in data folder\n",
    "print(subprocess.check_output(['ls','data/']).decode('UTF-8'))"
   ]
  },
  {
   "cell_type": "code",
   "execution_count": 8,
   "metadata": {},
   "outputs": [],
   "source": [
    "'''\n",
    "importing all files, considering onle two files test \n",
    "and store since sales data is not available in test station\n",
    "'''\n",
    "store = pd.read_csv(cwd+'/data/raw_data/store.csv')\n",
    "test = pd.read_csv(cwd+'/data/raw_data/test.csv')\n",
    "train = pd.read_csv(cwd+'/data/raw_data/train.csv')\n",
    "date_master = pd.read_excel(cwd+'/data/external_data/date_master.xlsx', sheet_name='date_master')\n",
    "google_trends = pd.read_csv(cwd+'/data/external_data/google_trends.csv')"
   ]
  },
  {
   "cell_type": "markdown",
   "metadata": {},
   "source": [
    "Data fields\n",
    "Most of the fields are self-explanatory. The following are descriptions for those that aren't.\n",
    "\n",
    "* **Id** - an Id that represents a (Store, Date) duple within the test set\n",
    "* **Store** - a unique Id for each store\n",
    "* **Sales** - the turnover for any given day (this is what you are predicting)\n",
    "* **Customers** - the number of customers on a given day\n",
    "* **Open** - an indicator for whether the store was open: 0 = closed, 1 = open\n",
    "* **StateHoliday** - indicates a state holiday. Normally all stores, with few exceptions, are closed on state holidays. Note that all schools are closed on public holidays and weekends. a = public holiday, b = Easter holiday, c = Christmas, 0 = None\n",
    "* **SchoolHoliday** - indicates if the (Store, Date) was affected by the closure of public schools\n",
    "* **StoreType** - differentiates between 4 different store models: a, b, c, d\n",
    "* **Assortment** - describes an assortment level: a = basic, b = extra, c = extended\n",
    "* **CompetitionDistance** - distance in meters to the nearest competitor store\n",
    "* **CompetitionOpenSince[Month/Year]** - gives the approximate year and month of the time the nearest competitor was opened\n",
    "* **Promo** - indicates whether a store is running a promo on that day\n",
    "* **Promo2** - Promo2 is a continuing and consecutive promotion for some stores: 0 = store is not participating, 1 = store is participating\n",
    "* **Promo2Since[Year/Week]** - describes the year and calendar week when the store started participating in Promo2\n",
    "* **PromoInterval** - describes the consecutive intervals Promo2 is started, naming the months the promotion is started anew. E.g. \"Feb,May,Aug,Nov\" means each round starts in February, May, August, November of any given year for that store"
   ]
  },
  {
   "cell_type": "code",
   "execution_count": 9,
   "metadata": {},
   "outputs": [],
   "source": [
    "#creating working copy of the train data\n",
    "sales = copy.deepcopy(train)"
   ]
  },
  {
   "cell_type": "code",
   "execution_count": 10,
   "metadata": {},
   "outputs": [],
   "source": [
    "#replacing categories in StateHoliday column \n",
    "holmap = {'0':0, 'a':'public holiday', 'b':'easter holiday', 'c':'christmas holiday', 0:0}\n",
    "sales.StateHoliday = sales.StateHoliday.map(holmap)"
   ]
  },
  {
   "cell_type": "code",
   "execution_count": 11,
   "metadata": {},
   "outputs": [],
   "source": [
    "#created date_holiday_master with list of holidays\n",
    "#acquired from https://www.timeanddate.com/holidays/germany/\n",
    "#merging the train dataset with the date holiday master created with excel\n",
    "sales.rename(columns={'Date':'date'}, inplace=True)\n",
    "date_master.rename(columns={'date ':'date'}, inplace=True)\n",
    "sales['date']=pd.to_datetime(sales['date'])\n",
    "sales = sales.merge(date_master, how='left', on='date', suffixes={'','_dm'})"
   ]
  },
  {
   "cell_type": "code",
   "execution_count": 12,
   "metadata": {},
   "outputs": [],
   "source": [
    "#getting only required columns\n",
    "sales=sales[['Store', 'date', 'Sales', 'Customers', 'Open', 'Promo',\n",
    "       'StateHoliday', 'SchoolHoliday', 'year', 'day',\n",
    "       'iso_weeknum', 'weekday', 'month', 'seasons', 'quarter',\n",
    "       'holidays', 'holiday_type', 'regions_observed']]\n",
    "sales_cp = copy.deepcopy(sales)"
   ]
  },
  {
   "cell_type": "code",
   "execution_count": 13,
   "metadata": {},
   "outputs": [
    {
     "data": {
      "text/plain": [
       "array([nan, 'BW, BY, HE, NRW, RLP, SL', 'B, BB, MVP, SN, ST, TH',\n",
       "       'Brandenburg', 'BW, BY, ST', 'Saxony', 'BW, BY, NRW, RLP, SL',\n",
       "       'BB, MVP, SN, ST, TH', 'Bavaria, Saarland', 'Bavaria*',\n",
       "       'All except BB', 'BW,\\xa0BY,\\xa0NRW,\\xa0RLP,\\xa0SL',\n",
       "       'BB,\\xa0MVP,\\xa0SN,\\xa0ST,\\xa0TH',\n",
       "       'B,\\xa0BB,\\xa0MVP,\\xa0SN,\\xa0ST,\\xa0TH',\n",
       "       'BW,\\xa0BY,\\xa0HE,\\xa0NRW,\\xa0RLP,\\xa0SL', 'All except\\xa0BB',\n",
       "       'BW,\\xa0BY,\\xa0ST'], dtype=object)"
      ]
     },
     "execution_count": 13,
     "metadata": {},
     "output_type": "execute_result"
    }
   ],
   "source": [
    "#recoding categories in the regions_observed column\n",
    "sales_cp.regions_observed.unique()"
   ]
  },
  {
   "cell_type": "code",
   "execution_count": 14,
   "metadata": {},
   "outputs": [],
   "source": [
    "state_map = {'nan':None,\n",
    "'BW, BY, HE, NRW, RLP, SL':'BW, BY, HE, NW, RP, SL',\n",
    "'B, BB, MVP, SN, ST, TH':'B, BB, MV, SN, ST, TH',\n",
    "'Brandenburg':'BB',\n",
    "'BW, BY, ST':'BW, BY, ST',\n",
    "'Saxony':'SN',\n",
    "'BW, BY, NRW, RLP, SL':'BW, BY, NW, RP, SL',\n",
    "'BB, MVP, SN, ST, TH':'BB, MV, SN, ST, TH',\n",
    "'Bavaria, Saarland':'BY, SL',\n",
    "'Bavaria*':'BY',\n",
    "'All except BB': 'BW, BY, BE, HB, HH, HE, NI, MV, RP, SL, SN, ST, SH, TH, NW',\n",
    "'BW,\\xa0BY,\\xa0NRW,\\xa0RLP,\\xa0SL': 'BW, BY, NW, RP, SL',\n",
    "'BB,\\xa0MVP,\\xa0SN,\\xa0ST,\\xa0TH':'BB, MV, SN, ST, TH',\n",
    "'B,\\xa0BB,\\xa0MVP,\\xa0SN,\\xa0ST,\\xa0TH':'B, BB, MV, SN, ST, TH',\n",
    "'BW,\\xa0BY,\\xa0HE,\\xa0NRW,\\xa0RLP,\\xa0SL':'BW, BY, HE, NW, RP, SL', \n",
    "'All except\\xa0BB':'BW, BY, BE, HB, HH, HE, NI, MV, RP, SL, SN, ST, SH, TH, NW',\n",
    "'BW,\\xa0BY,\\xa0ST':'BW, BY, ST'}\n",
    "sales_cp.regions_observed = sales_cp.regions_observed.map(state_map)"
   ]
  },
  {
   "cell_type": "code",
   "execution_count": 15,
   "metadata": {},
   "outputs": [
    {
     "data": {
      "text/plain": [
       "array([nan, 'BW, BY, HE, NW, RP, SL', 'B, BB, MV, SN, ST, TH', 'BB',\n",
       "       'BW, BY, ST', 'SN', 'BW, BY, NW, RP, SL', 'BB, MV, SN, ST, TH',\n",
       "       'BY, SL', 'BY',\n",
       "       'BW, BY, BE, HB, HH, HE, NI, MV, RP, SL, SN, ST, SH, TH, NW'],\n",
       "      dtype=object)"
      ]
     },
     "execution_count": 15,
     "metadata": {},
     "output_type": "execute_result"
    }
   ],
   "source": [
    "#categories in regions_observed after recoding\n",
    "sales_cp.regions_observed.unique()"
   ]
  },
  {
   "cell_type": "code",
   "execution_count": 16,
   "metadata": {},
   "outputs": [],
   "source": [
    "#subsetting data with only stores and regions_observed columns\n",
    "#sales_cp.loc[sales_cp.StateHoliday!='public holiday', 'regions_observed'] = None\n",
    "state_hol = sales_cp[sales_cp.StateHoliday=='public holiday']\n",
    "state_hol_sub = state_hol[['Store','regions_observed']]\n",
    "hol_agg = state_hol_sub.groupby(['regions_observed'])['Store'].nunique().reset_index()\n"
   ]
  },
  {
   "cell_type": "code",
   "execution_count": 17,
   "metadata": {},
   "outputs": [
    {
     "data": {
      "text/html": [
       "<div>\n",
       "<style scoped>\n",
       "    .dataframe tbody tr th:only-of-type {\n",
       "        vertical-align: middle;\n",
       "    }\n",
       "\n",
       "    .dataframe tbody tr th {\n",
       "        vertical-align: top;\n",
       "    }\n",
       "\n",
       "    .dataframe thead th {\n",
       "        text-align: right;\n",
       "    }\n",
       "</style>\n",
       "<table border=\"1\" class=\"dataframe\">\n",
       "  <thead>\n",
       "    <tr style=\"text-align: right;\">\n",
       "      <th></th>\n",
       "      <th>regions_observed</th>\n",
       "      <th>Store</th>\n",
       "    </tr>\n",
       "  </thead>\n",
       "  <tbody>\n",
       "    <tr>\n",
       "      <th>0</th>\n",
       "      <td>BB, MV, SN, ST, TH</td>\n",
       "      <td>167</td>\n",
       "    </tr>\n",
       "    <tr>\n",
       "      <th>1</th>\n",
       "      <td>BW, BY, HE, NW, RP, SL</td>\n",
       "      <td>766</td>\n",
       "    </tr>\n",
       "    <tr>\n",
       "      <th>2</th>\n",
       "      <td>BW, BY, NW, RP, SL</td>\n",
       "      <td>579</td>\n",
       "    </tr>\n",
       "    <tr>\n",
       "      <th>3</th>\n",
       "      <td>BW, BY, ST</td>\n",
       "      <td>309</td>\n",
       "    </tr>\n",
       "    <tr>\n",
       "      <th>4</th>\n",
       "      <td>BY, SL</td>\n",
       "      <td>180</td>\n",
       "    </tr>\n",
       "    <tr>\n",
       "      <th>5</th>\n",
       "      <td>SN</td>\n",
       "      <td>75</td>\n",
       "    </tr>\n",
       "  </tbody>\n",
       "</table>\n",
       "</div>"
      ],
      "text/plain": [
       "         regions_observed  Store\n",
       "0      BB, MV, SN, ST, TH    167\n",
       "1  BW, BY, HE, NW, RP, SL    766\n",
       "2      BW, BY, NW, RP, SL    579\n",
       "3              BW, BY, ST    309\n",
       "4                  BY, SL    180\n",
       "5                      SN     75"
      ]
     },
     "execution_count": 17,
     "metadata": {},
     "output_type": "execute_result"
    }
   ],
   "source": [
    "#un-processed aggregation with overlapping regions\n",
    "hol_agg"
   ]
  },
  {
   "cell_type": "code",
   "execution_count": 18,
   "metadata": {},
   "outputs": [
    {
     "data": {
      "image/png": "[encoded data removed]",
      "text/plain": [
       "<Figure size 432x288 with 1 Axes>"
      ]
     },
     "metadata": {
      "needs_background": "light"
     },
     "output_type": "display_data"
    }
   ],
   "source": [
    "ax = sns.barplot(x=hol_agg.Store, y=hol_agg.regions_observed)"
   ]
  },
  {
   "cell_type": "code",
   "execution_count": 19,
   "metadata": {},
   "outputs": [],
   "source": [
    "#creating subsets with the region clusters for finding intersect and union of the datasets\n",
    "reg_1 = state_hol_sub[state_hol_sub.regions_observed=='BW, BY, ST']\n",
    "reg_2 = state_hol_sub[state_hol_sub.regions_observed=='BY, SL']\n",
    "reg_3 = state_hol_sub[state_hol_sub.regions_observed=='BW, BY, NW, RP, SL']\n",
    "reg_4 = state_hol_sub[state_hol_sub.regions_observed=='BW, BY, HE, NW, RP, SL']\n",
    "reg_5 = state_hol_sub[state_hol_sub.regions_observed=='BB, MV, SN, ST, TH']"
   ]
  },
  {
   "cell_type": "code",
   "execution_count": 20,
   "metadata": {},
   "outputs": [],
   "source": [
    "SN = state_hol_sub[state_hol_sub.regions_observed=='SN']"
   ]
  },
  {
   "cell_type": "code",
   "execution_count": 21,
   "metadata": {},
   "outputs": [],
   "source": [
    "BY = pd.DataFrame(np.intersect1d(reg_1.Store, reg_2.Store))\n",
    "BY = state_hol_sub[state_hol_sub.Store.isin(BY[0])].drop_duplicates()"
   ]
  },
  {
   "cell_type": "code",
   "execution_count": 22,
   "metadata": {},
   "outputs": [],
   "source": [
    "BW_ST = pd.DataFrame(np.setxor1d(reg_1.Store, BY.Store))\n",
    "BW_ST = state_hol_sub[state_hol_sub.Store.isin(BW_ST[0])].drop_duplicates()\n",
    "BW = pd.DataFrame(np.intersect1d(reg_3.Store, BW_ST.Store))\n",
    "BW = state_hol_sub[state_hol_sub.Store.isin(BW[0])].drop_duplicates()"
   ]
  },
  {
   "cell_type": "code",
   "execution_count": 23,
   "metadata": {},
   "outputs": [],
   "source": [
    "ST = pd.DataFrame(np.setxor1d(BW.Store, BW_ST.Store))\n",
    "ST = state_hol_sub[state_hol_sub.Store.isin(ST[0])].drop_duplicates()"
   ]
  },
  {
   "cell_type": "code",
   "execution_count": 24,
   "metadata": {},
   "outputs": [],
   "source": [
    "SL = pd.DataFrame(np.setxor1d(reg_2.Store, BY.Store))\n",
    "SL = state_hol_sub[state_hol_sub.Store.isin(SL[0])].drop_duplicates()"
   ]
  },
  {
   "cell_type": "code",
   "execution_count": 25,
   "metadata": {},
   "outputs": [],
   "source": [
    "#for some reason HE also seems to contain SN, removing from the subset\n",
    "HE_SN = pd.DataFrame(np.setxor1d(reg_3.Store, reg_4.Store))\n",
    "HE_SN = state_hol_sub[state_hol_sub.Store.isin(HE_SN[0])].drop_duplicates()\n",
    "HE = pd.DataFrame(np.setxor1d(HE_SN.Store, SN.Store))\n",
    "HE = state_hol_sub[state_hol_sub.Store.isin(HE[0])].drop_duplicates()"
   ]
  },
  {
   "cell_type": "code",
   "execution_count": 26,
   "metadata": {},
   "outputs": [],
   "source": [
    "NW_RP_1 = pd.DataFrame(np.setxor1d(reg_3.Store, BW.Store))\n",
    "NW_RP_1 = state_hol_sub[state_hol_sub.Store.isin(NW_RP_1[0])].drop_duplicates()\n",
    "NW_RP_2 = pd.DataFrame(np.setxor1d(NW_RP_1.Store, BY.Store))\n",
    "NW_RP_2 = state_hol_sub[state_hol_sub.Store.isin(NW_RP_2[0])].drop_duplicates()\n",
    "NW_RP = pd.DataFrame(np.setxor1d(NW_RP_2.Store, SL.Store))\n",
    "NW_RP = state_hol_sub[state_hol_sub.Store.isin(NW_RP[0])].drop_duplicates()"
   ]
  },
  {
   "cell_type": "code",
   "execution_count": 27,
   "metadata": {},
   "outputs": [],
   "source": [
    "BB_MV_TH_1 = pd.DataFrame(np.setxor1d(reg_5.Store, SN.Store))\n",
    "BB_MV_TH_1 = state_hol_sub[state_hol_sub.Store.isin(BB_MV_TH_1[0])].drop_duplicates()\n",
    "BB_MV_TH = pd.DataFrame(np.setxor1d(BB_MV_TH_1.Store, ST.Store))\n",
    "BB_MV_TH = state_hol_sub[state_hol_sub.Store.isin(BB_MV_TH[0])].drop_duplicates()"
   ]
  },
  {
   "cell_type": "code",
   "execution_count": 28,
   "metadata": {},
   "outputs": [],
   "source": [
    "#finding the stores all over germany except for the ones listed above\n",
    "ALL = pd.DataFrame(sales_cp['Store'].unique())\n",
    "ALL_1 = pd.DataFrame(np.setxor1d(ALL[0], reg_4.Store))\n",
    "ALL_1 = state_hol_sub[state_hol_sub.Store.isin(ALL_1[0])].drop_duplicates()\n",
    "BE_HB_HH_NI_SH = pd.DataFrame(np.setxor1d(ALL_1.Store, reg_5.Store))\n",
    "BE_HB_HH_NI_SH = ALL_1[ALL_1.Store.isin(BE_HB_HH_NI_SH[0])].drop_duplicates()"
   ]
  },
  {
   "cell_type": "code",
   "execution_count": 29,
   "metadata": {},
   "outputs": [],
   "source": [
    "#naming dataframes and looking for common values\n",
    "SN.name='SN'\n",
    "ST.name='ST'\n",
    "BW.name='BW'\n",
    "BY.name='BY'\n",
    "HE.name='HE'\n",
    "SL.name='SL'\n",
    "NW_RP.name='NW_RP'\n",
    "BB_MV_TH.name='BB_MV_TH'\n",
    "BE_HB_HH_NI_SH.name='BE_HB_HH_NI_SH'"
   ]
  },
  {
   "cell_type": "code",
   "execution_count": 30,
   "metadata": {},
   "outputs": [
    {
     "name": "stdout",
     "output_type": "stream",
     "text": [
      "SN SN True\n",
      "ST ST True\n",
      "BW BW True\n",
      "BY BY True\n",
      "HE HE True\n",
      "SL SL True\n",
      "NW_RP NW_RP True\n",
      "BB_MV_TH BB_MV_TH True\n",
      "BE_HB_HH_NI_SH BE_HB_HH_NI_SH True\n"
     ]
    }
   ],
   "source": [
    "city = [SN, ST, BW, BY, HE, SL, NW_RP, BB_MV_TH, BE_HB_HH_NI_SH]\n",
    "for i in range(len(city)):\n",
    "    for j in range(len(city)):\n",
    "        if np.array_equal(city[i].Store, city[j].Store):\n",
    "            print(city[i].name,city[j].name,np.array_equal(city[i].Store, city[j].Store))"
   ]
  },
  {
   "cell_type": "code",
   "execution_count": 31,
   "metadata": {},
   "outputs": [],
   "source": [
    "#adding columns in subsets with mapped region\n",
    "SN['mapped_region'] = \"SN\"\n",
    "ST['mapped_region'] = \"ST\"\n",
    "BW['mapped_region'] = \"BW\"\n",
    "BY['mapped_region'] = \"BY\"\n",
    "HE['mapped_region'] = \"HE\"\n",
    "SL['mapped_region'] = \"SL\"\n",
    "NW_RP['mapped_region'] = \"NW_RP\"\n",
    "BB_MV_TH['mapped_region'] = \"BB_MV_TH\"\n",
    "BE_HB_HH_NI_SH['mapped_region'] = \"BE_HB_HH_NI_SH\""
   ]
  },
  {
   "cell_type": "code",
   "execution_count": 32,
   "metadata": {},
   "outputs": [],
   "source": [
    "#combining all store-region mapping subsets\n",
    "frames = [SN, ST, BW, BY, HE, SL, NW_RP, BB_MV_TH, BE_HB_HH_NI_SH]\n",
    "store_reg = pd.concat(frames).drop_duplicates()"
   ]
  },
  {
   "cell_type": "code",
   "execution_count": 33,
   "metadata": {},
   "outputs": [
    {
     "data": {
      "text/html": [
       "<div>\n",
       "<style scoped>\n",
       "    .dataframe tbody tr th:only-of-type {\n",
       "        vertical-align: middle;\n",
       "    }\n",
       "\n",
       "    .dataframe tbody tr th {\n",
       "        vertical-align: top;\n",
       "    }\n",
       "\n",
       "    .dataframe thead th {\n",
       "        text-align: right;\n",
       "    }\n",
       "</style>\n",
       "<table border=\"1\" class=\"dataframe\">\n",
       "  <thead>\n",
       "    <tr style=\"text-align: right;\">\n",
       "      <th></th>\n",
       "      <th>mapped_region</th>\n",
       "      <th>Store</th>\n",
       "    </tr>\n",
       "  </thead>\n",
       "  <tbody>\n",
       "    <tr>\n",
       "      <th>0</th>\n",
       "      <td>BB_MV_TH</td>\n",
       "      <td>36</td>\n",
       "    </tr>\n",
       "    <tr>\n",
       "      <th>1</th>\n",
       "      <td>BE_HB_HH_NI_SH</td>\n",
       "      <td>257</td>\n",
       "    </tr>\n",
       "    <tr>\n",
       "      <th>2</th>\n",
       "      <td>BW</td>\n",
       "      <td>73</td>\n",
       "    </tr>\n",
       "    <tr>\n",
       "      <th>3</th>\n",
       "      <td>BY</td>\n",
       "      <td>180</td>\n",
       "    </tr>\n",
       "    <tr>\n",
       "      <th>4</th>\n",
       "      <td>HE</td>\n",
       "      <td>112</td>\n",
       "    </tr>\n",
       "    <tr>\n",
       "      <th>5</th>\n",
       "      <td>NW_RP</td>\n",
       "      <td>326</td>\n",
       "    </tr>\n",
       "    <tr>\n",
       "      <th>6</th>\n",
       "      <td>SN</td>\n",
       "      <td>75</td>\n",
       "    </tr>\n",
       "    <tr>\n",
       "      <th>7</th>\n",
       "      <td>ST</td>\n",
       "      <td>56</td>\n",
       "    </tr>\n",
       "  </tbody>\n",
       "</table>\n",
       "</div>"
      ],
      "text/plain": [
       "    mapped_region  Store\n",
       "0        BB_MV_TH     36\n",
       "1  BE_HB_HH_NI_SH    257\n",
       "2              BW     73\n",
       "3              BY    180\n",
       "4              HE    112\n",
       "5           NW_RP    326\n",
       "6              SN     75\n",
       "7              ST     56"
      ]
     },
     "execution_count": 33,
     "metadata": {},
     "output_type": "execute_result"
    }
   ],
   "source": [
    "#processed mapping sums to 1115 stores\n",
    "store_reg.groupby(['mapped_region'])['Store'].nunique().reset_index()"
   ]
  },
  {
   "cell_type": "code",
   "execution_count": 87,
   "metadata": {},
   "outputs": [],
   "source": [
    "#further identifying regions for above clusters using the school holiday information\n",
    "#acquired from https://www.tuxx.uk/countries/germany/schoolholidays/2018/\n",
    "school_hols = pd.read_excel(cwd+'/data/external_data/schol_out_trans.xlsx', sheet_name='transformed_hols')"
   ]
  },
  {
   "cell_type": "code",
   "execution_count": 88,
   "metadata": {},
   "outputs": [
    {
     "data": {
      "text/html": [
       "<div>\n",
       "<style scoped>\n",
       "    .dataframe tbody tr th:only-of-type {\n",
       "        vertical-align: middle;\n",
       "    }\n",
       "\n",
       "    .dataframe tbody tr th {\n",
       "        vertical-align: top;\n",
       "    }\n",
       "\n",
       "    .dataframe thead th {\n",
       "        text-align: right;\n",
       "    }\n",
       "</style>\n",
       "<table border=\"1\" class=\"dataframe\">\n",
       "  <thead>\n",
       "    <tr style=\"text-align: right;\">\n",
       "      <th></th>\n",
       "      <th>region</th>\n",
       "      <th>region_code</th>\n",
       "      <th>holiday</th>\n",
       "      <th>key</th>\n",
       "      <th>from</th>\n",
       "      <th>to</th>\n",
       "    </tr>\n",
       "  </thead>\n",
       "  <tbody>\n",
       "    <tr>\n",
       "      <th>0</th>\n",
       "      <td>Baden-WÃ¼rttemberg</td>\n",
       "      <td>BW</td>\n",
       "      <td>autumn</td>\n",
       "      <td>Baden-WÃ¼rttembergBWautumn</td>\n",
       "      <td>2013-10-28</td>\n",
       "      <td>2013-10-30 00:00:00</td>\n",
       "    </tr>\n",
       "    <tr>\n",
       "      <th>1</th>\n",
       "      <td>Baden-WÃ¼rttemberg</td>\n",
       "      <td>BW</td>\n",
       "      <td>christmas</td>\n",
       "      <td>Baden-WÃ¼rttembergBWchristmas</td>\n",
       "      <td>2012-12-24</td>\n",
       "      <td>2013-01-05 00:00:00</td>\n",
       "    </tr>\n",
       "    <tr>\n",
       "      <th>2</th>\n",
       "      <td>Baden-WÃ¼rttemberg</td>\n",
       "      <td>BW</td>\n",
       "      <td>easter</td>\n",
       "      <td>Baden-WÃ¼rttembergBWeaster</td>\n",
       "      <td>2013-03-25</td>\n",
       "      <td>2013-04-05 00:00:00</td>\n",
       "    </tr>\n",
       "    <tr>\n",
       "      <th>3</th>\n",
       "      <td>Baden-WÃ¼rttemberg</td>\n",
       "      <td>BW</td>\n",
       "      <td>pentecost</td>\n",
       "      <td>Baden-WÃ¼rttembergBWpentecost</td>\n",
       "      <td>2013-05-21</td>\n",
       "      <td>2013-06-01 00:00:00</td>\n",
       "    </tr>\n",
       "    <tr>\n",
       "      <th>4</th>\n",
       "      <td>Baden-WÃ¼rttemberg</td>\n",
       "      <td>BW</td>\n",
       "      <td>summer</td>\n",
       "      <td>Baden-WÃ¼rttembergBWsummer</td>\n",
       "      <td>2013-07-25</td>\n",
       "      <td>2013-09-07 00:00:00</td>\n",
       "    </tr>\n",
       "  </tbody>\n",
       "</table>\n",
       "</div>"
      ],
      "text/plain": [
       "               region region_code    holiday                            key  \\\n",
       "0  Baden-WÃ¼rttemberg          BW     autumn     Baden-WÃ¼rttembergBWautumn   \n",
       "1  Baden-WÃ¼rttemberg          BW  christmas  Baden-WÃ¼rttembergBWchristmas   \n",
       "2  Baden-WÃ¼rttemberg          BW     easter     Baden-WÃ¼rttembergBWeaster   \n",
       "3  Baden-WÃ¼rttemberg          BW  pentecost  Baden-WÃ¼rttembergBWpentecost   \n",
       "4  Baden-WÃ¼rttemberg          BW     summer     Baden-WÃ¼rttembergBWsummer   \n",
       "\n",
       "        from                   to  \n",
       "0 2013-10-28  2013-10-30 00:00:00  \n",
       "1 2012-12-24  2013-01-05 00:00:00  \n",
       "2 2013-03-25  2013-04-05 00:00:00  \n",
       "3 2013-05-21  2013-06-01 00:00:00  \n",
       "4 2013-07-25  2013-09-07 00:00:00  "
      ]
     },
     "execution_count": 88,
     "metadata": {},
     "output_type": "execute_result"
    }
   ],
   "source": [
    "school_hols.head()"
   ]
  },
  {
   "cell_type": "markdown",
   "metadata": {},
   "source": [
    "NW_RP\n",
    "BB_MV_TH\n",
    "BE_HB_HH_NI_SH\n"
   ]
  },
  {
   "cell_type": "code",
   "execution_count": 35,
   "metadata": {},
   "outputs": [],
   "source": [
    "#getting google trend information\n",
    "pytrends = TrendReq(hl='en-US',tz='60')\n",
    "kw_list = ['rossmann']"
   ]
  },
  {
   "cell_type": "code",
   "execution_count": 36,
   "metadata": {},
   "outputs": [],
   "source": [
    "#unable to collect google trends data at a daily level, downloading manually\n",
    "#pytrends.build_payload(kw_list, cat=0, timeframe='today 5-y', geo='DE', gprop='froogle')\n",
    "#ross1318 = pytrends.interest_over_time()"
   ]
  }
 ],
 "metadata": {
  "kernelspec": {
   "display_name": "Python 3",
   "language": "python",
   "name": "python3"
  },
  "language_info": {
   "codemirror_mode": {
    "name": "ipython",
    "version": 3
   },
   "file_extension": ".py",
   "mimetype": "text/x-python",
   "name": "python",
   "nbconvert_exporter": "python",
   "pygments_lexer": "ipython3",
   "version": "3.5.6"
  }
 },
 "nbformat": 4,
 "nbformat_minor": 2
}
